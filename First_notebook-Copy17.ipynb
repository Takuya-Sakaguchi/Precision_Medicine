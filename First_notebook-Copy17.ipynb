{
 "cells": [
  {
   "cell_type": "code",
   "execution_count": 35,
   "metadata": {
    "collapsed": true
   },
   "outputs": [],
   "source": [
    "import pandas as pd\n",
    "import numpy as np\n",
    "from matplotlib import pyplot as plt\n",
    "import seaborn as sns"
   ]
  },
  {
   "cell_type": "markdown",
   "metadata": {},
   "source": [
    "#  Load data"
   ]
  },
  {
   "cell_type": "code",
   "execution_count": 36,
   "metadata": {
    "collapsed": true
   },
   "outputs": [],
   "source": [
    "df_train = pd.read_csv('training_variants')"
   ]
  },
  {
   "cell_type": "code",
   "execution_count": 37,
   "metadata": {},
   "outputs": [
    {
     "data": {
      "text/html": [
       "<div>\n",
       "<table border=\"1\" class=\"dataframe\">\n",
       "  <thead>\n",
       "    <tr style=\"text-align: right;\">\n",
       "      <th></th>\n",
       "      <th>ID</th>\n",
       "      <th>Gene</th>\n",
       "      <th>Variation</th>\n",
       "      <th>Class</th>\n",
       "    </tr>\n",
       "  </thead>\n",
       "  <tbody>\n",
       "    <tr>\n",
       "      <th>0</th>\n",
       "      <td>0</td>\n",
       "      <td>FAM58A</td>\n",
       "      <td>Truncating Mutations</td>\n",
       "      <td>1</td>\n",
       "    </tr>\n",
       "    <tr>\n",
       "      <th>1</th>\n",
       "      <td>1</td>\n",
       "      <td>CBL</td>\n",
       "      <td>W802*</td>\n",
       "      <td>2</td>\n",
       "    </tr>\n",
       "    <tr>\n",
       "      <th>2</th>\n",
       "      <td>2</td>\n",
       "      <td>CBL</td>\n",
       "      <td>Q249E</td>\n",
       "      <td>2</td>\n",
       "    </tr>\n",
       "    <tr>\n",
       "      <th>3</th>\n",
       "      <td>3</td>\n",
       "      <td>CBL</td>\n",
       "      <td>N454D</td>\n",
       "      <td>3</td>\n",
       "    </tr>\n",
       "    <tr>\n",
       "      <th>4</th>\n",
       "      <td>4</td>\n",
       "      <td>CBL</td>\n",
       "      <td>L399V</td>\n",
       "      <td>4</td>\n",
       "    </tr>\n",
       "  </tbody>\n",
       "</table>\n",
       "</div>"
      ],
      "text/plain": [
       "   ID    Gene             Variation  Class\n",
       "0   0  FAM58A  Truncating Mutations      1\n",
       "1   1     CBL                 W802*      2\n",
       "2   2     CBL                 Q249E      2\n",
       "3   3     CBL                 N454D      3\n",
       "4   4     CBL                 L399V      4"
      ]
     },
     "execution_count": 37,
     "metadata": {},
     "output_type": "execute_result"
    }
   ],
   "source": [
    "df_train.head()"
   ]
  },
  {
   "cell_type": "code",
   "execution_count": 38,
   "metadata": {
    "collapsed": true
   },
   "outputs": [],
   "source": [
    "df_test = pd.read_csv('test_variants')"
   ]
  },
  {
   "cell_type": "code",
   "execution_count": 39,
   "metadata": {},
   "outputs": [
    {
     "data": {
      "text/html": [
       "<div>\n",
       "<table border=\"1\" class=\"dataframe\">\n",
       "  <thead>\n",
       "    <tr style=\"text-align: right;\">\n",
       "      <th></th>\n",
       "      <th>ID</th>\n",
       "      <th>Gene</th>\n",
       "      <th>Variation</th>\n",
       "    </tr>\n",
       "  </thead>\n",
       "  <tbody>\n",
       "    <tr>\n",
       "      <th>0</th>\n",
       "      <td>0</td>\n",
       "      <td>ACSL4</td>\n",
       "      <td>R570S</td>\n",
       "    </tr>\n",
       "    <tr>\n",
       "      <th>1</th>\n",
       "      <td>1</td>\n",
       "      <td>NAGLU</td>\n",
       "      <td>P521L</td>\n",
       "    </tr>\n",
       "    <tr>\n",
       "      <th>2</th>\n",
       "      <td>2</td>\n",
       "      <td>PAH</td>\n",
       "      <td>L333F</td>\n",
       "    </tr>\n",
       "    <tr>\n",
       "      <th>3</th>\n",
       "      <td>3</td>\n",
       "      <td>ING1</td>\n",
       "      <td>A148D</td>\n",
       "    </tr>\n",
       "    <tr>\n",
       "      <th>4</th>\n",
       "      <td>4</td>\n",
       "      <td>TMEM216</td>\n",
       "      <td>G77A</td>\n",
       "    </tr>\n",
       "  </tbody>\n",
       "</table>\n",
       "</div>"
      ],
      "text/plain": [
       "   ID     Gene Variation\n",
       "0   0    ACSL4     R570S\n",
       "1   1    NAGLU     P521L\n",
       "2   2      PAH     L333F\n",
       "3   3     ING1     A148D\n",
       "4   4  TMEM216      G77A"
      ]
     },
     "execution_count": 39,
     "metadata": {},
     "output_type": "execute_result"
    }
   ],
   "source": [
    "df_test.head()"
   ]
  },
  {
   "cell_type": "code",
   "execution_count": 40,
   "metadata": {
    "collapsed": true
   },
   "outputs": [],
   "source": [
    "df_train_text = pd.read_csv('training_text', sep=\"\\|\\|\", engine='python', header=None, skiprows=1, names=[\"ID\",\"Text\"])"
   ]
  },
  {
   "cell_type": "code",
   "execution_count": 41,
   "metadata": {},
   "outputs": [
    {
     "data": {
      "text/html": [
       "<div>\n",
       "<table border=\"1\" class=\"dataframe\">\n",
       "  <thead>\n",
       "    <tr style=\"text-align: right;\">\n",
       "      <th></th>\n",
       "      <th>ID</th>\n",
       "      <th>Text</th>\n",
       "    </tr>\n",
       "  </thead>\n",
       "  <tbody>\n",
       "    <tr>\n",
       "      <th>0</th>\n",
       "      <td>0</td>\n",
       "      <td>Cyclin-dependent kinases (CDKs) regulate a var...</td>\n",
       "    </tr>\n",
       "    <tr>\n",
       "      <th>1</th>\n",
       "      <td>1</td>\n",
       "      <td>Abstract Background  Non-small cell lung canc...</td>\n",
       "    </tr>\n",
       "    <tr>\n",
       "      <th>2</th>\n",
       "      <td>2</td>\n",
       "      <td>Abstract Background  Non-small cell lung canc...</td>\n",
       "    </tr>\n",
       "    <tr>\n",
       "      <th>3</th>\n",
       "      <td>3</td>\n",
       "      <td>Recent evidence has demonstrated that acquired...</td>\n",
       "    </tr>\n",
       "    <tr>\n",
       "      <th>4</th>\n",
       "      <td>4</td>\n",
       "      <td>Oncogenic mutations in the monomeric Casitas B...</td>\n",
       "    </tr>\n",
       "  </tbody>\n",
       "</table>\n",
       "</div>"
      ],
      "text/plain": [
       "   ID                                               Text\n",
       "0   0  Cyclin-dependent kinases (CDKs) regulate a var...\n",
       "1   1   Abstract Background  Non-small cell lung canc...\n",
       "2   2   Abstract Background  Non-small cell lung canc...\n",
       "3   3  Recent evidence has demonstrated that acquired...\n",
       "4   4  Oncogenic mutations in the monomeric Casitas B..."
      ]
     },
     "execution_count": 41,
     "metadata": {},
     "output_type": "execute_result"
    }
   ],
   "source": [
    "df_train_text.head()"
   ]
  },
  {
   "cell_type": "code",
   "execution_count": 42,
   "metadata": {
    "collapsed": true
   },
   "outputs": [],
   "source": [
    "df_test_text = pd.read_csv('test_text', sep=\"\\|\\|\", engine='python', header=None, skiprows=1, names=[\"ID\",\"Text\"])"
   ]
  },
  {
   "cell_type": "code",
   "execution_count": 43,
   "metadata": {},
   "outputs": [
    {
     "data": {
      "text/html": [
       "<div>\n",
       "<table border=\"1\" class=\"dataframe\">\n",
       "  <thead>\n",
       "    <tr style=\"text-align: right;\">\n",
       "      <th></th>\n",
       "      <th>ID</th>\n",
       "      <th>Text</th>\n",
       "    </tr>\n",
       "  </thead>\n",
       "  <tbody>\n",
       "    <tr>\n",
       "      <th>0</th>\n",
       "      <td>0</td>\n",
       "      <td>2. This mutation resulted in a myeloproliferat...</td>\n",
       "    </tr>\n",
       "    <tr>\n",
       "      <th>1</th>\n",
       "      <td>1</td>\n",
       "      <td>Abstract The Large Tumor Suppressor 1 (LATS1)...</td>\n",
       "    </tr>\n",
       "    <tr>\n",
       "      <th>2</th>\n",
       "      <td>2</td>\n",
       "      <td>Vascular endothelial growth factor receptor (V...</td>\n",
       "    </tr>\n",
       "    <tr>\n",
       "      <th>3</th>\n",
       "      <td>3</td>\n",
       "      <td>Inflammatory myofibroblastic tumor (IMT) is a ...</td>\n",
       "    </tr>\n",
       "    <tr>\n",
       "      <th>4</th>\n",
       "      <td>4</td>\n",
       "      <td>Abstract Retinoblastoma is a pediatric retina...</td>\n",
       "    </tr>\n",
       "  </tbody>\n",
       "</table>\n",
       "</div>"
      ],
      "text/plain": [
       "   ID                                               Text\n",
       "0   0  2. This mutation resulted in a myeloproliferat...\n",
       "1   1   Abstract The Large Tumor Suppressor 1 (LATS1)...\n",
       "2   2  Vascular endothelial growth factor receptor (V...\n",
       "3   3  Inflammatory myofibroblastic tumor (IMT) is a ...\n",
       "4   4   Abstract Retinoblastoma is a pediatric retina..."
      ]
     },
     "execution_count": 43,
     "metadata": {},
     "output_type": "execute_result"
    }
   ],
   "source": [
    "df_test_text.head()"
   ]
  },
  {
   "cell_type": "code",
   "execution_count": 44,
   "metadata": {
    "collapsed": true
   },
   "outputs": [],
   "source": [
    "df_submission = pd.read_csv('submissionFile')"
   ]
  },
  {
   "cell_type": "code",
   "execution_count": 45,
   "metadata": {},
   "outputs": [
    {
     "data": {
      "text/html": [
       "<div>\n",
       "<table border=\"1\" class=\"dataframe\">\n",
       "  <thead>\n",
       "    <tr style=\"text-align: right;\">\n",
       "      <th></th>\n",
       "      <th>ID</th>\n",
       "      <th>class1</th>\n",
       "      <th>class2</th>\n",
       "      <th>class3</th>\n",
       "      <th>class4</th>\n",
       "      <th>class5</th>\n",
       "      <th>class6</th>\n",
       "      <th>class7</th>\n",
       "      <th>class8</th>\n",
       "      <th>class9</th>\n",
       "    </tr>\n",
       "  </thead>\n",
       "  <tbody>\n",
       "    <tr>\n",
       "      <th>0</th>\n",
       "      <td>0</td>\n",
       "      <td>0</td>\n",
       "      <td>0</td>\n",
       "      <td>0</td>\n",
       "      <td>0</td>\n",
       "      <td>0</td>\n",
       "      <td>1</td>\n",
       "      <td>0</td>\n",
       "      <td>0</td>\n",
       "      <td>0</td>\n",
       "    </tr>\n",
       "    <tr>\n",
       "      <th>1</th>\n",
       "      <td>1</td>\n",
       "      <td>0</td>\n",
       "      <td>1</td>\n",
       "      <td>0</td>\n",
       "      <td>0</td>\n",
       "      <td>0</td>\n",
       "      <td>0</td>\n",
       "      <td>0</td>\n",
       "      <td>0</td>\n",
       "      <td>0</td>\n",
       "    </tr>\n",
       "    <tr>\n",
       "      <th>2</th>\n",
       "      <td>2</td>\n",
       "      <td>0</td>\n",
       "      <td>0</td>\n",
       "      <td>0</td>\n",
       "      <td>0</td>\n",
       "      <td>0</td>\n",
       "      <td>1</td>\n",
       "      <td>0</td>\n",
       "      <td>0</td>\n",
       "      <td>0</td>\n",
       "    </tr>\n",
       "    <tr>\n",
       "      <th>3</th>\n",
       "      <td>3</td>\n",
       "      <td>0</td>\n",
       "      <td>0</td>\n",
       "      <td>0</td>\n",
       "      <td>0</td>\n",
       "      <td>0</td>\n",
       "      <td>0</td>\n",
       "      <td>0</td>\n",
       "      <td>1</td>\n",
       "      <td>0</td>\n",
       "    </tr>\n",
       "    <tr>\n",
       "      <th>4</th>\n",
       "      <td>4</td>\n",
       "      <td>0</td>\n",
       "      <td>0</td>\n",
       "      <td>0</td>\n",
       "      <td>1</td>\n",
       "      <td>0</td>\n",
       "      <td>0</td>\n",
       "      <td>0</td>\n",
       "      <td>0</td>\n",
       "      <td>0</td>\n",
       "    </tr>\n",
       "  </tbody>\n",
       "</table>\n",
       "</div>"
      ],
      "text/plain": [
       "   ID  class1  class2  class3  class4  class5  class6  class7  class8  class9\n",
       "0   0       0       0       0       0       0       1       0       0       0\n",
       "1   1       0       1       0       0       0       0       0       0       0\n",
       "2   2       0       0       0       0       0       1       0       0       0\n",
       "3   3       0       0       0       0       0       0       0       1       0\n",
       "4   4       0       0       0       1       0       0       0       0       0"
      ]
     },
     "execution_count": 45,
     "metadata": {},
     "output_type": "execute_result"
    }
   ],
   "source": [
    "df_submission.head()"
   ]
  },
  {
   "cell_type": "markdown",
   "metadata": {},
   "source": [
    "#  merging test and train data for processing"
   ]
  },
  {
   "cell_type": "code",
   "execution_count": 46,
   "metadata": {
    "collapsed": true
   },
   "outputs": [],
   "source": [
    "df_test[\"Class\"] = -1"
   ]
  },
  {
   "cell_type": "code",
   "execution_count": 47,
   "metadata": {
    "collapsed": true
   },
   "outputs": [],
   "source": [
    "df = pd.concat([df_train, df_test])"
   ]
  },
  {
   "cell_type": "code",
   "execution_count": 48,
   "metadata": {},
   "outputs": [
    {
     "data": {
      "text/html": [
       "<div>\n",
       "<table border=\"1\" class=\"dataframe\">\n",
       "  <thead>\n",
       "    <tr style=\"text-align: right;\">\n",
       "      <th></th>\n",
       "      <th>ID</th>\n",
       "      <th>Gene</th>\n",
       "      <th>Variation</th>\n",
       "      <th>Class</th>\n",
       "    </tr>\n",
       "  </thead>\n",
       "  <tbody>\n",
       "    <tr>\n",
       "      <th>5663</th>\n",
       "      <td>5663</td>\n",
       "      <td>SLC46A1</td>\n",
       "      <td>R113S</td>\n",
       "      <td>-1</td>\n",
       "    </tr>\n",
       "    <tr>\n",
       "      <th>5664</th>\n",
       "      <td>5664</td>\n",
       "      <td>FOXC1</td>\n",
       "      <td>L130F</td>\n",
       "      <td>-1</td>\n",
       "    </tr>\n",
       "    <tr>\n",
       "      <th>5665</th>\n",
       "      <td>5665</td>\n",
       "      <td>GSS</td>\n",
       "      <td>R267W</td>\n",
       "      <td>-1</td>\n",
       "    </tr>\n",
       "    <tr>\n",
       "      <th>5666</th>\n",
       "      <td>5666</td>\n",
       "      <td>CTSK</td>\n",
       "      <td>G79E</td>\n",
       "      <td>-1</td>\n",
       "    </tr>\n",
       "    <tr>\n",
       "      <th>5667</th>\n",
       "      <td>5667</td>\n",
       "      <td>DFNB59</td>\n",
       "      <td>T54I</td>\n",
       "      <td>-1</td>\n",
       "    </tr>\n",
       "  </tbody>\n",
       "</table>\n",
       "</div>"
      ],
      "text/plain": [
       "        ID     Gene Variation  Class\n",
       "5663  5663  SLC46A1     R113S     -1\n",
       "5664  5664    FOXC1     L130F     -1\n",
       "5665  5665      GSS     R267W     -1\n",
       "5666  5666     CTSK      G79E     -1\n",
       "5667  5667   DFNB59      T54I     -1"
      ]
     },
     "execution_count": 48,
     "metadata": {},
     "output_type": "execute_result"
    }
   ],
   "source": [
    "df.tail()"
   ]
  },
  {
   "cell_type": "code",
   "execution_count": 49,
   "metadata": {},
   "outputs": [
    {
     "data": {
      "text/plain": [
       "(8989, 4)"
      ]
     },
     "execution_count": 49,
     "metadata": {},
     "output_type": "execute_result"
    }
   ],
   "source": [
    "df.shape"
   ]
  },
  {
   "cell_type": "code",
   "execution_count": 50,
   "metadata": {
    "collapsed": true
   },
   "outputs": [],
   "source": [
    "df_text = pd.concat([df_train_text, df_test_text])"
   ]
  },
  {
   "cell_type": "code",
   "execution_count": 51,
   "metadata": {},
   "outputs": [
    {
     "data": {
      "text/html": [
       "<div>\n",
       "<table border=\"1\" class=\"dataframe\">\n",
       "  <thead>\n",
       "    <tr style=\"text-align: right;\">\n",
       "      <th></th>\n",
       "      <th>ID</th>\n",
       "      <th>Text</th>\n",
       "    </tr>\n",
       "  </thead>\n",
       "  <tbody>\n",
       "    <tr>\n",
       "      <th>0</th>\n",
       "      <td>0</td>\n",
       "      <td>Cyclin-dependent kinases (CDKs) regulate a var...</td>\n",
       "    </tr>\n",
       "    <tr>\n",
       "      <th>1</th>\n",
       "      <td>1</td>\n",
       "      <td>Abstract Background  Non-small cell lung canc...</td>\n",
       "    </tr>\n",
       "    <tr>\n",
       "      <th>2</th>\n",
       "      <td>2</td>\n",
       "      <td>Abstract Background  Non-small cell lung canc...</td>\n",
       "    </tr>\n",
       "    <tr>\n",
       "      <th>3</th>\n",
       "      <td>3</td>\n",
       "      <td>Recent evidence has demonstrated that acquired...</td>\n",
       "    </tr>\n",
       "    <tr>\n",
       "      <th>4</th>\n",
       "      <td>4</td>\n",
       "      <td>Oncogenic mutations in the monomeric Casitas B...</td>\n",
       "    </tr>\n",
       "  </tbody>\n",
       "</table>\n",
       "</div>"
      ],
      "text/plain": [
       "   ID                                               Text\n",
       "0   0  Cyclin-dependent kinases (CDKs) regulate a var...\n",
       "1   1   Abstract Background  Non-small cell lung canc...\n",
       "2   2   Abstract Background  Non-small cell lung canc...\n",
       "3   3  Recent evidence has demonstrated that acquired...\n",
       "4   4  Oncogenic mutations in the monomeric Casitas B..."
      ]
     },
     "execution_count": 51,
     "metadata": {},
     "output_type": "execute_result"
    }
   ],
   "source": [
    "df_text.head()"
   ]
  },
  {
   "cell_type": "code",
   "execution_count": 52,
   "metadata": {},
   "outputs": [
    {
     "data": {
      "text/plain": [
       "(8989, 2)"
      ]
     },
     "execution_count": 52,
     "metadata": {},
     "output_type": "execute_result"
    }
   ],
   "source": [
    "df_text.shape"
   ]
  },
  {
   "cell_type": "code",
   "execution_count": 53,
   "metadata": {},
   "outputs": [
    {
     "data": {
      "text/html": [
       "<div>\n",
       "<table border=\"1\" class=\"dataframe\">\n",
       "  <thead>\n",
       "    <tr style=\"text-align: right;\">\n",
       "      <th></th>\n",
       "      <th>ID</th>\n",
       "      <th>Text</th>\n",
       "    </tr>\n",
       "  </thead>\n",
       "  <tbody>\n",
       "    <tr>\n",
       "      <th>5663</th>\n",
       "      <td>5663</td>\n",
       "      <td>The realization in the late 1970s that RAS har...</td>\n",
       "    </tr>\n",
       "    <tr>\n",
       "      <th>5664</th>\n",
       "      <td>5664</td>\n",
       "      <td>Hemizygous deletions are common molecular abno...</td>\n",
       "    </tr>\n",
       "    <tr>\n",
       "      <th>5665</th>\n",
       "      <td>5665</td>\n",
       "      <td>All most R267W of has with to SMARTpool invest...</td>\n",
       "    </tr>\n",
       "    <tr>\n",
       "      <th>5666</th>\n",
       "      <td>5666</td>\n",
       "      <td>Abstract Blood samples from 125 unrelated fami...</td>\n",
       "    </tr>\n",
       "    <tr>\n",
       "      <th>5667</th>\n",
       "      <td>5667</td>\n",
       "      <td>Loss of DNA mismatch repair (MMR) in humans, m...</td>\n",
       "    </tr>\n",
       "  </tbody>\n",
       "</table>\n",
       "</div>"
      ],
      "text/plain": [
       "        ID                                               Text\n",
       "5663  5663  The realization in the late 1970s that RAS har...\n",
       "5664  5664  Hemizygous deletions are common molecular abno...\n",
       "5665  5665  All most R267W of has with to SMARTpool invest...\n",
       "5666  5666  Abstract Blood samples from 125 unrelated fami...\n",
       "5667  5667  Loss of DNA mismatch repair (MMR) in humans, m..."
      ]
     },
     "execution_count": 53,
     "metadata": {},
     "output_type": "execute_result"
    }
   ],
   "source": [
    "df_text.tail()"
   ]
  },
  {
   "cell_type": "code",
   "execution_count": 54,
   "metadata": {
    "collapsed": true
   },
   "outputs": [],
   "source": [
    "del(df_train)\n"
   ]
  },
  {
   "cell_type": "code",
   "execution_count": 55,
   "metadata": {
    "collapsed": true
   },
   "outputs": [],
   "source": [
    "del(df_test)"
   ]
  },
  {
   "cell_type": "code",
   "execution_count": 56,
   "metadata": {
    "collapsed": true
   },
   "outputs": [],
   "source": [
    "del(df_train_text)"
   ]
  },
  {
   "cell_type": "code",
   "execution_count": 57,
   "metadata": {
    "collapsed": true
   },
   "outputs": [],
   "source": [
    "del(df_test_text)"
   ]
  },
  {
   "cell_type": "markdown",
   "metadata": {},
   "source": [
    "#  text word and character counting"
   ]
  },
  {
   "cell_type": "code",
   "execution_count": 58,
   "metadata": {
    "collapsed": true
   },
   "outputs": [],
   "source": [
    "df['text_char_len'] = df_text['Text'].str.len()"
   ]
  },
  {
   "cell_type": "code",
   "execution_count": 59,
   "metadata": {},
   "outputs": [
    {
     "data": {
      "text/html": [
       "<div>\n",
       "<table border=\"1\" class=\"dataframe\">\n",
       "  <thead>\n",
       "    <tr style=\"text-align: right;\">\n",
       "      <th></th>\n",
       "      <th>ID</th>\n",
       "      <th>Gene</th>\n",
       "      <th>Variation</th>\n",
       "      <th>Class</th>\n",
       "      <th>text_char_len</th>\n",
       "    </tr>\n",
       "  </thead>\n",
       "  <tbody>\n",
       "    <tr>\n",
       "      <th>0</th>\n",
       "      <td>0</td>\n",
       "      <td>FAM58A</td>\n",
       "      <td>Truncating Mutations</td>\n",
       "      <td>1</td>\n",
       "      <td>39672</td>\n",
       "    </tr>\n",
       "    <tr>\n",
       "      <th>1</th>\n",
       "      <td>1</td>\n",
       "      <td>CBL</td>\n",
       "      <td>W802*</td>\n",
       "      <td>2</td>\n",
       "      <td>36691</td>\n",
       "    </tr>\n",
       "    <tr>\n",
       "      <th>2</th>\n",
       "      <td>2</td>\n",
       "      <td>CBL</td>\n",
       "      <td>Q249E</td>\n",
       "      <td>2</td>\n",
       "      <td>36691</td>\n",
       "    </tr>\n",
       "    <tr>\n",
       "      <th>3</th>\n",
       "      <td>3</td>\n",
       "      <td>CBL</td>\n",
       "      <td>N454D</td>\n",
       "      <td>3</td>\n",
       "      <td>36238</td>\n",
       "    </tr>\n",
       "    <tr>\n",
       "      <th>4</th>\n",
       "      <td>4</td>\n",
       "      <td>CBL</td>\n",
       "      <td>L399V</td>\n",
       "      <td>4</td>\n",
       "      <td>41308</td>\n",
       "    </tr>\n",
       "  </tbody>\n",
       "</table>\n",
       "</div>"
      ],
      "text/plain": [
       "   ID    Gene             Variation  Class  text_char_len\n",
       "0   0  FAM58A  Truncating Mutations      1          39672\n",
       "1   1     CBL                 W802*      2          36691\n",
       "2   2     CBL                 Q249E      2          36691\n",
       "3   3     CBL                 N454D      3          36238\n",
       "4   4     CBL                 L399V      4          41308"
      ]
     },
     "execution_count": 59,
     "metadata": {},
     "output_type": "execute_result"
    }
   ],
   "source": [
    "df.head()"
   ]
  },
  {
   "cell_type": "code",
   "execution_count": 60,
   "metadata": {
    "collapsed": true
   },
   "outputs": [],
   "source": [
    "df['text_words'] = df_text['Text'].apply(lambda row: len(row.split(\" \")))"
   ]
  },
  {
   "cell_type": "code",
   "execution_count": 61,
   "metadata": {},
   "outputs": [
    {
     "data": {
      "text/html": [
       "<div>\n",
       "<table border=\"1\" class=\"dataframe\">\n",
       "  <thead>\n",
       "    <tr style=\"text-align: right;\">\n",
       "      <th></th>\n",
       "      <th>ID</th>\n",
       "      <th>Gene</th>\n",
       "      <th>Variation</th>\n",
       "      <th>Class</th>\n",
       "      <th>text_char_len</th>\n",
       "      <th>text_words</th>\n",
       "    </tr>\n",
       "  </thead>\n",
       "  <tbody>\n",
       "    <tr>\n",
       "      <th>0</th>\n",
       "      <td>0</td>\n",
       "      <td>FAM58A</td>\n",
       "      <td>Truncating Mutations</td>\n",
       "      <td>1</td>\n",
       "      <td>39672</td>\n",
       "      <td>6105</td>\n",
       "    </tr>\n",
       "    <tr>\n",
       "      <th>1</th>\n",
       "      <td>1</td>\n",
       "      <td>CBL</td>\n",
       "      <td>W802*</td>\n",
       "      <td>2</td>\n",
       "      <td>36691</td>\n",
       "      <td>5783</td>\n",
       "    </tr>\n",
       "    <tr>\n",
       "      <th>2</th>\n",
       "      <td>2</td>\n",
       "      <td>CBL</td>\n",
       "      <td>Q249E</td>\n",
       "      <td>2</td>\n",
       "      <td>36691</td>\n",
       "      <td>5783</td>\n",
       "    </tr>\n",
       "    <tr>\n",
       "      <th>3</th>\n",
       "      <td>3</td>\n",
       "      <td>CBL</td>\n",
       "      <td>N454D</td>\n",
       "      <td>3</td>\n",
       "      <td>36238</td>\n",
       "      <td>5625</td>\n",
       "    </tr>\n",
       "    <tr>\n",
       "      <th>4</th>\n",
       "      <td>4</td>\n",
       "      <td>CBL</td>\n",
       "      <td>L399V</td>\n",
       "      <td>4</td>\n",
       "      <td>41308</td>\n",
       "      <td>6248</td>\n",
       "    </tr>\n",
       "  </tbody>\n",
       "</table>\n",
       "</div>"
      ],
      "text/plain": [
       "   ID    Gene             Variation  Class  text_char_len  text_words\n",
       "0   0  FAM58A  Truncating Mutations      1          39672        6105\n",
       "1   1     CBL                 W802*      2          36691        5783\n",
       "2   2     CBL                 Q249E      2          36691        5783\n",
       "3   3     CBL                 N454D      3          36238        5625\n",
       "4   4     CBL                 L399V      4          41308        6248"
      ]
     },
     "execution_count": 61,
     "metadata": {},
     "output_type": "execute_result"
    }
   ],
   "source": [
    "df.head()"
   ]
  },
  {
   "cell_type": "code",
   "execution_count": 62,
   "metadata": {
    "collapsed": true
   },
   "outputs": [],
   "source": [
    "df_text = df_text.drop('ID', axis =1)"
   ]
  },
  {
   "cell_type": "code",
   "execution_count": 63,
   "metadata": {
    "collapsed": true
   },
   "outputs": [],
   "source": [
    "df_all = pd.concat([df, df_text], axis  =1)"
   ]
  },
  {
   "cell_type": "code",
   "execution_count": 64,
   "metadata": {
    "collapsed": true
   },
   "outputs": [],
   "source": [
    "df_all['Gene_Share'] = df_all.apply(lambda r: sum([1 for w in r['Gene'].split(' ') if w in r['Text'].split(' ')]), axis=1)\n",
    "df_all['Variation_Share'] = df_all.apply(lambda r: sum([1 for w in r['Variation'].split(' ') if w in r['Text'].split(' ')]), axis=1)\n",
    "\n"
   ]
  },
  {
   "cell_type": "code",
   "execution_count": 65,
   "metadata": {},
   "outputs": [
    {
     "data": {
      "text/html": [
       "<div>\n",
       "<table border=\"1\" class=\"dataframe\">\n",
       "  <thead>\n",
       "    <tr style=\"text-align: right;\">\n",
       "      <th></th>\n",
       "      <th>ID</th>\n",
       "      <th>Gene</th>\n",
       "      <th>Variation</th>\n",
       "      <th>Class</th>\n",
       "      <th>text_char_len</th>\n",
       "      <th>text_words</th>\n",
       "      <th>Text</th>\n",
       "      <th>Gene_Share</th>\n",
       "      <th>Variation_Share</th>\n",
       "    </tr>\n",
       "  </thead>\n",
       "  <tbody>\n",
       "    <tr>\n",
       "      <th>0</th>\n",
       "      <td>0</td>\n",
       "      <td>FAM58A</td>\n",
       "      <td>Truncating Mutations</td>\n",
       "      <td>1</td>\n",
       "      <td>39672</td>\n",
       "      <td>6105</td>\n",
       "      <td>Cyclin-dependent kinases (CDKs) regulate a var...</td>\n",
       "      <td>1</td>\n",
       "      <td>1</td>\n",
       "    </tr>\n",
       "    <tr>\n",
       "      <th>1</th>\n",
       "      <td>1</td>\n",
       "      <td>CBL</td>\n",
       "      <td>W802*</td>\n",
       "      <td>2</td>\n",
       "      <td>36691</td>\n",
       "      <td>5783</td>\n",
       "      <td>Abstract Background  Non-small cell lung canc...</td>\n",
       "      <td>1</td>\n",
       "      <td>1</td>\n",
       "    </tr>\n",
       "    <tr>\n",
       "      <th>2</th>\n",
       "      <td>2</td>\n",
       "      <td>CBL</td>\n",
       "      <td>Q249E</td>\n",
       "      <td>2</td>\n",
       "      <td>36691</td>\n",
       "      <td>5783</td>\n",
       "      <td>Abstract Background  Non-small cell lung canc...</td>\n",
       "      <td>1</td>\n",
       "      <td>1</td>\n",
       "    </tr>\n",
       "    <tr>\n",
       "      <th>3</th>\n",
       "      <td>3</td>\n",
       "      <td>CBL</td>\n",
       "      <td>N454D</td>\n",
       "      <td>3</td>\n",
       "      <td>36238</td>\n",
       "      <td>5625</td>\n",
       "      <td>Recent evidence has demonstrated that acquired...</td>\n",
       "      <td>1</td>\n",
       "      <td>1</td>\n",
       "    </tr>\n",
       "    <tr>\n",
       "      <th>4</th>\n",
       "      <td>4</td>\n",
       "      <td>CBL</td>\n",
       "      <td>L399V</td>\n",
       "      <td>4</td>\n",
       "      <td>41308</td>\n",
       "      <td>6248</td>\n",
       "      <td>Oncogenic mutations in the monomeric Casitas B...</td>\n",
       "      <td>1</td>\n",
       "      <td>1</td>\n",
       "    </tr>\n",
       "  </tbody>\n",
       "</table>\n",
       "</div>"
      ],
      "text/plain": [
       "   ID    Gene             Variation  Class  text_char_len  text_words  \\\n",
       "0   0  FAM58A  Truncating Mutations      1          39672        6105   \n",
       "1   1     CBL                 W802*      2          36691        5783   \n",
       "2   2     CBL                 Q249E      2          36691        5783   \n",
       "3   3     CBL                 N454D      3          36238        5625   \n",
       "4   4     CBL                 L399V      4          41308        6248   \n",
       "\n",
       "                                                Text  Gene_Share  \\\n",
       "0  Cyclin-dependent kinases (CDKs) regulate a var...           1   \n",
       "1   Abstract Background  Non-small cell lung canc...           1   \n",
       "2   Abstract Background  Non-small cell lung canc...           1   \n",
       "3  Recent evidence has demonstrated that acquired...           1   \n",
       "4  Oncogenic mutations in the monomeric Casitas B...           1   \n",
       "\n",
       "   Variation_Share  \n",
       "0                1  \n",
       "1                1  \n",
       "2                1  \n",
       "3                1  \n",
       "4                1  "
      ]
     },
     "execution_count": 65,
     "metadata": {},
     "output_type": "execute_result"
    }
   ],
   "source": [
    "df_all.head()"
   ]
  },
  {
   "cell_type": "code",
   "execution_count": 73,
   "metadata": {},
   "outputs": [
    {
     "data": {
      "text/plain": [
       "8"
      ]
     },
     "execution_count": 73,
     "metadata": {},
     "output_type": "execute_result"
    }
   ],
   "source": [
    "df_all.iloc[2].Text.split(' ').count(df_all.iloc[2].Variation)"
   ]
  },
  {
   "cell_type": "code",
   "execution_count": 78,
   "metadata": {},
   "outputs": [
    {
     "name": "stdout",
     "output_type": "stream",
     "text": [
      "Using select c-CBL somatic mutations such as S80N/H94Y, Q249E and W802* (obtained from Caucasian, Taiwanese and African-American samples, respectively) transfected in NSCLC cell lines, there was increased cell viability and cell motility\n",
      "In this study, we report novel c-CBL somatic mutations S80N/H94Y, Q249E and W802* in Caucasian, Taiwanese and African-American lung cancer patients, respectively\n",
      "Using this parental plasmid pAlterMax-c-CBL, the TKB domain double mutation (S80N/H94Y), the point mutation (Q249E), and the C-terminal point mutation W802* of c-CBL were created using the following primers: 5′-GCTGGCGCTAAAGAATAACCCACCTTATATCTTAGAC-3′ and 5′-CTACCAGATACCTACCAGTATCTCCGTACTATCTTGTC-3′ for the double mutation S80N/H94Y; 5′-CTTTACCCGACTCTTTGAGCCCTGGTCCTCTTTGC-3′ for Q249E, and 5′-CAGCTCCTCCTTTGGCTGATTGTCTCTGGATGGTGATC-3′ for W802* along with their complementary primers using the QuickChange Site-Directed Mutagenesis XL kit (Stratagene, La Jolla, CA) according to the manufacturer's instructions\n",
      "Eight µg of plasmid DNA, containing either no insert (empty vector), wild-type c-CBL, S80N/H94Y c-CBL, Q249E c-CBL or W802* CBL was used for transfection in a 6-well culture plate\n",
      "Three of the 8 novel non-synonymous mutations were located in the TKB (tyrosine kinase binding) domain (S80N, H94Y, and Q249E), one in the RING finger domain (V391I), one in the proline-rich region (72515_72517 del ATG), and three in the C-terminal region (W802*, R830K, and A848T) of the c-CBL protein (Figure 1A and Figure S1)\n",
      "S80N/H94Y double mutation, Q249E, and W802* were identified in lung tumor samples obtained from a Caucasian, a Taiwanese and an African-American, respectively\n",
      "Cells transfected with S80N/H94Y, Q249E and W802* c-CBL mutant constructs resulted in increased number of viable cells that was 132.3%, 120.8% and 147.9% higher respectively, relative to the empty vector control transfected cells and significantly different from the wild-type construct (p = 0.022, p = 0.049, and p = 0.008, respectively) (Figure 3B)\n",
      "A549 cells were transfected with the c-CBL WT or the three different mutants: S80N/H94Y, Q249E and W802*\n",
      "The G2/M phase of the cell cycle showed an increase in cell numbers for the three mutants, S80N/H94Y, Q249E and W802*, when compared to the WT but again the difference was not statistically significant (p = 0.25) (Figure 3D)\n",
      "At 48 h, wild-type c-CBL transfectants showed 61.1% open wound while the S80N/H94Y, Q249E and W802* mutants showed 18.7%, 23.9% and 34.3% open wound respectively (p<0.001) (Figure 4B)\n",
      "For example, S80N/H94Y, Q249E, W802* were detected in Caucasians, Taiwanese and African-Americans, respectively\n",
      " The observation that c-CBL somatic mutations, especially S80N/H94Y, Q249E and W802* showed increased cell viability and cell motility that is in agreement with the physiological role for D-cbl in the regulation of apoptosis and differentiation identified in Drosophila is very significant [33]\n",
      " Using select c-CBL somatic mutations such as S80N/H94Y, Q249E and W802* (obtained from Caucasian, Taiwanese and African-American samples, respectively) transfected in NSCLC cell lines, there was increased cell viability and cell motility In this study, we report novel c-CBL somatic mutations S80N/H94Y, Q249E and W802* in Caucasian, Taiwanese and African-American lung cancer patients, respectively Using this parental plasmid pAlterMax-c-CBL, the TKB domain double mutation (S80N/H94Y), the point mutation (Q249E), and the C-terminal point mutation W802* of c-CBL were created using the following primers: 5′-GCTGGCGCTAAAGAATAACCCACCTTATATCTTAGAC-3′ and 5′-CTACCAGATACCTACCAGTATCTCCGTACTATCTTGTC-3′ for the double mutation S80N/H94Y; 5′-CTTTACCCGACTCTTTGAGCCCTGGTCCTCTTTGC-3′ for Q249E, and 5′-CAGCTCCTCCTTTGGCTGATTGTCTCTGGATGGTGATC-3′ for W802* along with their complementary primers using the QuickChange Site-Directed Mutagenesis XL kit (Stratagene, La Jolla, CA) according to the manufacturer's instructions Eight µg of plasmid DNA, containing either no insert (empty vector), wild-type c-CBL, S80N/H94Y c-CBL, Q249E c-CBL or W802* CBL was used for transfection in a 6-well culture plate Three of the 8 novel non-synonymous mutations were located in the TKB (tyrosine kinase binding) domain (S80N, H94Y, and Q249E), one in the RING finger domain (V391I), one in the proline-rich region (72515_72517 del ATG), and three in the C-terminal region (W802*, R830K, and A848T) of the c-CBL protein (Figure 1A and Figure S1) S80N/H94Y double mutation, Q249E, and W802* were identified in lung tumor samples obtained from a Caucasian, a Taiwanese and an African-American, respectively Cells transfected with S80N/H94Y, Q249E and W802* c-CBL mutant constructs resulted in increased number of viable cells that was 132.3%, 120.8% and 147.9% higher respectively, relative to the empty vector control transfected cells and significantly different from the wild-type construct (p = 0.022, p = 0.049, and p = 0.008, respectively) (Figure 3B) A549 cells were transfected with the c-CBL WT or the three different mutants: S80N/H94Y, Q249E and W802* The G2/M phase of the cell cycle showed an increase in cell numbers for the three mutants, S80N/H94Y, Q249E and W802*, when compared to the WT but again the difference was not statistically significant (p = 0.25) (Figure 3D) At 48 h, wild-type c-CBL transfectants showed 61.1% open wound while the S80N/H94Y, Q249E and W802* mutants showed 18.7%, 23.9% and 34.3% open wound respectively (p<0.001) (Figure 4B) For example, S80N/H94Y, Q249E, W802* were detected in Caucasians, Taiwanese and African-Americans, respectively  The observation that c-CBL somatic mutations, especially S80N/H94Y, Q249E and W802* showed increased cell viability and cell motility that is in agreement with the physiological role for D-cbl in the regulation of apoptosis and differentiation identified in Drosophila is very significant [33]\n"
     ]
    }
   ],
   "source": [
    "result = ''\n",
    "for item  in df_all.iloc[2].Text.split('. '):\n",
    "    if df_all.iloc[2].Variation in item:\n",
    "        print (item)\n",
    "        result = result + \" \" + item\n",
    "print (result)"
   ]
  },
  {
   "cell_type": "code",
   "execution_count": 90,
   "metadata": {
    "collapsed": true
   },
   "outputs": [],
   "source": [
    "def key_containing_text(text, keyword):\n",
    "    result = \" \"\n",
    "    for item in text.split('. '):\n",
    "        if keyword in item:\n",
    "            result = result + \" \" + item\n",
    "    return result\n",
    "    "
   ]
  },
  {
   "cell_type": "code",
   "execution_count": 91,
   "metadata": {},
   "outputs": [
    {
     "data": {
      "text/plain": [
       "\"  Using select c-CBL somatic mutations such as S80N/H94Y, Q249E and W802* (obtained from Caucasian, Taiwanese and African-American samples, respectively) transfected in NSCLC cell lines, there was increased cell viability and cell motility In this study, we report novel c-CBL somatic mutations S80N/H94Y, Q249E and W802* in Caucasian, Taiwanese and African-American lung cancer patients, respectively Using this parental plasmid pAlterMax-c-CBL, the TKB domain double mutation (S80N/H94Y), the point mutation (Q249E), and the C-terminal point mutation W802* of c-CBL were created using the following primers: 5′-GCTGGCGCTAAAGAATAACCCACCTTATATCTTAGAC-3′ and 5′-CTACCAGATACCTACCAGTATCTCCGTACTATCTTGTC-3′ for the double mutation S80N/H94Y; 5′-CTTTACCCGACTCTTTGAGCCCTGGTCCTCTTTGC-3′ for Q249E, and 5′-CAGCTCCTCCTTTGGCTGATTGTCTCTGGATGGTGATC-3′ for W802* along with their complementary primers using the QuickChange Site-Directed Mutagenesis XL kit (Stratagene, La Jolla, CA) according to the manufacturer's instructions Eight µg of plasmid DNA, containing either no insert (empty vector), wild-type c-CBL, S80N/H94Y c-CBL, Q249E c-CBL or W802* CBL was used for transfection in a 6-well culture plate Three of the 8 novel non-synonymous mutations were located in the TKB (tyrosine kinase binding) domain (S80N, H94Y, and Q249E), one in the RING finger domain (V391I), one in the proline-rich region (72515_72517 del ATG), and three in the C-terminal region (W802*, R830K, and A848T) of the c-CBL protein (Figure 1A and Figure S1) S80N/H94Y double mutation, Q249E, and W802* were identified in lung tumor samples obtained from a Caucasian, a Taiwanese and an African-American, respectively Cells transfected with S80N/H94Y, Q249E and W802* c-CBL mutant constructs resulted in increased number of viable cells that was 132.3%, 120.8% and 147.9% higher respectively, relative to the empty vector control transfected cells and significantly different from the wild-type construct (p\\u200a=\\u200a0.022, p\\u200a=\\u200a0.049, and p\\u200a=\\u200a0.008, respectively) (Figure 3B) A549 cells were transfected with the c-CBL WT or the three different mutants: S80N/H94Y, Q249E and W802* The G2/M phase of the cell cycle showed an increase in cell numbers for the three mutants, S80N/H94Y, Q249E and W802*, when compared to the WT but again the difference was not statistically significant (p\\u200a=\\u200a0.25) (Figure 3D) At 48 h, wild-type c-CBL transfectants showed 61.1% open wound while the S80N/H94Y, Q249E and W802* mutants showed 18.7%, 23.9% and 34.3% open wound respectively (p<0.001) (Figure 4B) For example, S80N/H94Y, Q249E, W802* were detected in Caucasians, Taiwanese and African-Americans, respectively  The observation that c-CBL somatic mutations, especially S80N/H94Y, Q249E and W802* showed increased cell viability and cell motility that is in agreement with the physiological role for D-cbl in the regulation of apoptosis and differentiation identified in Drosophila is very significant [33]\""
      ]
     },
     "execution_count": 91,
     "metadata": {},
     "output_type": "execute_result"
    }
   ],
   "source": [
    "key_containing_text(df_all.iloc[2].Text, df_all.iloc[2].Variation )"
   ]
  },
  {
   "cell_type": "code",
   "execution_count": 92,
   "metadata": {
    "collapsed": true
   },
   "outputs": [],
   "source": [
    "df_all['Key_text'] = \" \""
   ]
  },
  {
   "cell_type": "code",
   "execution_count": 93,
   "metadata": {},
   "outputs": [
    {
     "data": {
      "text/html": [
       "<div>\n",
       "<table border=\"1\" class=\"dataframe\">\n",
       "  <thead>\n",
       "    <tr style=\"text-align: right;\">\n",
       "      <th></th>\n",
       "      <th>ID</th>\n",
       "      <th>Gene</th>\n",
       "      <th>Variation</th>\n",
       "      <th>Class</th>\n",
       "      <th>text_char_len</th>\n",
       "      <th>text_words</th>\n",
       "      <th>Text</th>\n",
       "      <th>Gene_Share</th>\n",
       "      <th>Variation_Share</th>\n",
       "      <th>Key_text</th>\n",
       "    </tr>\n",
       "  </thead>\n",
       "  <tbody>\n",
       "    <tr>\n",
       "      <th>0</th>\n",
       "      <td>0</td>\n",
       "      <td>FAM58A</td>\n",
       "      <td>Truncating Mutations</td>\n",
       "      <td>1</td>\n",
       "      <td>39672</td>\n",
       "      <td>6105</td>\n",
       "      <td>Cyclin-dependent kinases (CDKs) regulate a var...</td>\n",
       "      <td>1</td>\n",
       "      <td>1</td>\n",
       "      <td></td>\n",
       "    </tr>\n",
       "    <tr>\n",
       "      <th>1</th>\n",
       "      <td>1</td>\n",
       "      <td>CBL</td>\n",
       "      <td>W802*</td>\n",
       "      <td>2</td>\n",
       "      <td>36691</td>\n",
       "      <td>5783</td>\n",
       "      <td>Abstract Background  Non-small cell lung canc...</td>\n",
       "      <td>1</td>\n",
       "      <td>1</td>\n",
       "      <td></td>\n",
       "    </tr>\n",
       "    <tr>\n",
       "      <th>2</th>\n",
       "      <td>2</td>\n",
       "      <td>CBL</td>\n",
       "      <td>Q249E</td>\n",
       "      <td>2</td>\n",
       "      <td>36691</td>\n",
       "      <td>5783</td>\n",
       "      <td>Abstract Background  Non-small cell lung canc...</td>\n",
       "      <td>1</td>\n",
       "      <td>1</td>\n",
       "      <td></td>\n",
       "    </tr>\n",
       "    <tr>\n",
       "      <th>3</th>\n",
       "      <td>3</td>\n",
       "      <td>CBL</td>\n",
       "      <td>N454D</td>\n",
       "      <td>3</td>\n",
       "      <td>36238</td>\n",
       "      <td>5625</td>\n",
       "      <td>Recent evidence has demonstrated that acquired...</td>\n",
       "      <td>1</td>\n",
       "      <td>1</td>\n",
       "      <td></td>\n",
       "    </tr>\n",
       "    <tr>\n",
       "      <th>4</th>\n",
       "      <td>4</td>\n",
       "      <td>CBL</td>\n",
       "      <td>L399V</td>\n",
       "      <td>4</td>\n",
       "      <td>41308</td>\n",
       "      <td>6248</td>\n",
       "      <td>Oncogenic mutations in the monomeric Casitas B...</td>\n",
       "      <td>1</td>\n",
       "      <td>1</td>\n",
       "      <td></td>\n",
       "    </tr>\n",
       "  </tbody>\n",
       "</table>\n",
       "</div>"
      ],
      "text/plain": [
       "   ID    Gene             Variation  Class  text_char_len  text_words  \\\n",
       "0   0  FAM58A  Truncating Mutations      1          39672        6105   \n",
       "1   1     CBL                 W802*      2          36691        5783   \n",
       "2   2     CBL                 Q249E      2          36691        5783   \n",
       "3   3     CBL                 N454D      3          36238        5625   \n",
       "4   4     CBL                 L399V      4          41308        6248   \n",
       "\n",
       "                                                Text  Gene_Share  \\\n",
       "0  Cyclin-dependent kinases (CDKs) regulate a var...           1   \n",
       "1   Abstract Background  Non-small cell lung canc...           1   \n",
       "2   Abstract Background  Non-small cell lung canc...           1   \n",
       "3  Recent evidence has demonstrated that acquired...           1   \n",
       "4  Oncogenic mutations in the monomeric Casitas B...           1   \n",
       "\n",
       "   Variation_Share Key_text  \n",
       "0                1           \n",
       "1                1           \n",
       "2                1           \n",
       "3                1           \n",
       "4                1           "
      ]
     },
     "execution_count": 93,
     "metadata": {},
     "output_type": "execute_result"
    }
   ],
   "source": [
    "df_all.head()"
   ]
  },
  {
   "cell_type": "code",
   "execution_count": 96,
   "metadata": {},
   "outputs": [],
   "source": [
    "df_all.loc[2,'Key_text']= key_containing_text(df_all.iloc[2].Text, df_all.iloc[2].Variation )"
   ]
  },
  {
   "cell_type": "code",
   "execution_count": 97,
   "metadata": {},
   "outputs": [
    {
     "data": {
      "text/html": [
       "<div>\n",
       "<table border=\"1\" class=\"dataframe\">\n",
       "  <thead>\n",
       "    <tr style=\"text-align: right;\">\n",
       "      <th></th>\n",
       "      <th>ID</th>\n",
       "      <th>Gene</th>\n",
       "      <th>Variation</th>\n",
       "      <th>Class</th>\n",
       "      <th>text_char_len</th>\n",
       "      <th>text_words</th>\n",
       "      <th>Text</th>\n",
       "      <th>Gene_Share</th>\n",
       "      <th>Variation_Share</th>\n",
       "      <th>Key_text</th>\n",
       "    </tr>\n",
       "  </thead>\n",
       "  <tbody>\n",
       "    <tr>\n",
       "      <th>0</th>\n",
       "      <td>0</td>\n",
       "      <td>FAM58A</td>\n",
       "      <td>Truncating Mutations</td>\n",
       "      <td>1</td>\n",
       "      <td>39672</td>\n",
       "      <td>6105</td>\n",
       "      <td>Cyclin-dependent kinases (CDKs) regulate a var...</td>\n",
       "      <td>1</td>\n",
       "      <td>1</td>\n",
       "      <td></td>\n",
       "    </tr>\n",
       "    <tr>\n",
       "      <th>1</th>\n",
       "      <td>1</td>\n",
       "      <td>CBL</td>\n",
       "      <td>W802*</td>\n",
       "      <td>2</td>\n",
       "      <td>36691</td>\n",
       "      <td>5783</td>\n",
       "      <td>Abstract Background  Non-small cell lung canc...</td>\n",
       "      <td>1</td>\n",
       "      <td>1</td>\n",
       "      <td></td>\n",
       "    </tr>\n",
       "    <tr>\n",
       "      <th>2</th>\n",
       "      <td>2</td>\n",
       "      <td>CBL</td>\n",
       "      <td>Q249E</td>\n",
       "      <td>2</td>\n",
       "      <td>36691</td>\n",
       "      <td>5783</td>\n",
       "      <td>Abstract Background  Non-small cell lung canc...</td>\n",
       "      <td>1</td>\n",
       "      <td>1</td>\n",
       "      <td>Using select c-CBL somatic mutations such as...</td>\n",
       "    </tr>\n",
       "    <tr>\n",
       "      <th>3</th>\n",
       "      <td>3</td>\n",
       "      <td>CBL</td>\n",
       "      <td>N454D</td>\n",
       "      <td>3</td>\n",
       "      <td>36238</td>\n",
       "      <td>5625</td>\n",
       "      <td>Recent evidence has demonstrated that acquired...</td>\n",
       "      <td>1</td>\n",
       "      <td>1</td>\n",
       "      <td></td>\n",
       "    </tr>\n",
       "    <tr>\n",
       "      <th>4</th>\n",
       "      <td>4</td>\n",
       "      <td>CBL</td>\n",
       "      <td>L399V</td>\n",
       "      <td>4</td>\n",
       "      <td>41308</td>\n",
       "      <td>6248</td>\n",
       "      <td>Oncogenic mutations in the monomeric Casitas B...</td>\n",
       "      <td>1</td>\n",
       "      <td>1</td>\n",
       "      <td></td>\n",
       "    </tr>\n",
       "  </tbody>\n",
       "</table>\n",
       "</div>"
      ],
      "text/plain": [
       "   ID    Gene             Variation  Class  text_char_len  text_words  \\\n",
       "0   0  FAM58A  Truncating Mutations      1          39672        6105   \n",
       "1   1     CBL                 W802*      2          36691        5783   \n",
       "2   2     CBL                 Q249E      2          36691        5783   \n",
       "3   3     CBL                 N454D      3          36238        5625   \n",
       "4   4     CBL                 L399V      4          41308        6248   \n",
       "\n",
       "                                                Text  Gene_Share  \\\n",
       "0  Cyclin-dependent kinases (CDKs) regulate a var...           1   \n",
       "1   Abstract Background  Non-small cell lung canc...           1   \n",
       "2   Abstract Background  Non-small cell lung canc...           1   \n",
       "3  Recent evidence has demonstrated that acquired...           1   \n",
       "4  Oncogenic mutations in the monomeric Casitas B...           1   \n",
       "\n",
       "   Variation_Share                                           Key_text  \n",
       "0                1                                                     \n",
       "1                1                                                     \n",
       "2                1    Using select c-CBL somatic mutations such as...  \n",
       "3                1                                                     \n",
       "4                1                                                     "
      ]
     },
     "execution_count": 97,
     "metadata": {},
     "output_type": "execute_result"
    }
   ],
   "source": [
    "df_all.head()"
   ]
  },
  {
   "cell_type": "code",
   "execution_count": 101,
   "metadata": {},
   "outputs": [],
   "source": [
    "df_all = df_all.reset_index(drop=True)"
   ]
  },
  {
   "cell_type": "code",
   "execution_count": 102,
   "metadata": {},
   "outputs": [],
   "source": [
    "for i in range(len(df_all)):\n",
    "    df_all.loc[i,'Key_text']= key_containing_text(df_all.iloc[i].Text, df_all.iloc[i].Variation )"
   ]
  },
  {
   "cell_type": "code",
   "execution_count": 103,
   "metadata": {},
   "outputs": [
    {
     "data": {
      "text/html": [
       "<div>\n",
       "<table border=\"1\" class=\"dataframe\">\n",
       "  <thead>\n",
       "    <tr style=\"text-align: right;\">\n",
       "      <th></th>\n",
       "      <th>ID</th>\n",
       "      <th>Gene</th>\n",
       "      <th>Variation</th>\n",
       "      <th>Class</th>\n",
       "      <th>text_char_len</th>\n",
       "      <th>text_words</th>\n",
       "      <th>Text</th>\n",
       "      <th>Gene_Share</th>\n",
       "      <th>Variation_Share</th>\n",
       "      <th>Key_text</th>\n",
       "    </tr>\n",
       "  </thead>\n",
       "  <tbody>\n",
       "    <tr>\n",
       "      <th>0</th>\n",
       "      <td>0</td>\n",
       "      <td>FAM58A</td>\n",
       "      <td>Truncating Mutations</td>\n",
       "      <td>1</td>\n",
       "      <td>39672</td>\n",
       "      <td>6105</td>\n",
       "      <td>Cyclin-dependent kinases (CDKs) regulate a var...</td>\n",
       "      <td>1</td>\n",
       "      <td>1</td>\n",
       "      <td></td>\n",
       "    </tr>\n",
       "    <tr>\n",
       "      <th>1</th>\n",
       "      <td>1</td>\n",
       "      <td>CBL</td>\n",
       "      <td>W802*</td>\n",
       "      <td>2</td>\n",
       "      <td>36691</td>\n",
       "      <td>5783</td>\n",
       "      <td>Abstract Background  Non-small cell lung canc...</td>\n",
       "      <td>1</td>\n",
       "      <td>1</td>\n",
       "      <td>Using select c-CBL somatic mutations such as...</td>\n",
       "    </tr>\n",
       "    <tr>\n",
       "      <th>2</th>\n",
       "      <td>2</td>\n",
       "      <td>CBL</td>\n",
       "      <td>Q249E</td>\n",
       "      <td>2</td>\n",
       "      <td>36691</td>\n",
       "      <td>5783</td>\n",
       "      <td>Abstract Background  Non-small cell lung canc...</td>\n",
       "      <td>1</td>\n",
       "      <td>1</td>\n",
       "      <td>Using select c-CBL somatic mutations such as...</td>\n",
       "    </tr>\n",
       "    <tr>\n",
       "      <th>3</th>\n",
       "      <td>3</td>\n",
       "      <td>CBL</td>\n",
       "      <td>N454D</td>\n",
       "      <td>3</td>\n",
       "      <td>36238</td>\n",
       "      <td>5625</td>\n",
       "      <td>Recent evidence has demonstrated that acquired...</td>\n",
       "      <td>1</td>\n",
       "      <td>1</td>\n",
       "      <td>Most of the changes were novel, although 4 c...</td>\n",
       "    </tr>\n",
       "    <tr>\n",
       "      <th>4</th>\n",
       "      <td>4</td>\n",
       "      <td>CBL</td>\n",
       "      <td>L399V</td>\n",
       "      <td>4</td>\n",
       "      <td>41308</td>\n",
       "      <td>6248</td>\n",
       "      <td>Oncogenic mutations in the monomeric Casitas B...</td>\n",
       "      <td>1</td>\n",
       "      <td>1</td>\n",
       "      <td>Finally, the third group constituted mutati...</td>\n",
       "    </tr>\n",
       "  </tbody>\n",
       "</table>\n",
       "</div>"
      ],
      "text/plain": [
       "   ID    Gene             Variation  Class  text_char_len  text_words  \\\n",
       "0   0  FAM58A  Truncating Mutations      1          39672        6105   \n",
       "1   1     CBL                 W802*      2          36691        5783   \n",
       "2   2     CBL                 Q249E      2          36691        5783   \n",
       "3   3     CBL                 N454D      3          36238        5625   \n",
       "4   4     CBL                 L399V      4          41308        6248   \n",
       "\n",
       "                                                Text  Gene_Share  \\\n",
       "0  Cyclin-dependent kinases (CDKs) regulate a var...           1   \n",
       "1   Abstract Background  Non-small cell lung canc...           1   \n",
       "2   Abstract Background  Non-small cell lung canc...           1   \n",
       "3  Recent evidence has demonstrated that acquired...           1   \n",
       "4  Oncogenic mutations in the monomeric Casitas B...           1   \n",
       "\n",
       "   Variation_Share                                           Key_text  \n",
       "0                1                                                     \n",
       "1                1    Using select c-CBL somatic mutations such as...  \n",
       "2                1    Using select c-CBL somatic mutations such as...  \n",
       "3                1    Most of the changes were novel, although 4 c...  \n",
       "4                1     Finally, the third group constituted mutati...  "
      ]
     },
     "execution_count": 103,
     "metadata": {},
     "output_type": "execute_result"
    }
   ],
   "source": [
    "df_all.head()"
   ]
  },
  {
   "cell_type": "code",
   "execution_count": 104,
   "metadata": {},
   "outputs": [
    {
     "data": {
      "text/html": [
       "<div>\n",
       "<table border=\"1\" class=\"dataframe\">\n",
       "  <thead>\n",
       "    <tr style=\"text-align: right;\">\n",
       "      <th></th>\n",
       "      <th>ID</th>\n",
       "      <th>Gene</th>\n",
       "      <th>Variation</th>\n",
       "      <th>Class</th>\n",
       "      <th>text_char_len</th>\n",
       "      <th>text_words</th>\n",
       "      <th>Text</th>\n",
       "      <th>Gene_Share</th>\n",
       "      <th>Variation_Share</th>\n",
       "      <th>Key_text</th>\n",
       "    </tr>\n",
       "  </thead>\n",
       "  <tbody>\n",
       "    <tr>\n",
       "      <th>8984</th>\n",
       "      <td>5663</td>\n",
       "      <td>SLC46A1</td>\n",
       "      <td>R113S</td>\n",
       "      <td>-1</td>\n",
       "      <td>76385</td>\n",
       "      <td>11114</td>\n",
       "      <td>The realization in the late 1970s that RAS har...</td>\n",
       "      <td>0</td>\n",
       "      <td>1</td>\n",
       "      <td>These disease point both role the was signal...</td>\n",
       "    </tr>\n",
       "    <tr>\n",
       "      <th>8985</th>\n",
       "      <td>5664</td>\n",
       "      <td>FOXC1</td>\n",
       "      <td>L130F</td>\n",
       "      <td>-1</td>\n",
       "      <td>27014</td>\n",
       "      <td>4134</td>\n",
       "      <td>Hemizygous deletions are common molecular abno...</td>\n",
       "      <td>0</td>\n",
       "      <td>1</td>\n",
       "      <td>For group-by-day variants not for KIT L130F ...</td>\n",
       "    </tr>\n",
       "    <tr>\n",
       "      <th>8986</th>\n",
       "      <td>5665</td>\n",
       "      <td>GSS</td>\n",
       "      <td>R267W</td>\n",
       "      <td>-1</td>\n",
       "      <td>23101</td>\n",
       "      <td>3427</td>\n",
       "      <td>All most R267W of has with to SMARTpool invest...</td>\n",
       "      <td>0</td>\n",
       "      <td>1</td>\n",
       "      <td>All most R267W of has with to SMARTpool inve...</td>\n",
       "    </tr>\n",
       "    <tr>\n",
       "      <th>8987</th>\n",
       "      <td>5666</td>\n",
       "      <td>CTSK</td>\n",
       "      <td>G79E</td>\n",
       "      <td>-1</td>\n",
       "      <td>67269</td>\n",
       "      <td>10635</td>\n",
       "      <td>Abstract Blood samples from 125 unrelated fami...</td>\n",
       "      <td>0</td>\n",
       "      <td>1</td>\n",
       "      <td>Figure these are MYC also protein subsequent...</td>\n",
       "    </tr>\n",
       "    <tr>\n",
       "      <th>8988</th>\n",
       "      <td>5667</td>\n",
       "      <td>DFNB59</td>\n",
       "      <td>T54I</td>\n",
       "      <td>-1</td>\n",
       "      <td>27021</td>\n",
       "      <td>4079</td>\n",
       "      <td>Loss of DNA mismatch repair (MMR) in humans, m...</td>\n",
       "      <td>0</td>\n",
       "      <td>1</td>\n",
       "      <td>In Author mutations response data T54I has d...</td>\n",
       "    </tr>\n",
       "  </tbody>\n",
       "</table>\n",
       "</div>"
      ],
      "text/plain": [
       "        ID     Gene Variation  Class  text_char_len  text_words  \\\n",
       "8984  5663  SLC46A1     R113S     -1          76385       11114   \n",
       "8985  5664    FOXC1     L130F     -1          27014        4134   \n",
       "8986  5665      GSS     R267W     -1          23101        3427   \n",
       "8987  5666     CTSK      G79E     -1          67269       10635   \n",
       "8988  5667   DFNB59      T54I     -1          27021        4079   \n",
       "\n",
       "                                                   Text  Gene_Share  \\\n",
       "8984  The realization in the late 1970s that RAS har...           0   \n",
       "8985  Hemizygous deletions are common molecular abno...           0   \n",
       "8986  All most R267W of has with to SMARTpool invest...           0   \n",
       "8987  Abstract Blood samples from 125 unrelated fami...           0   \n",
       "8988  Loss of DNA mismatch repair (MMR) in humans, m...           0   \n",
       "\n",
       "      Variation_Share                                           Key_text  \n",
       "8984                1    These disease point both role the was signal...  \n",
       "8985                1    For group-by-day variants not for KIT L130F ...  \n",
       "8986                1    All most R267W of has with to SMARTpool inve...  \n",
       "8987                1    Figure these are MYC also protein subsequent...  \n",
       "8988                1    In Author mutations response data T54I has d...  "
      ]
     },
     "execution_count": 104,
     "metadata": {},
     "output_type": "execute_result"
    }
   ],
   "source": [
    "df_all.tail()"
   ]
  },
  {
   "cell_type": "code",
   "execution_count": 105,
   "metadata": {
    "collapsed": true
   },
   "outputs": [],
   "source": [
    "df_text = df_all[['ID', 'Text','Key_text']]"
   ]
  },
  {
   "cell_type": "code",
   "execution_count": 106,
   "metadata": {},
   "outputs": [
    {
     "data": {
      "text/html": [
       "<div>\n",
       "<table border=\"1\" class=\"dataframe\">\n",
       "  <thead>\n",
       "    <tr style=\"text-align: right;\">\n",
       "      <th></th>\n",
       "      <th>ID</th>\n",
       "      <th>Text</th>\n",
       "      <th>Key_text</th>\n",
       "    </tr>\n",
       "  </thead>\n",
       "  <tbody>\n",
       "    <tr>\n",
       "      <th>0</th>\n",
       "      <td>0</td>\n",
       "      <td>Cyclin-dependent kinases (CDKs) regulate a var...</td>\n",
       "      <td></td>\n",
       "    </tr>\n",
       "    <tr>\n",
       "      <th>1</th>\n",
       "      <td>1</td>\n",
       "      <td>Abstract Background  Non-small cell lung canc...</td>\n",
       "      <td>Using select c-CBL somatic mutations such as...</td>\n",
       "    </tr>\n",
       "    <tr>\n",
       "      <th>2</th>\n",
       "      <td>2</td>\n",
       "      <td>Abstract Background  Non-small cell lung canc...</td>\n",
       "      <td>Using select c-CBL somatic mutations such as...</td>\n",
       "    </tr>\n",
       "    <tr>\n",
       "      <th>3</th>\n",
       "      <td>3</td>\n",
       "      <td>Recent evidence has demonstrated that acquired...</td>\n",
       "      <td>Most of the changes were novel, although 4 c...</td>\n",
       "    </tr>\n",
       "    <tr>\n",
       "      <th>4</th>\n",
       "      <td>4</td>\n",
       "      <td>Oncogenic mutations in the monomeric Casitas B...</td>\n",
       "      <td>Finally, the third group constituted mutati...</td>\n",
       "    </tr>\n",
       "  </tbody>\n",
       "</table>\n",
       "</div>"
      ],
      "text/plain": [
       "   ID                                               Text  \\\n",
       "0   0  Cyclin-dependent kinases (CDKs) regulate a var...   \n",
       "1   1   Abstract Background  Non-small cell lung canc...   \n",
       "2   2   Abstract Background  Non-small cell lung canc...   \n",
       "3   3  Recent evidence has demonstrated that acquired...   \n",
       "4   4  Oncogenic mutations in the monomeric Casitas B...   \n",
       "\n",
       "                                            Key_text  \n",
       "0                                                     \n",
       "1    Using select c-CBL somatic mutations such as...  \n",
       "2    Using select c-CBL somatic mutations such as...  \n",
       "3    Most of the changes were novel, although 4 c...  \n",
       "4     Finally, the third group constituted mutati...  "
      ]
     },
     "execution_count": 106,
     "metadata": {},
     "output_type": "execute_result"
    }
   ],
   "source": [
    "df_text.head()"
   ]
  },
  {
   "cell_type": "code",
   "execution_count": 107,
   "metadata": {},
   "outputs": [
    {
     "data": {
      "text/plain": [
       "array(['ID', 'Gene', 'Variation', 'Class', 'text_char_len', 'text_words',\n",
       "       'Text', 'Gene_Share', 'Variation_Share', 'Key_text'], dtype=object)"
      ]
     },
     "execution_count": 107,
     "metadata": {},
     "output_type": "execute_result"
    }
   ],
   "source": [
    "df_all.columns.values"
   ]
  },
  {
   "cell_type": "code",
   "execution_count": 108,
   "metadata": {
    "collapsed": true
   },
   "outputs": [],
   "source": [
    "columns = ['ID', 'Gene', 'Variation', 'Class', 'text_char_len', 'text_words',\n",
    "        'Gene_Share', 'Variation_Share']"
   ]
  },
  {
   "cell_type": "code",
   "execution_count": 109,
   "metadata": {
    "collapsed": true
   },
   "outputs": [],
   "source": [
    "df = df_all[columns]"
   ]
  },
  {
   "cell_type": "code",
   "execution_count": 110,
   "metadata": {},
   "outputs": [
    {
     "data": {
      "text/html": [
       "<div>\n",
       "<table border=\"1\" class=\"dataframe\">\n",
       "  <thead>\n",
       "    <tr style=\"text-align: right;\">\n",
       "      <th></th>\n",
       "      <th>ID</th>\n",
       "      <th>Gene</th>\n",
       "      <th>Variation</th>\n",
       "      <th>Class</th>\n",
       "      <th>text_char_len</th>\n",
       "      <th>text_words</th>\n",
       "      <th>Gene_Share</th>\n",
       "      <th>Variation_Share</th>\n",
       "    </tr>\n",
       "  </thead>\n",
       "  <tbody>\n",
       "    <tr>\n",
       "      <th>0</th>\n",
       "      <td>0</td>\n",
       "      <td>FAM58A</td>\n",
       "      <td>Truncating Mutations</td>\n",
       "      <td>1</td>\n",
       "      <td>39672</td>\n",
       "      <td>6105</td>\n",
       "      <td>1</td>\n",
       "      <td>1</td>\n",
       "    </tr>\n",
       "    <tr>\n",
       "      <th>1</th>\n",
       "      <td>1</td>\n",
       "      <td>CBL</td>\n",
       "      <td>W802*</td>\n",
       "      <td>2</td>\n",
       "      <td>36691</td>\n",
       "      <td>5783</td>\n",
       "      <td>1</td>\n",
       "      <td>1</td>\n",
       "    </tr>\n",
       "    <tr>\n",
       "      <th>2</th>\n",
       "      <td>2</td>\n",
       "      <td>CBL</td>\n",
       "      <td>Q249E</td>\n",
       "      <td>2</td>\n",
       "      <td>36691</td>\n",
       "      <td>5783</td>\n",
       "      <td>1</td>\n",
       "      <td>1</td>\n",
       "    </tr>\n",
       "    <tr>\n",
       "      <th>3</th>\n",
       "      <td>3</td>\n",
       "      <td>CBL</td>\n",
       "      <td>N454D</td>\n",
       "      <td>3</td>\n",
       "      <td>36238</td>\n",
       "      <td>5625</td>\n",
       "      <td>1</td>\n",
       "      <td>1</td>\n",
       "    </tr>\n",
       "    <tr>\n",
       "      <th>4</th>\n",
       "      <td>4</td>\n",
       "      <td>CBL</td>\n",
       "      <td>L399V</td>\n",
       "      <td>4</td>\n",
       "      <td>41308</td>\n",
       "      <td>6248</td>\n",
       "      <td>1</td>\n",
       "      <td>1</td>\n",
       "    </tr>\n",
       "  </tbody>\n",
       "</table>\n",
       "</div>"
      ],
      "text/plain": [
       "   ID    Gene             Variation  Class  text_char_len  text_words  \\\n",
       "0   0  FAM58A  Truncating Mutations      1          39672        6105   \n",
       "1   1     CBL                 W802*      2          36691        5783   \n",
       "2   2     CBL                 Q249E      2          36691        5783   \n",
       "3   3     CBL                 N454D      3          36238        5625   \n",
       "4   4     CBL                 L399V      4          41308        6248   \n",
       "\n",
       "   Gene_Share  Variation_Share  \n",
       "0           1                1  \n",
       "1           1                1  \n",
       "2           1                1  \n",
       "3           1                1  \n",
       "4           1                1  "
      ]
     },
     "execution_count": 110,
     "metadata": {},
     "output_type": "execute_result"
    }
   ],
   "source": [
    "df.head()"
   ]
  },
  {
   "cell_type": "code",
   "execution_count": 111,
   "metadata": {
    "collapsed": true
   },
   "outputs": [],
   "source": [
    "del(df_all)"
   ]
  },
  {
   "cell_type": "code",
   "execution_count": null,
   "metadata": {
    "collapsed": true
   },
   "outputs": [],
   "source": []
  },
  {
   "cell_type": "code",
   "execution_count": null,
   "metadata": {
    "collapsed": true
   },
   "outputs": [],
   "source": []
  },
  {
   "cell_type": "code",
   "execution_count": null,
   "metadata": {
    "collapsed": true
   },
   "outputs": [],
   "source": []
  },
  {
   "cell_type": "markdown",
   "metadata": {},
   "source": [
    "# chage categorical to numbers"
   ]
  },
  {
   "cell_type": "code",
   "execution_count": 112,
   "metadata": {
    "collapsed": true
   },
   "outputs": [],
   "source": [
    "from sklearn import preprocessing\n",
    "le = preprocessing.LabelEncoder()"
   ]
  },
  {
   "cell_type": "code",
   "execution_count": 113,
   "metadata": {},
   "outputs": [
    {
     "data": {
      "text/plain": [
       "LabelEncoder()"
      ]
     },
     "execution_count": 113,
     "metadata": {},
     "output_type": "execute_result"
    }
   ],
   "source": [
    "le.fit(df.Gene)"
   ]
  },
  {
   "cell_type": "code",
   "execution_count": 114,
   "metadata": {},
   "outputs": [
    {
     "data": {
      "text/plain": [
       "array([447, 216, 216, ..., 576, 314, 344])"
      ]
     },
     "execution_count": 114,
     "metadata": {},
     "output_type": "execute_result"
    }
   ],
   "source": [
    "le.transform(df.Gene)"
   ]
  },
  {
   "cell_type": "code",
   "execution_count": 115,
   "metadata": {
    "collapsed": true
   },
   "outputs": [],
   "source": [
    "df['Gene'] = le.transform(df.Gene)"
   ]
  },
  {
   "cell_type": "code",
   "execution_count": 116,
   "metadata": {},
   "outputs": [
    {
     "data": {
      "text/html": [
       "<div>\n",
       "<table border=\"1\" class=\"dataframe\">\n",
       "  <thead>\n",
       "    <tr style=\"text-align: right;\">\n",
       "      <th></th>\n",
       "      <th>ID</th>\n",
       "      <th>Gene</th>\n",
       "      <th>Variation</th>\n",
       "      <th>Class</th>\n",
       "      <th>text_char_len</th>\n",
       "      <th>text_words</th>\n",
       "      <th>Gene_Share</th>\n",
       "      <th>Variation_Share</th>\n",
       "    </tr>\n",
       "  </thead>\n",
       "  <tbody>\n",
       "    <tr>\n",
       "      <th>0</th>\n",
       "      <td>0</td>\n",
       "      <td>447</td>\n",
       "      <td>Truncating Mutations</td>\n",
       "      <td>1</td>\n",
       "      <td>39672</td>\n",
       "      <td>6105</td>\n",
       "      <td>1</td>\n",
       "      <td>1</td>\n",
       "    </tr>\n",
       "    <tr>\n",
       "      <th>1</th>\n",
       "      <td>1</td>\n",
       "      <td>216</td>\n",
       "      <td>W802*</td>\n",
       "      <td>2</td>\n",
       "      <td>36691</td>\n",
       "      <td>5783</td>\n",
       "      <td>1</td>\n",
       "      <td>1</td>\n",
       "    </tr>\n",
       "    <tr>\n",
       "      <th>2</th>\n",
       "      <td>2</td>\n",
       "      <td>216</td>\n",
       "      <td>Q249E</td>\n",
       "      <td>2</td>\n",
       "      <td>36691</td>\n",
       "      <td>5783</td>\n",
       "      <td>1</td>\n",
       "      <td>1</td>\n",
       "    </tr>\n",
       "    <tr>\n",
       "      <th>3</th>\n",
       "      <td>3</td>\n",
       "      <td>216</td>\n",
       "      <td>N454D</td>\n",
       "      <td>3</td>\n",
       "      <td>36238</td>\n",
       "      <td>5625</td>\n",
       "      <td>1</td>\n",
       "      <td>1</td>\n",
       "    </tr>\n",
       "    <tr>\n",
       "      <th>4</th>\n",
       "      <td>4</td>\n",
       "      <td>216</td>\n",
       "      <td>L399V</td>\n",
       "      <td>4</td>\n",
       "      <td>41308</td>\n",
       "      <td>6248</td>\n",
       "      <td>1</td>\n",
       "      <td>1</td>\n",
       "    </tr>\n",
       "  </tbody>\n",
       "</table>\n",
       "</div>"
      ],
      "text/plain": [
       "   ID  Gene             Variation  Class  text_char_len  text_words  \\\n",
       "0   0   447  Truncating Mutations      1          39672        6105   \n",
       "1   1   216                 W802*      2          36691        5783   \n",
       "2   2   216                 Q249E      2          36691        5783   \n",
       "3   3   216                 N454D      3          36238        5625   \n",
       "4   4   216                 L399V      4          41308        6248   \n",
       "\n",
       "   Gene_Share  Variation_Share  \n",
       "0           1                1  \n",
       "1           1                1  \n",
       "2           1                1  \n",
       "3           1                1  \n",
       "4           1                1  "
      ]
     },
     "execution_count": 116,
     "metadata": {},
     "output_type": "execute_result"
    }
   ],
   "source": [
    "df.head()"
   ]
  },
  {
   "cell_type": "code",
   "execution_count": 117,
   "metadata": {},
   "outputs": [
    {
     "data": {
      "text/html": [
       "<div>\n",
       "<table border=\"1\" class=\"dataframe\">\n",
       "  <thead>\n",
       "    <tr style=\"text-align: right;\">\n",
       "      <th></th>\n",
       "      <th>ID</th>\n",
       "      <th>Gene</th>\n",
       "      <th>Variation</th>\n",
       "      <th>Class</th>\n",
       "      <th>text_char_len</th>\n",
       "      <th>text_words</th>\n",
       "      <th>Gene_Share</th>\n",
       "      <th>Variation_Share</th>\n",
       "    </tr>\n",
       "  </thead>\n",
       "  <tbody>\n",
       "    <tr>\n",
       "      <th>8984</th>\n",
       "      <td>5663</td>\n",
       "      <td>1262</td>\n",
       "      <td>R113S</td>\n",
       "      <td>-1</td>\n",
       "      <td>76385</td>\n",
       "      <td>11114</td>\n",
       "      <td>0</td>\n",
       "      <td>1</td>\n",
       "    </tr>\n",
       "    <tr>\n",
       "      <th>8985</th>\n",
       "      <td>5664</td>\n",
       "      <td>486</td>\n",
       "      <td>L130F</td>\n",
       "      <td>-1</td>\n",
       "      <td>27014</td>\n",
       "      <td>4134</td>\n",
       "      <td>0</td>\n",
       "      <td>1</td>\n",
       "    </tr>\n",
       "    <tr>\n",
       "      <th>8986</th>\n",
       "      <td>5665</td>\n",
       "      <td>576</td>\n",
       "      <td>R267W</td>\n",
       "      <td>-1</td>\n",
       "      <td>23101</td>\n",
       "      <td>3427</td>\n",
       "      <td>0</td>\n",
       "      <td>1</td>\n",
       "    </tr>\n",
       "    <tr>\n",
       "      <th>8987</th>\n",
       "      <td>5666</td>\n",
       "      <td>314</td>\n",
       "      <td>G79E</td>\n",
       "      <td>-1</td>\n",
       "      <td>67269</td>\n",
       "      <td>10635</td>\n",
       "      <td>0</td>\n",
       "      <td>1</td>\n",
       "    </tr>\n",
       "    <tr>\n",
       "      <th>8988</th>\n",
       "      <td>5667</td>\n",
       "      <td>344</td>\n",
       "      <td>T54I</td>\n",
       "      <td>-1</td>\n",
       "      <td>27021</td>\n",
       "      <td>4079</td>\n",
       "      <td>0</td>\n",
       "      <td>1</td>\n",
       "    </tr>\n",
       "  </tbody>\n",
       "</table>\n",
       "</div>"
      ],
      "text/plain": [
       "        ID  Gene Variation  Class  text_char_len  text_words  Gene_Share  \\\n",
       "8984  5663  1262     R113S     -1          76385       11114           0   \n",
       "8985  5664   486     L130F     -1          27014        4134           0   \n",
       "8986  5665   576     R267W     -1          23101        3427           0   \n",
       "8987  5666   314      G79E     -1          67269       10635           0   \n",
       "8988  5667   344      T54I     -1          27021        4079           0   \n",
       "\n",
       "      Variation_Share  \n",
       "8984                1  \n",
       "8985                1  \n",
       "8986                1  \n",
       "8987                1  \n",
       "8988                1  "
      ]
     },
     "execution_count": 117,
     "metadata": {},
     "output_type": "execute_result"
    }
   ],
   "source": [
    "df.tail()"
   ]
  },
  {
   "cell_type": "code",
   "execution_count": 118,
   "metadata": {},
   "outputs": [
    {
     "data": {
      "text/plain": [
       "LabelEncoder()"
      ]
     },
     "execution_count": 118,
     "metadata": {},
     "output_type": "execute_result"
    }
   ],
   "source": [
    "le.fit(df.Variation)"
   ]
  },
  {
   "cell_type": "code",
   "execution_count": 119,
   "metadata": {
    "collapsed": true
   },
   "outputs": [],
   "source": [
    "df['Variation'] = le.transform(df.Variation)"
   ]
  },
  {
   "cell_type": "code",
   "execution_count": 120,
   "metadata": {},
   "outputs": [
    {
     "data": {
      "text/html": [
       "<div>\n",
       "<table border=\"1\" class=\"dataframe\">\n",
       "  <thead>\n",
       "    <tr style=\"text-align: right;\">\n",
       "      <th></th>\n",
       "      <th>ID</th>\n",
       "      <th>Gene</th>\n",
       "      <th>Variation</th>\n",
       "      <th>Class</th>\n",
       "      <th>text_char_len</th>\n",
       "      <th>text_words</th>\n",
       "      <th>Gene_Share</th>\n",
       "      <th>Variation_Share</th>\n",
       "    </tr>\n",
       "  </thead>\n",
       "  <tbody>\n",
       "    <tr>\n",
       "      <th>0</th>\n",
       "      <td>0</td>\n",
       "      <td>447</td>\n",
       "      <td>7654</td>\n",
       "      <td>1</td>\n",
       "      <td>39672</td>\n",
       "      <td>6105</td>\n",
       "      <td>1</td>\n",
       "      <td>1</td>\n",
       "    </tr>\n",
       "    <tr>\n",
       "      <th>1</th>\n",
       "      <td>1</td>\n",
       "      <td>216</td>\n",
       "      <td>8255</td>\n",
       "      <td>2</td>\n",
       "      <td>36691</td>\n",
       "      <td>5783</td>\n",
       "      <td>1</td>\n",
       "      <td>1</td>\n",
       "    </tr>\n",
       "    <tr>\n",
       "      <th>2</th>\n",
       "      <td>2</td>\n",
       "      <td>216</td>\n",
       "      <td>5191</td>\n",
       "      <td>2</td>\n",
       "      <td>36691</td>\n",
       "      <td>5783</td>\n",
       "      <td>1</td>\n",
       "      <td>1</td>\n",
       "    </tr>\n",
       "    <tr>\n",
       "      <th>3</th>\n",
       "      <td>3</td>\n",
       "      <td>216</td>\n",
       "      <td>4572</td>\n",
       "      <td>3</td>\n",
       "      <td>36238</td>\n",
       "      <td>5625</td>\n",
       "      <td>1</td>\n",
       "      <td>1</td>\n",
       "    </tr>\n",
       "    <tr>\n",
       "      <th>4</th>\n",
       "      <td>4</td>\n",
       "      <td>216</td>\n",
       "      <td>3958</td>\n",
       "      <td>4</td>\n",
       "      <td>41308</td>\n",
       "      <td>6248</td>\n",
       "      <td>1</td>\n",
       "      <td>1</td>\n",
       "    </tr>\n",
       "  </tbody>\n",
       "</table>\n",
       "</div>"
      ],
      "text/plain": [
       "   ID  Gene  Variation  Class  text_char_len  text_words  Gene_Share  \\\n",
       "0   0   447       7654      1          39672        6105           1   \n",
       "1   1   216       8255      2          36691        5783           1   \n",
       "2   2   216       5191      2          36691        5783           1   \n",
       "3   3   216       4572      3          36238        5625           1   \n",
       "4   4   216       3958      4          41308        6248           1   \n",
       "\n",
       "   Variation_Share  \n",
       "0                1  \n",
       "1                1  \n",
       "2                1  \n",
       "3                1  \n",
       "4                1  "
      ]
     },
     "execution_count": 120,
     "metadata": {},
     "output_type": "execute_result"
    }
   ],
   "source": [
    "df.head()"
   ]
  },
  {
   "cell_type": "code",
   "execution_count": 121,
   "metadata": {
    "collapsed": true
   },
   "outputs": [],
   "source": [
    "df = df.drop('ID', axis = 1)"
   ]
  },
  {
   "cell_type": "code",
   "execution_count": 122,
   "metadata": {},
   "outputs": [
    {
     "data": {
      "text/html": [
       "<div>\n",
       "<table border=\"1\" class=\"dataframe\">\n",
       "  <thead>\n",
       "    <tr style=\"text-align: right;\">\n",
       "      <th></th>\n",
       "      <th>Gene</th>\n",
       "      <th>Variation</th>\n",
       "      <th>Class</th>\n",
       "      <th>text_char_len</th>\n",
       "      <th>text_words</th>\n",
       "      <th>Gene_Share</th>\n",
       "      <th>Variation_Share</th>\n",
       "    </tr>\n",
       "  </thead>\n",
       "  <tbody>\n",
       "    <tr>\n",
       "      <th>0</th>\n",
       "      <td>447</td>\n",
       "      <td>7654</td>\n",
       "      <td>1</td>\n",
       "      <td>39672</td>\n",
       "      <td>6105</td>\n",
       "      <td>1</td>\n",
       "      <td>1</td>\n",
       "    </tr>\n",
       "    <tr>\n",
       "      <th>1</th>\n",
       "      <td>216</td>\n",
       "      <td>8255</td>\n",
       "      <td>2</td>\n",
       "      <td>36691</td>\n",
       "      <td>5783</td>\n",
       "      <td>1</td>\n",
       "      <td>1</td>\n",
       "    </tr>\n",
       "    <tr>\n",
       "      <th>2</th>\n",
       "      <td>216</td>\n",
       "      <td>5191</td>\n",
       "      <td>2</td>\n",
       "      <td>36691</td>\n",
       "      <td>5783</td>\n",
       "      <td>1</td>\n",
       "      <td>1</td>\n",
       "    </tr>\n",
       "    <tr>\n",
       "      <th>3</th>\n",
       "      <td>216</td>\n",
       "      <td>4572</td>\n",
       "      <td>3</td>\n",
       "      <td>36238</td>\n",
       "      <td>5625</td>\n",
       "      <td>1</td>\n",
       "      <td>1</td>\n",
       "    </tr>\n",
       "    <tr>\n",
       "      <th>4</th>\n",
       "      <td>216</td>\n",
       "      <td>3958</td>\n",
       "      <td>4</td>\n",
       "      <td>41308</td>\n",
       "      <td>6248</td>\n",
       "      <td>1</td>\n",
       "      <td>1</td>\n",
       "    </tr>\n",
       "  </tbody>\n",
       "</table>\n",
       "</div>"
      ],
      "text/plain": [
       "   Gene  Variation  Class  text_char_len  text_words  Gene_Share  \\\n",
       "0   447       7654      1          39672        6105           1   \n",
       "1   216       8255      2          36691        5783           1   \n",
       "2   216       5191      2          36691        5783           1   \n",
       "3   216       4572      3          36238        5625           1   \n",
       "4   216       3958      4          41308        6248           1   \n",
       "\n",
       "   Variation_Share  \n",
       "0                1  \n",
       "1                1  \n",
       "2                1  \n",
       "3                1  \n",
       "4                1  "
      ]
     },
     "execution_count": 122,
     "metadata": {},
     "output_type": "execute_result"
    }
   ],
   "source": [
    "df.head()"
   ]
  },
  {
   "cell_type": "markdown",
   "metadata": {},
   "source": [
    "# use CountVectorizer to simply convert text to vector"
   ]
  },
  {
   "cell_type": "code",
   "execution_count": 123,
   "metadata": {
    "collapsed": true
   },
   "outputs": [],
   "source": [
    "from sklearn.feature_extraction.text import CountVectorizer"
   ]
  },
  {
   "cell_type": "code",
   "execution_count": 124,
   "metadata": {
    "collapsed": true
   },
   "outputs": [],
   "source": [
    "vectorizer = CountVectorizer()"
   ]
  },
  {
   "cell_type": "code",
   "execution_count": 125,
   "metadata": {},
   "outputs": [
    {
     "data": {
      "text/plain": [
       "CountVectorizer(analyzer='word', binary=False, decode_error='strict',\n",
       "        dtype=<class 'numpy.int64'>, encoding='utf-8', input='content',\n",
       "        lowercase=True, max_df=1.0, max_features=None, min_df=1,\n",
       "        ngram_range=(1, 1), preprocessor=None, stop_words=None,\n",
       "        strip_accents=None, token_pattern='(?u)\\\\b\\\\w\\\\w+\\\\b',\n",
       "        tokenizer=None, vocabulary=None)"
      ]
     },
     "execution_count": 125,
     "metadata": {},
     "output_type": "execute_result"
    }
   ],
   "source": [
    "vectorizer.fit(df_text.Text)"
   ]
  },
  {
   "cell_type": "code",
   "execution_count": 126,
   "metadata": {},
   "outputs": [
    {
     "data": {
      "text/html": [
       "<div>\n",
       "<table border=\"1\" class=\"dataframe\">\n",
       "  <thead>\n",
       "    <tr style=\"text-align: right;\">\n",
       "      <th></th>\n",
       "      <th>ID</th>\n",
       "      <th>Text</th>\n",
       "      <th>Key_text</th>\n",
       "    </tr>\n",
       "  </thead>\n",
       "  <tbody>\n",
       "    <tr>\n",
       "      <th>0</th>\n",
       "      <td>0</td>\n",
       "      <td>Cyclin-dependent kinases (CDKs) regulate a var...</td>\n",
       "      <td></td>\n",
       "    </tr>\n",
       "    <tr>\n",
       "      <th>1</th>\n",
       "      <td>1</td>\n",
       "      <td>Abstract Background  Non-small cell lung canc...</td>\n",
       "      <td>Using select c-CBL somatic mutations such as...</td>\n",
       "    </tr>\n",
       "    <tr>\n",
       "      <th>2</th>\n",
       "      <td>2</td>\n",
       "      <td>Abstract Background  Non-small cell lung canc...</td>\n",
       "      <td>Using select c-CBL somatic mutations such as...</td>\n",
       "    </tr>\n",
       "    <tr>\n",
       "      <th>3</th>\n",
       "      <td>3</td>\n",
       "      <td>Recent evidence has demonstrated that acquired...</td>\n",
       "      <td>Most of the changes were novel, although 4 c...</td>\n",
       "    </tr>\n",
       "    <tr>\n",
       "      <th>4</th>\n",
       "      <td>4</td>\n",
       "      <td>Oncogenic mutations in the monomeric Casitas B...</td>\n",
       "      <td>Finally, the third group constituted mutati...</td>\n",
       "    </tr>\n",
       "  </tbody>\n",
       "</table>\n",
       "</div>"
      ],
      "text/plain": [
       "   ID                                               Text  \\\n",
       "0   0  Cyclin-dependent kinases (CDKs) regulate a var...   \n",
       "1   1   Abstract Background  Non-small cell lung canc...   \n",
       "2   2   Abstract Background  Non-small cell lung canc...   \n",
       "3   3  Recent evidence has demonstrated that acquired...   \n",
       "4   4  Oncogenic mutations in the monomeric Casitas B...   \n",
       "\n",
       "                                            Key_text  \n",
       "0                                                     \n",
       "1    Using select c-CBL somatic mutations such as...  \n",
       "2    Using select c-CBL somatic mutations such as...  \n",
       "3    Most of the changes were novel, although 4 c...  \n",
       "4     Finally, the third group constituted mutati...  "
      ]
     },
     "execution_count": 126,
     "metadata": {},
     "output_type": "execute_result"
    }
   ],
   "source": [
    "df_text.head()"
   ]
  },
  {
   "cell_type": "code",
   "execution_count": 127,
   "metadata": {
    "collapsed": true
   },
   "outputs": [],
   "source": [
    "X = vectorizer.transform(df_text.Text)"
   ]
  },
  {
   "cell_type": "code",
   "execution_count": 128,
   "metadata": {
    "collapsed": true
   },
   "outputs": [],
   "source": [
    "X_array = X.toarray()"
   ]
  },
  {
   "cell_type": "code",
   "execution_count": 129,
   "metadata": {
    "collapsed": true
   },
   "outputs": [],
   "source": [
    "df_text_array = pd.DataFrame(X_array)"
   ]
  },
  {
   "cell_type": "code",
   "execution_count": 130,
   "metadata": {},
   "outputs": [
    {
     "data": {
      "text/html": [
       "<div>\n",
       "<table border=\"1\" class=\"dataframe\">\n",
       "  <thead>\n",
       "    <tr style=\"text-align: right;\">\n",
       "      <th></th>\n",
       "      <th>0</th>\n",
       "      <th>1</th>\n",
       "      <th>2</th>\n",
       "      <th>3</th>\n",
       "      <th>4</th>\n",
       "      <th>5</th>\n",
       "      <th>6</th>\n",
       "      <th>7</th>\n",
       "      <th>8</th>\n",
       "      <th>9</th>\n",
       "      <th>...</th>\n",
       "      <th>169415</th>\n",
       "      <th>169416</th>\n",
       "      <th>169417</th>\n",
       "      <th>169418</th>\n",
       "      <th>169419</th>\n",
       "      <th>169420</th>\n",
       "      <th>169421</th>\n",
       "      <th>169422</th>\n",
       "      <th>169423</th>\n",
       "      <th>169424</th>\n",
       "    </tr>\n",
       "  </thead>\n",
       "  <tbody>\n",
       "    <tr>\n",
       "      <th>0</th>\n",
       "      <td>0</td>\n",
       "      <td>14</td>\n",
       "      <td>0</td>\n",
       "      <td>0</td>\n",
       "      <td>0</td>\n",
       "      <td>0</td>\n",
       "      <td>0</td>\n",
       "      <td>0</td>\n",
       "      <td>0</td>\n",
       "      <td>0</td>\n",
       "      <td>...</td>\n",
       "      <td>0</td>\n",
       "      <td>0</td>\n",
       "      <td>0</td>\n",
       "      <td>0</td>\n",
       "      <td>0</td>\n",
       "      <td>0</td>\n",
       "      <td>0</td>\n",
       "      <td>0</td>\n",
       "      <td>0</td>\n",
       "      <td>0</td>\n",
       "    </tr>\n",
       "    <tr>\n",
       "      <th>1</th>\n",
       "      <td>0</td>\n",
       "      <td>4</td>\n",
       "      <td>0</td>\n",
       "      <td>0</td>\n",
       "      <td>0</td>\n",
       "      <td>0</td>\n",
       "      <td>0</td>\n",
       "      <td>0</td>\n",
       "      <td>0</td>\n",
       "      <td>0</td>\n",
       "      <td>...</td>\n",
       "      <td>0</td>\n",
       "      <td>0</td>\n",
       "      <td>0</td>\n",
       "      <td>0</td>\n",
       "      <td>0</td>\n",
       "      <td>0</td>\n",
       "      <td>0</td>\n",
       "      <td>0</td>\n",
       "      <td>0</td>\n",
       "      <td>0</td>\n",
       "    </tr>\n",
       "    <tr>\n",
       "      <th>2</th>\n",
       "      <td>0</td>\n",
       "      <td>4</td>\n",
       "      <td>0</td>\n",
       "      <td>0</td>\n",
       "      <td>0</td>\n",
       "      <td>0</td>\n",
       "      <td>0</td>\n",
       "      <td>0</td>\n",
       "      <td>0</td>\n",
       "      <td>0</td>\n",
       "      <td>...</td>\n",
       "      <td>0</td>\n",
       "      <td>0</td>\n",
       "      <td>0</td>\n",
       "      <td>0</td>\n",
       "      <td>0</td>\n",
       "      <td>0</td>\n",
       "      <td>0</td>\n",
       "      <td>0</td>\n",
       "      <td>0</td>\n",
       "      <td>0</td>\n",
       "    </tr>\n",
       "    <tr>\n",
       "      <th>3</th>\n",
       "      <td>0</td>\n",
       "      <td>0</td>\n",
       "      <td>0</td>\n",
       "      <td>0</td>\n",
       "      <td>0</td>\n",
       "      <td>0</td>\n",
       "      <td>0</td>\n",
       "      <td>0</td>\n",
       "      <td>0</td>\n",
       "      <td>0</td>\n",
       "      <td>...</td>\n",
       "      <td>0</td>\n",
       "      <td>0</td>\n",
       "      <td>0</td>\n",
       "      <td>0</td>\n",
       "      <td>0</td>\n",
       "      <td>0</td>\n",
       "      <td>0</td>\n",
       "      <td>0</td>\n",
       "      <td>0</td>\n",
       "      <td>0</td>\n",
       "    </tr>\n",
       "    <tr>\n",
       "      <th>4</th>\n",
       "      <td>0</td>\n",
       "      <td>3</td>\n",
       "      <td>0</td>\n",
       "      <td>0</td>\n",
       "      <td>0</td>\n",
       "      <td>0</td>\n",
       "      <td>0</td>\n",
       "      <td>0</td>\n",
       "      <td>0</td>\n",
       "      <td>0</td>\n",
       "      <td>...</td>\n",
       "      <td>0</td>\n",
       "      <td>0</td>\n",
       "      <td>0</td>\n",
       "      <td>0</td>\n",
       "      <td>0</td>\n",
       "      <td>0</td>\n",
       "      <td>0</td>\n",
       "      <td>0</td>\n",
       "      <td>0</td>\n",
       "      <td>0</td>\n",
       "    </tr>\n",
       "  </tbody>\n",
       "</table>\n",
       "<p>5 rows × 169425 columns</p>\n",
       "</div>"
      ],
      "text/plain": [
       "   0       1       2       3       4       5       6       7       8       \\\n",
       "0       0      14       0       0       0       0       0       0       0   \n",
       "1       0       4       0       0       0       0       0       0       0   \n",
       "2       0       4       0       0       0       0       0       0       0   \n",
       "3       0       0       0       0       0       0       0       0       0   \n",
       "4       0       3       0       0       0       0       0       0       0   \n",
       "\n",
       "   9        ...    169415  169416  169417  169418  169419  169420  169421  \\\n",
       "0       0   ...         0       0       0       0       0       0       0   \n",
       "1       0   ...         0       0       0       0       0       0       0   \n",
       "2       0   ...         0       0       0       0       0       0       0   \n",
       "3       0   ...         0       0       0       0       0       0       0   \n",
       "4       0   ...         0       0       0       0       0       0       0   \n",
       "\n",
       "   169422  169423  169424  \n",
       "0       0       0       0  \n",
       "1       0       0       0  \n",
       "2       0       0       0  \n",
       "3       0       0       0  \n",
       "4       0       0       0  \n",
       "\n",
       "[5 rows x 169425 columns]"
      ]
     },
     "execution_count": 130,
     "metadata": {},
     "output_type": "execute_result"
    }
   ],
   "source": [
    "df_text_array.head()"
   ]
  },
  {
   "cell_type": "code",
   "execution_count": 131,
   "metadata": {},
   "outputs": [
    {
     "data": {
      "text/plain": [
       "array([     0,      1,      2, ..., 169422, 169423, 169424])"
      ]
     },
     "execution_count": 131,
     "metadata": {},
     "output_type": "execute_result"
    }
   ],
   "source": [
    "df_text_array.columns.values"
   ]
  },
  {
   "cell_type": "code",
   "execution_count": 132,
   "metadata": {
    "collapsed": true
   },
   "outputs": [],
   "source": [
    "title = ['vec{}'.format(i) for i in range(len(df_text_array.columns.values))]"
   ]
  },
  {
   "cell_type": "code",
   "execution_count": 133,
   "metadata": {},
   "outputs": [
    {
     "data": {
      "text/html": [
       "<div>\n",
       "<table border=\"1\" class=\"dataframe\">\n",
       "  <thead>\n",
       "    <tr style=\"text-align: right;\">\n",
       "      <th></th>\n",
       "      <th>0</th>\n",
       "      <th>1</th>\n",
       "      <th>2</th>\n",
       "      <th>3</th>\n",
       "      <th>4</th>\n",
       "      <th>5</th>\n",
       "      <th>6</th>\n",
       "      <th>7</th>\n",
       "      <th>8</th>\n",
       "      <th>9</th>\n",
       "      <th>...</th>\n",
       "      <th>169415</th>\n",
       "      <th>169416</th>\n",
       "      <th>169417</th>\n",
       "      <th>169418</th>\n",
       "      <th>169419</th>\n",
       "      <th>169420</th>\n",
       "      <th>169421</th>\n",
       "      <th>169422</th>\n",
       "      <th>169423</th>\n",
       "      <th>169424</th>\n",
       "    </tr>\n",
       "  </thead>\n",
       "  <tbody>\n",
       "    <tr>\n",
       "      <th>0</th>\n",
       "      <td>0</td>\n",
       "      <td>14</td>\n",
       "      <td>0</td>\n",
       "      <td>0</td>\n",
       "      <td>0</td>\n",
       "      <td>0</td>\n",
       "      <td>0</td>\n",
       "      <td>0</td>\n",
       "      <td>0</td>\n",
       "      <td>0</td>\n",
       "      <td>...</td>\n",
       "      <td>0</td>\n",
       "      <td>0</td>\n",
       "      <td>0</td>\n",
       "      <td>0</td>\n",
       "      <td>0</td>\n",
       "      <td>0</td>\n",
       "      <td>0</td>\n",
       "      <td>0</td>\n",
       "      <td>0</td>\n",
       "      <td>0</td>\n",
       "    </tr>\n",
       "    <tr>\n",
       "      <th>1</th>\n",
       "      <td>0</td>\n",
       "      <td>4</td>\n",
       "      <td>0</td>\n",
       "      <td>0</td>\n",
       "      <td>0</td>\n",
       "      <td>0</td>\n",
       "      <td>0</td>\n",
       "      <td>0</td>\n",
       "      <td>0</td>\n",
       "      <td>0</td>\n",
       "      <td>...</td>\n",
       "      <td>0</td>\n",
       "      <td>0</td>\n",
       "      <td>0</td>\n",
       "      <td>0</td>\n",
       "      <td>0</td>\n",
       "      <td>0</td>\n",
       "      <td>0</td>\n",
       "      <td>0</td>\n",
       "      <td>0</td>\n",
       "      <td>0</td>\n",
       "    </tr>\n",
       "    <tr>\n",
       "      <th>2</th>\n",
       "      <td>0</td>\n",
       "      <td>4</td>\n",
       "      <td>0</td>\n",
       "      <td>0</td>\n",
       "      <td>0</td>\n",
       "      <td>0</td>\n",
       "      <td>0</td>\n",
       "      <td>0</td>\n",
       "      <td>0</td>\n",
       "      <td>0</td>\n",
       "      <td>...</td>\n",
       "      <td>0</td>\n",
       "      <td>0</td>\n",
       "      <td>0</td>\n",
       "      <td>0</td>\n",
       "      <td>0</td>\n",
       "      <td>0</td>\n",
       "      <td>0</td>\n",
       "      <td>0</td>\n",
       "      <td>0</td>\n",
       "      <td>0</td>\n",
       "    </tr>\n",
       "    <tr>\n",
       "      <th>3</th>\n",
       "      <td>0</td>\n",
       "      <td>0</td>\n",
       "      <td>0</td>\n",
       "      <td>0</td>\n",
       "      <td>0</td>\n",
       "      <td>0</td>\n",
       "      <td>0</td>\n",
       "      <td>0</td>\n",
       "      <td>0</td>\n",
       "      <td>0</td>\n",
       "      <td>...</td>\n",
       "      <td>0</td>\n",
       "      <td>0</td>\n",
       "      <td>0</td>\n",
       "      <td>0</td>\n",
       "      <td>0</td>\n",
       "      <td>0</td>\n",
       "      <td>0</td>\n",
       "      <td>0</td>\n",
       "      <td>0</td>\n",
       "      <td>0</td>\n",
       "    </tr>\n",
       "    <tr>\n",
       "      <th>4</th>\n",
       "      <td>0</td>\n",
       "      <td>3</td>\n",
       "      <td>0</td>\n",
       "      <td>0</td>\n",
       "      <td>0</td>\n",
       "      <td>0</td>\n",
       "      <td>0</td>\n",
       "      <td>0</td>\n",
       "      <td>0</td>\n",
       "      <td>0</td>\n",
       "      <td>...</td>\n",
       "      <td>0</td>\n",
       "      <td>0</td>\n",
       "      <td>0</td>\n",
       "      <td>0</td>\n",
       "      <td>0</td>\n",
       "      <td>0</td>\n",
       "      <td>0</td>\n",
       "      <td>0</td>\n",
       "      <td>0</td>\n",
       "      <td>0</td>\n",
       "    </tr>\n",
       "  </tbody>\n",
       "</table>\n",
       "<p>5 rows × 169425 columns</p>\n",
       "</div>"
      ],
      "text/plain": [
       "   0       1       2       3       4       5       6       7       8       \\\n",
       "0       0      14       0       0       0       0       0       0       0   \n",
       "1       0       4       0       0       0       0       0       0       0   \n",
       "2       0       4       0       0       0       0       0       0       0   \n",
       "3       0       0       0       0       0       0       0       0       0   \n",
       "4       0       3       0       0       0       0       0       0       0   \n",
       "\n",
       "   9        ...    169415  169416  169417  169418  169419  169420  169421  \\\n",
       "0       0   ...         0       0       0       0       0       0       0   \n",
       "1       0   ...         0       0       0       0       0       0       0   \n",
       "2       0   ...         0       0       0       0       0       0       0   \n",
       "3       0   ...         0       0       0       0       0       0       0   \n",
       "4       0   ...         0       0       0       0       0       0       0   \n",
       "\n",
       "   169422  169423  169424  \n",
       "0       0       0       0  \n",
       "1       0       0       0  \n",
       "2       0       0       0  \n",
       "3       0       0       0  \n",
       "4       0       0       0  \n",
       "\n",
       "[5 rows x 169425 columns]"
      ]
     },
     "execution_count": 133,
     "metadata": {},
     "output_type": "execute_result"
    }
   ],
   "source": [
    "df_text_array.head()\n"
   ]
  },
  {
   "cell_type": "code",
   "execution_count": 134,
   "metadata": {
    "collapsed": true
   },
   "outputs": [],
   "source": [
    "df_text_array.columns = title"
   ]
  },
  {
   "cell_type": "code",
   "execution_count": 135,
   "metadata": {},
   "outputs": [
    {
     "data": {
      "text/html": [
       "<div>\n",
       "<table border=\"1\" class=\"dataframe\">\n",
       "  <thead>\n",
       "    <tr style=\"text-align: right;\">\n",
       "      <th></th>\n",
       "      <th>vec0</th>\n",
       "      <th>vec1</th>\n",
       "      <th>vec2</th>\n",
       "      <th>vec3</th>\n",
       "      <th>vec4</th>\n",
       "      <th>vec5</th>\n",
       "      <th>vec6</th>\n",
       "      <th>vec7</th>\n",
       "      <th>vec8</th>\n",
       "      <th>vec9</th>\n",
       "      <th>...</th>\n",
       "      <th>vec169415</th>\n",
       "      <th>vec169416</th>\n",
       "      <th>vec169417</th>\n",
       "      <th>vec169418</th>\n",
       "      <th>vec169419</th>\n",
       "      <th>vec169420</th>\n",
       "      <th>vec169421</th>\n",
       "      <th>vec169422</th>\n",
       "      <th>vec169423</th>\n",
       "      <th>vec169424</th>\n",
       "    </tr>\n",
       "  </thead>\n",
       "  <tbody>\n",
       "    <tr>\n",
       "      <th>0</th>\n",
       "      <td>0</td>\n",
       "      <td>14</td>\n",
       "      <td>0</td>\n",
       "      <td>0</td>\n",
       "      <td>0</td>\n",
       "      <td>0</td>\n",
       "      <td>0</td>\n",
       "      <td>0</td>\n",
       "      <td>0</td>\n",
       "      <td>0</td>\n",
       "      <td>...</td>\n",
       "      <td>0</td>\n",
       "      <td>0</td>\n",
       "      <td>0</td>\n",
       "      <td>0</td>\n",
       "      <td>0</td>\n",
       "      <td>0</td>\n",
       "      <td>0</td>\n",
       "      <td>0</td>\n",
       "      <td>0</td>\n",
       "      <td>0</td>\n",
       "    </tr>\n",
       "    <tr>\n",
       "      <th>1</th>\n",
       "      <td>0</td>\n",
       "      <td>4</td>\n",
       "      <td>0</td>\n",
       "      <td>0</td>\n",
       "      <td>0</td>\n",
       "      <td>0</td>\n",
       "      <td>0</td>\n",
       "      <td>0</td>\n",
       "      <td>0</td>\n",
       "      <td>0</td>\n",
       "      <td>...</td>\n",
       "      <td>0</td>\n",
       "      <td>0</td>\n",
       "      <td>0</td>\n",
       "      <td>0</td>\n",
       "      <td>0</td>\n",
       "      <td>0</td>\n",
       "      <td>0</td>\n",
       "      <td>0</td>\n",
       "      <td>0</td>\n",
       "      <td>0</td>\n",
       "    </tr>\n",
       "    <tr>\n",
       "      <th>2</th>\n",
       "      <td>0</td>\n",
       "      <td>4</td>\n",
       "      <td>0</td>\n",
       "      <td>0</td>\n",
       "      <td>0</td>\n",
       "      <td>0</td>\n",
       "      <td>0</td>\n",
       "      <td>0</td>\n",
       "      <td>0</td>\n",
       "      <td>0</td>\n",
       "      <td>...</td>\n",
       "      <td>0</td>\n",
       "      <td>0</td>\n",
       "      <td>0</td>\n",
       "      <td>0</td>\n",
       "      <td>0</td>\n",
       "      <td>0</td>\n",
       "      <td>0</td>\n",
       "      <td>0</td>\n",
       "      <td>0</td>\n",
       "      <td>0</td>\n",
       "    </tr>\n",
       "    <tr>\n",
       "      <th>3</th>\n",
       "      <td>0</td>\n",
       "      <td>0</td>\n",
       "      <td>0</td>\n",
       "      <td>0</td>\n",
       "      <td>0</td>\n",
       "      <td>0</td>\n",
       "      <td>0</td>\n",
       "      <td>0</td>\n",
       "      <td>0</td>\n",
       "      <td>0</td>\n",
       "      <td>...</td>\n",
       "      <td>0</td>\n",
       "      <td>0</td>\n",
       "      <td>0</td>\n",
       "      <td>0</td>\n",
       "      <td>0</td>\n",
       "      <td>0</td>\n",
       "      <td>0</td>\n",
       "      <td>0</td>\n",
       "      <td>0</td>\n",
       "      <td>0</td>\n",
       "    </tr>\n",
       "    <tr>\n",
       "      <th>4</th>\n",
       "      <td>0</td>\n",
       "      <td>3</td>\n",
       "      <td>0</td>\n",
       "      <td>0</td>\n",
       "      <td>0</td>\n",
       "      <td>0</td>\n",
       "      <td>0</td>\n",
       "      <td>0</td>\n",
       "      <td>0</td>\n",
       "      <td>0</td>\n",
       "      <td>...</td>\n",
       "      <td>0</td>\n",
       "      <td>0</td>\n",
       "      <td>0</td>\n",
       "      <td>0</td>\n",
       "      <td>0</td>\n",
       "      <td>0</td>\n",
       "      <td>0</td>\n",
       "      <td>0</td>\n",
       "      <td>0</td>\n",
       "      <td>0</td>\n",
       "    </tr>\n",
       "  </tbody>\n",
       "</table>\n",
       "<p>5 rows × 169425 columns</p>\n",
       "</div>"
      ],
      "text/plain": [
       "   vec0  vec1  vec2  vec3  vec4  vec5  vec6  vec7  vec8  vec9    ...      \\\n",
       "0     0    14     0     0     0     0     0     0     0     0    ...       \n",
       "1     0     4     0     0     0     0     0     0     0     0    ...       \n",
       "2     0     4     0     0     0     0     0     0     0     0    ...       \n",
       "3     0     0     0     0     0     0     0     0     0     0    ...       \n",
       "4     0     3     0     0     0     0     0     0     0     0    ...       \n",
       "\n",
       "   vec169415  vec169416  vec169417  vec169418  vec169419  vec169420  \\\n",
       "0          0          0          0          0          0          0   \n",
       "1          0          0          0          0          0          0   \n",
       "2          0          0          0          0          0          0   \n",
       "3          0          0          0          0          0          0   \n",
       "4          0          0          0          0          0          0   \n",
       "\n",
       "   vec169421  vec169422  vec169423  vec169424  \n",
       "0          0          0          0          0  \n",
       "1          0          0          0          0  \n",
       "2          0          0          0          0  \n",
       "3          0          0          0          0  \n",
       "4          0          0          0          0  \n",
       "\n",
       "[5 rows x 169425 columns]"
      ]
     },
     "execution_count": 135,
     "metadata": {},
     "output_type": "execute_result"
    }
   ],
   "source": [
    "df_text_array.head()"
   ]
  },
  {
   "cell_type": "markdown",
   "metadata": {},
   "source": [
    "# do the same thing with the Key_text"
   ]
  },
  {
   "cell_type": "code",
   "execution_count": 136,
   "metadata": {},
   "outputs": [
    {
     "data": {
      "text/plain": [
       "CountVectorizer(analyzer='word', binary=False, decode_error='strict',\n",
       "        dtype=<class 'numpy.int64'>, encoding='utf-8', input='content',\n",
       "        lowercase=True, max_df=1.0, max_features=None, min_df=1,\n",
       "        ngram_range=(1, 1), preprocessor=None, stop_words=None,\n",
       "        strip_accents=None, token_pattern='(?u)\\\\b\\\\w\\\\w+\\\\b',\n",
       "        tokenizer=None, vocabulary=None)"
      ]
     },
     "execution_count": 136,
     "metadata": {},
     "output_type": "execute_result"
    }
   ],
   "source": [
    "vectorizer.fit(df_text.Key_text)"
   ]
  },
  {
   "cell_type": "code",
   "execution_count": 138,
   "metadata": {},
   "outputs": [],
   "source": [
    "X = vectorizer.transform(df_text.Key_text)"
   ]
  },
  {
   "cell_type": "code",
   "execution_count": 139,
   "metadata": {
    "collapsed": true
   },
   "outputs": [],
   "source": [
    "X_array = X.toarray()"
   ]
  },
  {
   "cell_type": "code",
   "execution_count": 140,
   "metadata": {
    "collapsed": true
   },
   "outputs": [],
   "source": [
    "df_keytext_array = pd.DataFrame(X_array)"
   ]
  },
  {
   "cell_type": "code",
   "execution_count": 141,
   "metadata": {
    "collapsed": true
   },
   "outputs": [],
   "source": [
    "title = ['keyvec{}'.format(i) for i in range(len(df_keytext_array.columns.values))]"
   ]
  },
  {
   "cell_type": "code",
   "execution_count": 142,
   "metadata": {
    "collapsed": true
   },
   "outputs": [],
   "source": [
    "df_keytext_array.columns = title"
   ]
  },
  {
   "cell_type": "code",
   "execution_count": 143,
   "metadata": {},
   "outputs": [
    {
     "data": {
      "text/html": [
       "<div>\n",
       "<table border=\"1\" class=\"dataframe\">\n",
       "  <thead>\n",
       "    <tr style=\"text-align: right;\">\n",
       "      <th></th>\n",
       "      <th>keyvec0</th>\n",
       "      <th>keyvec1</th>\n",
       "      <th>keyvec2</th>\n",
       "      <th>keyvec3</th>\n",
       "      <th>keyvec4</th>\n",
       "      <th>keyvec5</th>\n",
       "      <th>keyvec6</th>\n",
       "      <th>keyvec7</th>\n",
       "      <th>keyvec8</th>\n",
       "      <th>keyvec9</th>\n",
       "      <th>...</th>\n",
       "      <th>keyvec113403</th>\n",
       "      <th>keyvec113404</th>\n",
       "      <th>keyvec113405</th>\n",
       "      <th>keyvec113406</th>\n",
       "      <th>keyvec113407</th>\n",
       "      <th>keyvec113408</th>\n",
       "      <th>keyvec113409</th>\n",
       "      <th>keyvec113410</th>\n",
       "      <th>keyvec113411</th>\n",
       "      <th>keyvec113412</th>\n",
       "    </tr>\n",
       "  </thead>\n",
       "  <tbody>\n",
       "    <tr>\n",
       "      <th>0</th>\n",
       "      <td>0</td>\n",
       "      <td>0</td>\n",
       "      <td>0</td>\n",
       "      <td>0</td>\n",
       "      <td>0</td>\n",
       "      <td>0</td>\n",
       "      <td>0</td>\n",
       "      <td>0</td>\n",
       "      <td>0</td>\n",
       "      <td>0</td>\n",
       "      <td>...</td>\n",
       "      <td>0</td>\n",
       "      <td>0</td>\n",
       "      <td>0</td>\n",
       "      <td>0</td>\n",
       "      <td>0</td>\n",
       "      <td>0</td>\n",
       "      <td>0</td>\n",
       "      <td>0</td>\n",
       "      <td>0</td>\n",
       "      <td>0</td>\n",
       "    </tr>\n",
       "    <tr>\n",
       "      <th>1</th>\n",
       "      <td>0</td>\n",
       "      <td>0</td>\n",
       "      <td>0</td>\n",
       "      <td>0</td>\n",
       "      <td>0</td>\n",
       "      <td>0</td>\n",
       "      <td>0</td>\n",
       "      <td>0</td>\n",
       "      <td>0</td>\n",
       "      <td>0</td>\n",
       "      <td>...</td>\n",
       "      <td>0</td>\n",
       "      <td>0</td>\n",
       "      <td>0</td>\n",
       "      <td>0</td>\n",
       "      <td>0</td>\n",
       "      <td>0</td>\n",
       "      <td>0</td>\n",
       "      <td>0</td>\n",
       "      <td>0</td>\n",
       "      <td>0</td>\n",
       "    </tr>\n",
       "    <tr>\n",
       "      <th>2</th>\n",
       "      <td>0</td>\n",
       "      <td>0</td>\n",
       "      <td>0</td>\n",
       "      <td>0</td>\n",
       "      <td>0</td>\n",
       "      <td>0</td>\n",
       "      <td>0</td>\n",
       "      <td>0</td>\n",
       "      <td>0</td>\n",
       "      <td>0</td>\n",
       "      <td>...</td>\n",
       "      <td>0</td>\n",
       "      <td>0</td>\n",
       "      <td>0</td>\n",
       "      <td>0</td>\n",
       "      <td>0</td>\n",
       "      <td>0</td>\n",
       "      <td>0</td>\n",
       "      <td>0</td>\n",
       "      <td>0</td>\n",
       "      <td>0</td>\n",
       "    </tr>\n",
       "    <tr>\n",
       "      <th>3</th>\n",
       "      <td>0</td>\n",
       "      <td>0</td>\n",
       "      <td>0</td>\n",
       "      <td>0</td>\n",
       "      <td>0</td>\n",
       "      <td>0</td>\n",
       "      <td>0</td>\n",
       "      <td>0</td>\n",
       "      <td>0</td>\n",
       "      <td>0</td>\n",
       "      <td>...</td>\n",
       "      <td>0</td>\n",
       "      <td>0</td>\n",
       "      <td>0</td>\n",
       "      <td>0</td>\n",
       "      <td>0</td>\n",
       "      <td>0</td>\n",
       "      <td>0</td>\n",
       "      <td>0</td>\n",
       "      <td>0</td>\n",
       "      <td>0</td>\n",
       "    </tr>\n",
       "    <tr>\n",
       "      <th>4</th>\n",
       "      <td>0</td>\n",
       "      <td>0</td>\n",
       "      <td>0</td>\n",
       "      <td>0</td>\n",
       "      <td>0</td>\n",
       "      <td>0</td>\n",
       "      <td>0</td>\n",
       "      <td>0</td>\n",
       "      <td>0</td>\n",
       "      <td>0</td>\n",
       "      <td>...</td>\n",
       "      <td>0</td>\n",
       "      <td>0</td>\n",
       "      <td>0</td>\n",
       "      <td>0</td>\n",
       "      <td>0</td>\n",
       "      <td>0</td>\n",
       "      <td>0</td>\n",
       "      <td>0</td>\n",
       "      <td>0</td>\n",
       "      <td>0</td>\n",
       "    </tr>\n",
       "  </tbody>\n",
       "</table>\n",
       "<p>5 rows × 113413 columns</p>\n",
       "</div>"
      ],
      "text/plain": [
       "   keyvec0  keyvec1  keyvec2  keyvec3  keyvec4  keyvec5  keyvec6  keyvec7  \\\n",
       "0        0        0        0        0        0        0        0        0   \n",
       "1        0        0        0        0        0        0        0        0   \n",
       "2        0        0        0        0        0        0        0        0   \n",
       "3        0        0        0        0        0        0        0        0   \n",
       "4        0        0        0        0        0        0        0        0   \n",
       "\n",
       "   keyvec8  keyvec9      ...       keyvec113403  keyvec113404  keyvec113405  \\\n",
       "0        0        0      ...                  0             0             0   \n",
       "1        0        0      ...                  0             0             0   \n",
       "2        0        0      ...                  0             0             0   \n",
       "3        0        0      ...                  0             0             0   \n",
       "4        0        0      ...                  0             0             0   \n",
       "\n",
       "   keyvec113406  keyvec113407  keyvec113408  keyvec113409  keyvec113410  \\\n",
       "0             0             0             0             0             0   \n",
       "1             0             0             0             0             0   \n",
       "2             0             0             0             0             0   \n",
       "3             0             0             0             0             0   \n",
       "4             0             0             0             0             0   \n",
       "\n",
       "   keyvec113411  keyvec113412  \n",
       "0             0             0  \n",
       "1             0             0  \n",
       "2             0             0  \n",
       "3             0             0  \n",
       "4             0             0  \n",
       "\n",
       "[5 rows x 113413 columns]"
      ]
     },
     "execution_count": 143,
     "metadata": {},
     "output_type": "execute_result"
    }
   ],
   "source": [
    "df_keytext_array.head()"
   ]
  },
  {
   "cell_type": "code",
   "execution_count": null,
   "metadata": {
    "collapsed": true
   },
   "outputs": [],
   "source": []
  },
  {
   "cell_type": "markdown",
   "metadata": {},
   "source": [
    "# PCA analysis based on the contvecorizer data"
   ]
  },
  {
   "cell_type": "code",
   "execution_count": 144,
   "metadata": {},
   "outputs": [
    {
     "data": {
      "text/plain": [
       "PCA(copy=True, iterated_power='auto', n_components=10, random_state=None,\n",
       "  svd_solver='auto', tol=0.0, whiten=False)"
      ]
     },
     "execution_count": 144,
     "metadata": {},
     "output_type": "execute_result"
    }
   ],
   "source": [
    "from sklearn.decomposition import PCA\n",
    "pca = PCA(n_components=10)\n",
    "pca.fit(df_text_array)"
   ]
  },
  {
   "cell_type": "code",
   "execution_count": 145,
   "metadata": {
    "collapsed": true
   },
   "outputs": [],
   "source": [
    "x = pca.transform(df_text_array)"
   ]
  },
  {
   "cell_type": "code",
   "execution_count": 146,
   "metadata": {
    "collapsed": true
   },
   "outputs": [],
   "source": [
    "df_pca = pd.DataFrame(x)"
   ]
  },
  {
   "cell_type": "code",
   "execution_count": 147,
   "metadata": {},
   "outputs": [
    {
     "data": {
      "text/html": [
       "<div>\n",
       "<table border=\"1\" class=\"dataframe\">\n",
       "  <thead>\n",
       "    <tr style=\"text-align: right;\">\n",
       "      <th></th>\n",
       "      <th>0</th>\n",
       "      <th>1</th>\n",
       "      <th>2</th>\n",
       "      <th>3</th>\n",
       "      <th>4</th>\n",
       "      <th>5</th>\n",
       "      <th>6</th>\n",
       "      <th>7</th>\n",
       "      <th>8</th>\n",
       "      <th>9</th>\n",
       "    </tr>\n",
       "  </thead>\n",
       "  <tbody>\n",
       "    <tr>\n",
       "      <th>0</th>\n",
       "      <td>-262.875685</td>\n",
       "      <td>-6.124869</td>\n",
       "      <td>-47.397045</td>\n",
       "      <td>8.901035</td>\n",
       "      <td>-30.396772</td>\n",
       "      <td>-20.769448</td>\n",
       "      <td>0.965126</td>\n",
       "      <td>-21.336928</td>\n",
       "      <td>-13.452046</td>\n",
       "      <td>-16.135331</td>\n",
       "    </tr>\n",
       "    <tr>\n",
       "      <th>1</th>\n",
       "      <td>-241.089972</td>\n",
       "      <td>50.551082</td>\n",
       "      <td>25.359335</td>\n",
       "      <td>4.148823</td>\n",
       "      <td>-25.371951</td>\n",
       "      <td>-46.133658</td>\n",
       "      <td>-7.239097</td>\n",
       "      <td>-4.004613</td>\n",
       "      <td>12.329303</td>\n",
       "      <td>6.782242</td>\n",
       "    </tr>\n",
       "    <tr>\n",
       "      <th>2</th>\n",
       "      <td>-241.089972</td>\n",
       "      <td>50.551082</td>\n",
       "      <td>25.359335</td>\n",
       "      <td>4.148823</td>\n",
       "      <td>-25.371951</td>\n",
       "      <td>-46.133658</td>\n",
       "      <td>-7.239097</td>\n",
       "      <td>-4.004613</td>\n",
       "      <td>12.329303</td>\n",
       "      <td>6.782242</td>\n",
       "    </tr>\n",
       "    <tr>\n",
       "      <th>3</th>\n",
       "      <td>-330.335140</td>\n",
       "      <td>56.771106</td>\n",
       "      <td>-0.475937</td>\n",
       "      <td>10.181769</td>\n",
       "      <td>-2.760588</td>\n",
       "      <td>9.500001</td>\n",
       "      <td>11.160319</td>\n",
       "      <td>-15.381759</td>\n",
       "      <td>-2.705970</td>\n",
       "      <td>5.970941</td>\n",
       "    </tr>\n",
       "    <tr>\n",
       "      <th>4</th>\n",
       "      <td>-195.602668</td>\n",
       "      <td>-14.313817</td>\n",
       "      <td>73.551084</td>\n",
       "      <td>-8.427435</td>\n",
       "      <td>-9.486140</td>\n",
       "      <td>-21.940200</td>\n",
       "      <td>19.009713</td>\n",
       "      <td>-0.774855</td>\n",
       "      <td>13.591588</td>\n",
       "      <td>53.262521</td>\n",
       "    </tr>\n",
       "  </tbody>\n",
       "</table>\n",
       "</div>"
      ],
      "text/plain": [
       "            0          1          2          3          4          5  \\\n",
       "0 -262.875685  -6.124869 -47.397045   8.901035 -30.396772 -20.769448   \n",
       "1 -241.089972  50.551082  25.359335   4.148823 -25.371951 -46.133658   \n",
       "2 -241.089972  50.551082  25.359335   4.148823 -25.371951 -46.133658   \n",
       "3 -330.335140  56.771106  -0.475937  10.181769  -2.760588   9.500001   \n",
       "4 -195.602668 -14.313817  73.551084  -8.427435  -9.486140 -21.940200   \n",
       "\n",
       "           6          7          8          9  \n",
       "0   0.965126 -21.336928 -13.452046 -16.135331  \n",
       "1  -7.239097  -4.004613  12.329303   6.782242  \n",
       "2  -7.239097  -4.004613  12.329303   6.782242  \n",
       "3  11.160319 -15.381759  -2.705970   5.970941  \n",
       "4  19.009713  -0.774855  13.591588  53.262521  "
      ]
     },
     "execution_count": 147,
     "metadata": {},
     "output_type": "execute_result"
    }
   ],
   "source": [
    "df_pca.head()"
   ]
  },
  {
   "cell_type": "code",
   "execution_count": 148,
   "metadata": {
    "collapsed": true
   },
   "outputs": [],
   "source": [
    "title_pca = ['pca{}'.format(i) for i in range(len(df_pca.columns.values))]"
   ]
  },
  {
   "cell_type": "code",
   "execution_count": 149,
   "metadata": {
    "collapsed": true
   },
   "outputs": [],
   "source": [
    "df_pca.columns = title_pca"
   ]
  },
  {
   "cell_type": "code",
   "execution_count": 150,
   "metadata": {},
   "outputs": [
    {
     "data": {
      "text/html": [
       "<div>\n",
       "<table border=\"1\" class=\"dataframe\">\n",
       "  <thead>\n",
       "    <tr style=\"text-align: right;\">\n",
       "      <th></th>\n",
       "      <th>pca0</th>\n",
       "      <th>pca1</th>\n",
       "      <th>pca2</th>\n",
       "      <th>pca3</th>\n",
       "      <th>pca4</th>\n",
       "      <th>pca5</th>\n",
       "      <th>pca6</th>\n",
       "      <th>pca7</th>\n",
       "      <th>pca8</th>\n",
       "      <th>pca9</th>\n",
       "    </tr>\n",
       "  </thead>\n",
       "  <tbody>\n",
       "    <tr>\n",
       "      <th>0</th>\n",
       "      <td>-262.875685</td>\n",
       "      <td>-6.124869</td>\n",
       "      <td>-47.397045</td>\n",
       "      <td>8.901035</td>\n",
       "      <td>-30.396772</td>\n",
       "      <td>-20.769448</td>\n",
       "      <td>0.965126</td>\n",
       "      <td>-21.336928</td>\n",
       "      <td>-13.452046</td>\n",
       "      <td>-16.135331</td>\n",
       "    </tr>\n",
       "    <tr>\n",
       "      <th>1</th>\n",
       "      <td>-241.089972</td>\n",
       "      <td>50.551082</td>\n",
       "      <td>25.359335</td>\n",
       "      <td>4.148823</td>\n",
       "      <td>-25.371951</td>\n",
       "      <td>-46.133658</td>\n",
       "      <td>-7.239097</td>\n",
       "      <td>-4.004613</td>\n",
       "      <td>12.329303</td>\n",
       "      <td>6.782242</td>\n",
       "    </tr>\n",
       "    <tr>\n",
       "      <th>2</th>\n",
       "      <td>-241.089972</td>\n",
       "      <td>50.551082</td>\n",
       "      <td>25.359335</td>\n",
       "      <td>4.148823</td>\n",
       "      <td>-25.371951</td>\n",
       "      <td>-46.133658</td>\n",
       "      <td>-7.239097</td>\n",
       "      <td>-4.004613</td>\n",
       "      <td>12.329303</td>\n",
       "      <td>6.782242</td>\n",
       "    </tr>\n",
       "    <tr>\n",
       "      <th>3</th>\n",
       "      <td>-330.335140</td>\n",
       "      <td>56.771106</td>\n",
       "      <td>-0.475937</td>\n",
       "      <td>10.181769</td>\n",
       "      <td>-2.760588</td>\n",
       "      <td>9.500001</td>\n",
       "      <td>11.160319</td>\n",
       "      <td>-15.381759</td>\n",
       "      <td>-2.705970</td>\n",
       "      <td>5.970941</td>\n",
       "    </tr>\n",
       "    <tr>\n",
       "      <th>4</th>\n",
       "      <td>-195.602668</td>\n",
       "      <td>-14.313817</td>\n",
       "      <td>73.551084</td>\n",
       "      <td>-8.427435</td>\n",
       "      <td>-9.486140</td>\n",
       "      <td>-21.940200</td>\n",
       "      <td>19.009713</td>\n",
       "      <td>-0.774855</td>\n",
       "      <td>13.591588</td>\n",
       "      <td>53.262521</td>\n",
       "    </tr>\n",
       "  </tbody>\n",
       "</table>\n",
       "</div>"
      ],
      "text/plain": [
       "         pca0       pca1       pca2       pca3       pca4       pca5  \\\n",
       "0 -262.875685  -6.124869 -47.397045   8.901035 -30.396772 -20.769448   \n",
       "1 -241.089972  50.551082  25.359335   4.148823 -25.371951 -46.133658   \n",
       "2 -241.089972  50.551082  25.359335   4.148823 -25.371951 -46.133658   \n",
       "3 -330.335140  56.771106  -0.475937  10.181769  -2.760588   9.500001   \n",
       "4 -195.602668 -14.313817  73.551084  -8.427435  -9.486140 -21.940200   \n",
       "\n",
       "        pca6       pca7       pca8       pca9  \n",
       "0   0.965126 -21.336928 -13.452046 -16.135331  \n",
       "1  -7.239097  -4.004613  12.329303   6.782242  \n",
       "2  -7.239097  -4.004613  12.329303   6.782242  \n",
       "3  11.160319 -15.381759  -2.705970   5.970941  \n",
       "4  19.009713  -0.774855  13.591588  53.262521  "
      ]
     },
     "execution_count": 150,
     "metadata": {},
     "output_type": "execute_result"
    }
   ],
   "source": [
    "df_pca.head()"
   ]
  },
  {
   "cell_type": "markdown",
   "metadata": {},
   "source": [
    "# Truncated SVD"
   ]
  },
  {
   "cell_type": "code",
   "execution_count": 151,
   "metadata": {},
   "outputs": [
    {
     "data": {
      "text/plain": [
       "TruncatedSVD(algorithm='randomized', n_components=10, n_iter=7,\n",
       "       random_state=42, tol=0.0)"
      ]
     },
     "execution_count": 151,
     "metadata": {},
     "output_type": "execute_result"
    }
   ],
   "source": [
    "from sklearn.decomposition import TruncatedSVD\n",
    "\n",
    "svd = TruncatedSVD(n_components=10, n_iter=7, random_state=42)\n",
    "svd.fit(df_text_array)  "
   ]
  },
  {
   "cell_type": "code",
   "execution_count": 152,
   "metadata": {
    "collapsed": true
   },
   "outputs": [],
   "source": [
    "x = svd.transform(df_text_array)"
   ]
  },
  {
   "cell_type": "code",
   "execution_count": 153,
   "metadata": {
    "collapsed": true
   },
   "outputs": [],
   "source": [
    "df_svd = pd.DataFrame(x)"
   ]
  },
  {
   "cell_type": "code",
   "execution_count": 154,
   "metadata": {},
   "outputs": [
    {
     "data": {
      "text/html": [
       "<div>\n",
       "<table border=\"1\" class=\"dataframe\">\n",
       "  <thead>\n",
       "    <tr style=\"text-align: right;\">\n",
       "      <th></th>\n",
       "      <th>0</th>\n",
       "      <th>1</th>\n",
       "      <th>2</th>\n",
       "      <th>3</th>\n",
       "      <th>4</th>\n",
       "      <th>5</th>\n",
       "      <th>6</th>\n",
       "      <th>7</th>\n",
       "      <th>8</th>\n",
       "      <th>9</th>\n",
       "    </tr>\n",
       "  </thead>\n",
       "  <tbody>\n",
       "    <tr>\n",
       "      <th>0</th>\n",
       "      <td>478.171759</td>\n",
       "      <td>-6.121243</td>\n",
       "      <td>-49.395202</td>\n",
       "      <td>-28.386872</td>\n",
       "      <td>-27.988532</td>\n",
       "      <td>-21.659171</td>\n",
       "      <td>0.390376</td>\n",
       "      <td>-21.553569</td>\n",
       "      <td>10.943020</td>\n",
       "      <td>-10.129255</td>\n",
       "    </tr>\n",
       "    <tr>\n",
       "      <th>1</th>\n",
       "      <td>500.298748</td>\n",
       "      <td>50.554514</td>\n",
       "      <td>23.324182</td>\n",
       "      <td>-26.154088</td>\n",
       "      <td>-24.886434</td>\n",
       "      <td>-48.061191</td>\n",
       "      <td>-8.280480</td>\n",
       "      <td>-4.376489</td>\n",
       "      <td>-18.548796</td>\n",
       "      <td>16.828192</td>\n",
       "    </tr>\n",
       "    <tr>\n",
       "      <th>2</th>\n",
       "      <td>500.298748</td>\n",
       "      <td>50.554514</td>\n",
       "      <td>23.324182</td>\n",
       "      <td>-26.154088</td>\n",
       "      <td>-24.886434</td>\n",
       "      <td>-48.061191</td>\n",
       "      <td>-8.280480</td>\n",
       "      <td>-4.376489</td>\n",
       "      <td>-18.548796</td>\n",
       "      <td>16.828192</td>\n",
       "    </tr>\n",
       "    <tr>\n",
       "      <th>3</th>\n",
       "      <td>411.523282</td>\n",
       "      <td>56.775203</td>\n",
       "      <td>-2.839586</td>\n",
       "      <td>-25.902034</td>\n",
       "      <td>-1.418314</td>\n",
       "      <td>7.100727</td>\n",
       "      <td>8.636949</td>\n",
       "      <td>-16.215326</td>\n",
       "      <td>-7.254008</td>\n",
       "      <td>19.529928</td>\n",
       "    </tr>\n",
       "    <tr>\n",
       "      <th>4</th>\n",
       "      <td>546.049232</td>\n",
       "      <td>-14.310735</td>\n",
       "      <td>71.644483</td>\n",
       "      <td>-10.266536</td>\n",
       "      <td>-13.081652</td>\n",
       "      <td>-24.891459</td>\n",
       "      <td>16.516488</td>\n",
       "      <td>-1.833100</td>\n",
       "      <td>-27.614176</td>\n",
       "      <td>63.874952</td>\n",
       "    </tr>\n",
       "  </tbody>\n",
       "</table>\n",
       "</div>"
      ],
      "text/plain": [
       "            0          1          2          3          4          5  \\\n",
       "0  478.171759  -6.121243 -49.395202 -28.386872 -27.988532 -21.659171   \n",
       "1  500.298748  50.554514  23.324182 -26.154088 -24.886434 -48.061191   \n",
       "2  500.298748  50.554514  23.324182 -26.154088 -24.886434 -48.061191   \n",
       "3  411.523282  56.775203  -2.839586 -25.902034  -1.418314   7.100727   \n",
       "4  546.049232 -14.310735  71.644483 -10.266536 -13.081652 -24.891459   \n",
       "\n",
       "           6          7          8          9  \n",
       "0   0.390376 -21.553569  10.943020 -10.129255  \n",
       "1  -8.280480  -4.376489 -18.548796  16.828192  \n",
       "2  -8.280480  -4.376489 -18.548796  16.828192  \n",
       "3   8.636949 -16.215326  -7.254008  19.529928  \n",
       "4  16.516488  -1.833100 -27.614176  63.874952  "
      ]
     },
     "execution_count": 154,
     "metadata": {},
     "output_type": "execute_result"
    }
   ],
   "source": [
    "df_svd.head()"
   ]
  },
  {
   "cell_type": "code",
   "execution_count": 155,
   "metadata": {
    "collapsed": true
   },
   "outputs": [],
   "source": [
    "title_svd = ['svd{}'.format(i) for i in range(len(df_svd.columns.values))]"
   ]
  },
  {
   "cell_type": "code",
   "execution_count": 156,
   "metadata": {
    "collapsed": true
   },
   "outputs": [],
   "source": [
    "df_svd.columns = title_svd"
   ]
  },
  {
   "cell_type": "code",
   "execution_count": 157,
   "metadata": {},
   "outputs": [
    {
     "data": {
      "text/html": [
       "<div>\n",
       "<table border=\"1\" class=\"dataframe\">\n",
       "  <thead>\n",
       "    <tr style=\"text-align: right;\">\n",
       "      <th></th>\n",
       "      <th>svd0</th>\n",
       "      <th>svd1</th>\n",
       "      <th>svd2</th>\n",
       "      <th>svd3</th>\n",
       "      <th>svd4</th>\n",
       "      <th>svd5</th>\n",
       "      <th>svd6</th>\n",
       "      <th>svd7</th>\n",
       "      <th>svd8</th>\n",
       "      <th>svd9</th>\n",
       "    </tr>\n",
       "  </thead>\n",
       "  <tbody>\n",
       "    <tr>\n",
       "      <th>0</th>\n",
       "      <td>478.171759</td>\n",
       "      <td>-6.121243</td>\n",
       "      <td>-49.395202</td>\n",
       "      <td>-28.386872</td>\n",
       "      <td>-27.988532</td>\n",
       "      <td>-21.659171</td>\n",
       "      <td>0.390376</td>\n",
       "      <td>-21.553569</td>\n",
       "      <td>10.943020</td>\n",
       "      <td>-10.129255</td>\n",
       "    </tr>\n",
       "    <tr>\n",
       "      <th>1</th>\n",
       "      <td>500.298748</td>\n",
       "      <td>50.554514</td>\n",
       "      <td>23.324182</td>\n",
       "      <td>-26.154088</td>\n",
       "      <td>-24.886434</td>\n",
       "      <td>-48.061191</td>\n",
       "      <td>-8.280480</td>\n",
       "      <td>-4.376489</td>\n",
       "      <td>-18.548796</td>\n",
       "      <td>16.828192</td>\n",
       "    </tr>\n",
       "    <tr>\n",
       "      <th>2</th>\n",
       "      <td>500.298748</td>\n",
       "      <td>50.554514</td>\n",
       "      <td>23.324182</td>\n",
       "      <td>-26.154088</td>\n",
       "      <td>-24.886434</td>\n",
       "      <td>-48.061191</td>\n",
       "      <td>-8.280480</td>\n",
       "      <td>-4.376489</td>\n",
       "      <td>-18.548796</td>\n",
       "      <td>16.828192</td>\n",
       "    </tr>\n",
       "    <tr>\n",
       "      <th>3</th>\n",
       "      <td>411.523282</td>\n",
       "      <td>56.775203</td>\n",
       "      <td>-2.839586</td>\n",
       "      <td>-25.902034</td>\n",
       "      <td>-1.418314</td>\n",
       "      <td>7.100727</td>\n",
       "      <td>8.636949</td>\n",
       "      <td>-16.215326</td>\n",
       "      <td>-7.254008</td>\n",
       "      <td>19.529928</td>\n",
       "    </tr>\n",
       "    <tr>\n",
       "      <th>4</th>\n",
       "      <td>546.049232</td>\n",
       "      <td>-14.310735</td>\n",
       "      <td>71.644483</td>\n",
       "      <td>-10.266536</td>\n",
       "      <td>-13.081652</td>\n",
       "      <td>-24.891459</td>\n",
       "      <td>16.516488</td>\n",
       "      <td>-1.833100</td>\n",
       "      <td>-27.614176</td>\n",
       "      <td>63.874952</td>\n",
       "    </tr>\n",
       "  </tbody>\n",
       "</table>\n",
       "</div>"
      ],
      "text/plain": [
       "         svd0       svd1       svd2       svd3       svd4       svd5  \\\n",
       "0  478.171759  -6.121243 -49.395202 -28.386872 -27.988532 -21.659171   \n",
       "1  500.298748  50.554514  23.324182 -26.154088 -24.886434 -48.061191   \n",
       "2  500.298748  50.554514  23.324182 -26.154088 -24.886434 -48.061191   \n",
       "3  411.523282  56.775203  -2.839586 -25.902034  -1.418314   7.100727   \n",
       "4  546.049232 -14.310735  71.644483 -10.266536 -13.081652 -24.891459   \n",
       "\n",
       "        svd6       svd7       svd8       svd9  \n",
       "0   0.390376 -21.553569  10.943020 -10.129255  \n",
       "1  -8.280480  -4.376489 -18.548796  16.828192  \n",
       "2  -8.280480  -4.376489 -18.548796  16.828192  \n",
       "3   8.636949 -16.215326  -7.254008  19.529928  \n",
       "4  16.516488  -1.833100 -27.614176  63.874952  "
      ]
     },
     "execution_count": 157,
     "metadata": {},
     "output_type": "execute_result"
    }
   ],
   "source": [
    "df_svd.head()"
   ]
  },
  {
   "cell_type": "code",
   "execution_count": null,
   "metadata": {
    "collapsed": true
   },
   "outputs": [],
   "source": []
  },
  {
   "cell_type": "markdown",
   "metadata": {},
   "source": [
    "# TfidVectorizer to extract meanings"
   ]
  },
  {
   "cell_type": "code",
   "execution_count": 158,
   "metadata": {
    "collapsed": true
   },
   "outputs": [],
   "source": [
    "from sklearn.feature_extraction.text import TfidfVectorizer\n",
    "import sys"
   ]
  },
  {
   "cell_type": "code",
   "execution_count": 159,
   "metadata": {},
   "outputs": [
    {
     "data": {
      "text/plain": [
       "TfidfVectorizer(analyzer='word', binary=False, decode_error='strict',\n",
       "        dtype=<class 'numpy.int64'>, encoding='utf-8', input='content',\n",
       "        lowercase=True, max_df=1.0, max_features=100, min_df=1,\n",
       "        ngram_range=(1, 1), norm='l2', preprocessor=None, smooth_idf=True,\n",
       "        stop_words='english', strip_accents=None, sublinear_tf=False,\n",
       "        token_pattern='(?u)\\\\b\\\\w\\\\w+\\\\b', tokenizer=None, use_idf=True,\n",
       "        vocabulary=None)"
      ]
     },
     "execution_count": 159,
     "metadata": {},
     "output_type": "execute_result"
    }
   ],
   "source": [
    "tfidf = TfidfVectorizer(stop_words = 'english', max_features = 100)\n",
    "tfidf.fit(df_text.Text)"
   ]
  },
  {
   "cell_type": "code",
   "execution_count": 160,
   "metadata": {
    "collapsed": true
   },
   "outputs": [],
   "source": [
    "x = tfidf.transform(df_text.Text)"
   ]
  },
  {
   "cell_type": "code",
   "execution_count": 161,
   "metadata": {
    "collapsed": true
   },
   "outputs": [],
   "source": [
    "x = x.toarray()"
   ]
  },
  {
   "cell_type": "code",
   "execution_count": 162,
   "metadata": {
    "collapsed": true
   },
   "outputs": [],
   "source": [
    "df_tfid = pd.DataFrame(x)"
   ]
  },
  {
   "cell_type": "code",
   "execution_count": 163,
   "metadata": {},
   "outputs": [
    {
     "data": {
      "text/html": [
       "<div>\n",
       "<table border=\"1\" class=\"dataframe\">\n",
       "  <thead>\n",
       "    <tr style=\"text-align: right;\">\n",
       "      <th></th>\n",
       "      <th>0</th>\n",
       "      <th>1</th>\n",
       "      <th>2</th>\n",
       "      <th>3</th>\n",
       "      <th>4</th>\n",
       "      <th>5</th>\n",
       "      <th>6</th>\n",
       "      <th>7</th>\n",
       "      <th>8</th>\n",
       "      <th>9</th>\n",
       "      <th>...</th>\n",
       "      <th>90</th>\n",
       "      <th>91</th>\n",
       "      <th>92</th>\n",
       "      <th>93</th>\n",
       "      <th>94</th>\n",
       "      <th>95</th>\n",
       "      <th>96</th>\n",
       "      <th>97</th>\n",
       "      <th>98</th>\n",
       "      <th>99</th>\n",
       "    </tr>\n",
       "  </thead>\n",
       "  <tbody>\n",
       "    <tr>\n",
       "      <th>0</th>\n",
       "      <td>0.130351</td>\n",
       "      <td>0.028371</td>\n",
       "      <td>0.006997</td>\n",
       "      <td>0.014239</td>\n",
       "      <td>0.056427</td>\n",
       "      <td>0.056008</td>\n",
       "      <td>0.007450</td>\n",
       "      <td>0.077699</td>\n",
       "      <td>0.000000</td>\n",
       "      <td>0.0</td>\n",
       "      <td>...</td>\n",
       "      <td>0.057801</td>\n",
       "      <td>0.008138</td>\n",
       "      <td>0.029388</td>\n",
       "      <td>0.000000</td>\n",
       "      <td>0.027645</td>\n",
       "      <td>0.034869</td>\n",
       "      <td>0.089366</td>\n",
       "      <td>0.000000</td>\n",
       "      <td>0.021605</td>\n",
       "      <td>0.102527</td>\n",
       "    </tr>\n",
       "    <tr>\n",
       "      <th>1</th>\n",
       "      <td>0.106891</td>\n",
       "      <td>0.026002</td>\n",
       "      <td>0.032064</td>\n",
       "      <td>0.019575</td>\n",
       "      <td>0.019393</td>\n",
       "      <td>0.057747</td>\n",
       "      <td>0.020482</td>\n",
       "      <td>0.090633</td>\n",
       "      <td>0.007178</td>\n",
       "      <td>0.0</td>\n",
       "      <td>...</td>\n",
       "      <td>0.052975</td>\n",
       "      <td>0.007458</td>\n",
       "      <td>0.127938</td>\n",
       "      <td>0.020991</td>\n",
       "      <td>0.057007</td>\n",
       "      <td>0.031957</td>\n",
       "      <td>0.151208</td>\n",
       "      <td>0.000000</td>\n",
       "      <td>0.046203</td>\n",
       "      <td>0.051254</td>\n",
       "    </tr>\n",
       "    <tr>\n",
       "      <th>2</th>\n",
       "      <td>0.106891</td>\n",
       "      <td>0.026002</td>\n",
       "      <td>0.032064</td>\n",
       "      <td>0.019575</td>\n",
       "      <td>0.019393</td>\n",
       "      <td>0.057747</td>\n",
       "      <td>0.020482</td>\n",
       "      <td>0.090633</td>\n",
       "      <td>0.007178</td>\n",
       "      <td>0.0</td>\n",
       "      <td>...</td>\n",
       "      <td>0.052975</td>\n",
       "      <td>0.007458</td>\n",
       "      <td>0.127938</td>\n",
       "      <td>0.020991</td>\n",
       "      <td>0.057007</td>\n",
       "      <td>0.031957</td>\n",
       "      <td>0.151208</td>\n",
       "      <td>0.000000</td>\n",
       "      <td>0.046203</td>\n",
       "      <td>0.051254</td>\n",
       "    </tr>\n",
       "    <tr>\n",
       "      <th>3</th>\n",
       "      <td>0.158210</td>\n",
       "      <td>0.031155</td>\n",
       "      <td>0.053786</td>\n",
       "      <td>0.031273</td>\n",
       "      <td>0.077455</td>\n",
       "      <td>0.084567</td>\n",
       "      <td>0.016361</td>\n",
       "      <td>0.116351</td>\n",
       "      <td>0.000000</td>\n",
       "      <td>0.0</td>\n",
       "      <td>...</td>\n",
       "      <td>0.047605</td>\n",
       "      <td>0.000000</td>\n",
       "      <td>0.000000</td>\n",
       "      <td>0.000000</td>\n",
       "      <td>0.121429</td>\n",
       "      <td>0.022974</td>\n",
       "      <td>0.098136</td>\n",
       "      <td>0.084334</td>\n",
       "      <td>0.126536</td>\n",
       "      <td>0.040941</td>\n",
       "    </tr>\n",
       "    <tr>\n",
       "      <th>4</th>\n",
       "      <td>0.062059</td>\n",
       "      <td>0.004935</td>\n",
       "      <td>0.019475</td>\n",
       "      <td>0.004954</td>\n",
       "      <td>0.039263</td>\n",
       "      <td>0.014614</td>\n",
       "      <td>0.082937</td>\n",
       "      <td>0.172026</td>\n",
       "      <td>0.000000</td>\n",
       "      <td>0.0</td>\n",
       "      <td>...</td>\n",
       "      <td>0.135741</td>\n",
       "      <td>0.000000</td>\n",
       "      <td>0.025561</td>\n",
       "      <td>0.010624</td>\n",
       "      <td>0.105797</td>\n",
       "      <td>0.038820</td>\n",
       "      <td>0.066967</td>\n",
       "      <td>0.013359</td>\n",
       "      <td>0.100224</td>\n",
       "      <td>0.000000</td>\n",
       "    </tr>\n",
       "  </tbody>\n",
       "</table>\n",
       "<p>5 rows × 100 columns</p>\n",
       "</div>"
      ],
      "text/plain": [
       "         0         1         2         3         4         5         6   \\\n",
       "0  0.130351  0.028371  0.006997  0.014239  0.056427  0.056008  0.007450   \n",
       "1  0.106891  0.026002  0.032064  0.019575  0.019393  0.057747  0.020482   \n",
       "2  0.106891  0.026002  0.032064  0.019575  0.019393  0.057747  0.020482   \n",
       "3  0.158210  0.031155  0.053786  0.031273  0.077455  0.084567  0.016361   \n",
       "4  0.062059  0.004935  0.019475  0.004954  0.039263  0.014614  0.082937   \n",
       "\n",
       "         7         8    9     ...           90        91        92        93  \\\n",
       "0  0.077699  0.000000  0.0    ...     0.057801  0.008138  0.029388  0.000000   \n",
       "1  0.090633  0.007178  0.0    ...     0.052975  0.007458  0.127938  0.020991   \n",
       "2  0.090633  0.007178  0.0    ...     0.052975  0.007458  0.127938  0.020991   \n",
       "3  0.116351  0.000000  0.0    ...     0.047605  0.000000  0.000000  0.000000   \n",
       "4  0.172026  0.000000  0.0    ...     0.135741  0.000000  0.025561  0.010624   \n",
       "\n",
       "         94        95        96        97        98        99  \n",
       "0  0.027645  0.034869  0.089366  0.000000  0.021605  0.102527  \n",
       "1  0.057007  0.031957  0.151208  0.000000  0.046203  0.051254  \n",
       "2  0.057007  0.031957  0.151208  0.000000  0.046203  0.051254  \n",
       "3  0.121429  0.022974  0.098136  0.084334  0.126536  0.040941  \n",
       "4  0.105797  0.038820  0.066967  0.013359  0.100224  0.000000  \n",
       "\n",
       "[5 rows x 100 columns]"
      ]
     },
     "execution_count": 163,
     "metadata": {},
     "output_type": "execute_result"
    }
   ],
   "source": [
    "df_tfid.head()"
   ]
  },
  {
   "cell_type": "code",
   "execution_count": 164,
   "metadata": {
    "collapsed": true
   },
   "outputs": [],
   "source": [
    "title_tfid = ['tfid{}'.format(i) for i in range(len(df_tfid.columns.values))]"
   ]
  },
  {
   "cell_type": "code",
   "execution_count": 165,
   "metadata": {
    "collapsed": true
   },
   "outputs": [],
   "source": [
    "df_tfid.columns = title_tfid"
   ]
  },
  {
   "cell_type": "code",
   "execution_count": 166,
   "metadata": {},
   "outputs": [
    {
     "data": {
      "text/html": [
       "<div>\n",
       "<table border=\"1\" class=\"dataframe\">\n",
       "  <thead>\n",
       "    <tr style=\"text-align: right;\">\n",
       "      <th></th>\n",
       "      <th>tfid0</th>\n",
       "      <th>tfid1</th>\n",
       "      <th>tfid2</th>\n",
       "      <th>tfid3</th>\n",
       "      <th>tfid4</th>\n",
       "      <th>tfid5</th>\n",
       "      <th>tfid6</th>\n",
       "      <th>tfid7</th>\n",
       "      <th>tfid8</th>\n",
       "      <th>tfid9</th>\n",
       "      <th>...</th>\n",
       "      <th>tfid90</th>\n",
       "      <th>tfid91</th>\n",
       "      <th>tfid92</th>\n",
       "      <th>tfid93</th>\n",
       "      <th>tfid94</th>\n",
       "      <th>tfid95</th>\n",
       "      <th>tfid96</th>\n",
       "      <th>tfid97</th>\n",
       "      <th>tfid98</th>\n",
       "      <th>tfid99</th>\n",
       "    </tr>\n",
       "  </thead>\n",
       "  <tbody>\n",
       "    <tr>\n",
       "      <th>0</th>\n",
       "      <td>0.130351</td>\n",
       "      <td>0.028371</td>\n",
       "      <td>0.006997</td>\n",
       "      <td>0.014239</td>\n",
       "      <td>0.056427</td>\n",
       "      <td>0.056008</td>\n",
       "      <td>0.007450</td>\n",
       "      <td>0.077699</td>\n",
       "      <td>0.000000</td>\n",
       "      <td>0.0</td>\n",
       "      <td>...</td>\n",
       "      <td>0.057801</td>\n",
       "      <td>0.008138</td>\n",
       "      <td>0.029388</td>\n",
       "      <td>0.000000</td>\n",
       "      <td>0.027645</td>\n",
       "      <td>0.034869</td>\n",
       "      <td>0.089366</td>\n",
       "      <td>0.000000</td>\n",
       "      <td>0.021605</td>\n",
       "      <td>0.102527</td>\n",
       "    </tr>\n",
       "    <tr>\n",
       "      <th>1</th>\n",
       "      <td>0.106891</td>\n",
       "      <td>0.026002</td>\n",
       "      <td>0.032064</td>\n",
       "      <td>0.019575</td>\n",
       "      <td>0.019393</td>\n",
       "      <td>0.057747</td>\n",
       "      <td>0.020482</td>\n",
       "      <td>0.090633</td>\n",
       "      <td>0.007178</td>\n",
       "      <td>0.0</td>\n",
       "      <td>...</td>\n",
       "      <td>0.052975</td>\n",
       "      <td>0.007458</td>\n",
       "      <td>0.127938</td>\n",
       "      <td>0.020991</td>\n",
       "      <td>0.057007</td>\n",
       "      <td>0.031957</td>\n",
       "      <td>0.151208</td>\n",
       "      <td>0.000000</td>\n",
       "      <td>0.046203</td>\n",
       "      <td>0.051254</td>\n",
       "    </tr>\n",
       "    <tr>\n",
       "      <th>2</th>\n",
       "      <td>0.106891</td>\n",
       "      <td>0.026002</td>\n",
       "      <td>0.032064</td>\n",
       "      <td>0.019575</td>\n",
       "      <td>0.019393</td>\n",
       "      <td>0.057747</td>\n",
       "      <td>0.020482</td>\n",
       "      <td>0.090633</td>\n",
       "      <td>0.007178</td>\n",
       "      <td>0.0</td>\n",
       "      <td>...</td>\n",
       "      <td>0.052975</td>\n",
       "      <td>0.007458</td>\n",
       "      <td>0.127938</td>\n",
       "      <td>0.020991</td>\n",
       "      <td>0.057007</td>\n",
       "      <td>0.031957</td>\n",
       "      <td>0.151208</td>\n",
       "      <td>0.000000</td>\n",
       "      <td>0.046203</td>\n",
       "      <td>0.051254</td>\n",
       "    </tr>\n",
       "    <tr>\n",
       "      <th>3</th>\n",
       "      <td>0.158210</td>\n",
       "      <td>0.031155</td>\n",
       "      <td>0.053786</td>\n",
       "      <td>0.031273</td>\n",
       "      <td>0.077455</td>\n",
       "      <td>0.084567</td>\n",
       "      <td>0.016361</td>\n",
       "      <td>0.116351</td>\n",
       "      <td>0.000000</td>\n",
       "      <td>0.0</td>\n",
       "      <td>...</td>\n",
       "      <td>0.047605</td>\n",
       "      <td>0.000000</td>\n",
       "      <td>0.000000</td>\n",
       "      <td>0.000000</td>\n",
       "      <td>0.121429</td>\n",
       "      <td>0.022974</td>\n",
       "      <td>0.098136</td>\n",
       "      <td>0.084334</td>\n",
       "      <td>0.126536</td>\n",
       "      <td>0.040941</td>\n",
       "    </tr>\n",
       "    <tr>\n",
       "      <th>4</th>\n",
       "      <td>0.062059</td>\n",
       "      <td>0.004935</td>\n",
       "      <td>0.019475</td>\n",
       "      <td>0.004954</td>\n",
       "      <td>0.039263</td>\n",
       "      <td>0.014614</td>\n",
       "      <td>0.082937</td>\n",
       "      <td>0.172026</td>\n",
       "      <td>0.000000</td>\n",
       "      <td>0.0</td>\n",
       "      <td>...</td>\n",
       "      <td>0.135741</td>\n",
       "      <td>0.000000</td>\n",
       "      <td>0.025561</td>\n",
       "      <td>0.010624</td>\n",
       "      <td>0.105797</td>\n",
       "      <td>0.038820</td>\n",
       "      <td>0.066967</td>\n",
       "      <td>0.013359</td>\n",
       "      <td>0.100224</td>\n",
       "      <td>0.000000</td>\n",
       "    </tr>\n",
       "  </tbody>\n",
       "</table>\n",
       "<p>5 rows × 100 columns</p>\n",
       "</div>"
      ],
      "text/plain": [
       "      tfid0     tfid1     tfid2     tfid3     tfid4     tfid5     tfid6  \\\n",
       "0  0.130351  0.028371  0.006997  0.014239  0.056427  0.056008  0.007450   \n",
       "1  0.106891  0.026002  0.032064  0.019575  0.019393  0.057747  0.020482   \n",
       "2  0.106891  0.026002  0.032064  0.019575  0.019393  0.057747  0.020482   \n",
       "3  0.158210  0.031155  0.053786  0.031273  0.077455  0.084567  0.016361   \n",
       "4  0.062059  0.004935  0.019475  0.004954  0.039263  0.014614  0.082937   \n",
       "\n",
       "      tfid7     tfid8  tfid9    ...       tfid90    tfid91    tfid92  \\\n",
       "0  0.077699  0.000000    0.0    ...     0.057801  0.008138  0.029388   \n",
       "1  0.090633  0.007178    0.0    ...     0.052975  0.007458  0.127938   \n",
       "2  0.090633  0.007178    0.0    ...     0.052975  0.007458  0.127938   \n",
       "3  0.116351  0.000000    0.0    ...     0.047605  0.000000  0.000000   \n",
       "4  0.172026  0.000000    0.0    ...     0.135741  0.000000  0.025561   \n",
       "\n",
       "     tfid93    tfid94    tfid95    tfid96    tfid97    tfid98    tfid99  \n",
       "0  0.000000  0.027645  0.034869  0.089366  0.000000  0.021605  0.102527  \n",
       "1  0.020991  0.057007  0.031957  0.151208  0.000000  0.046203  0.051254  \n",
       "2  0.020991  0.057007  0.031957  0.151208  0.000000  0.046203  0.051254  \n",
       "3  0.000000  0.121429  0.022974  0.098136  0.084334  0.126536  0.040941  \n",
       "4  0.010624  0.105797  0.038820  0.066967  0.013359  0.100224  0.000000  \n",
       "\n",
       "[5 rows x 100 columns]"
      ]
     },
     "execution_count": 166,
     "metadata": {},
     "output_type": "execute_result"
    }
   ],
   "source": [
    "df_tfid.head()"
   ]
  },
  {
   "cell_type": "code",
   "execution_count": 167,
   "metadata": {
    "collapsed": true
   },
   "outputs": [],
   "source": [
    "del(x)"
   ]
  },
  {
   "cell_type": "code",
   "execution_count": 168,
   "metadata": {
    "collapsed": true
   },
   "outputs": [],
   "source": [
    "del(X)"
   ]
  },
  {
   "cell_type": "code",
   "execution_count": 169,
   "metadata": {
    "collapsed": true
   },
   "outputs": [],
   "source": [
    "del(X_array)"
   ]
  },
  {
   "cell_type": "code",
   "execution_count": 170,
   "metadata": {
    "collapsed": true
   },
   "outputs": [],
   "source": [
    "del(df_text)"
   ]
  },
  {
   "cell_type": "markdown",
   "metadata": {},
   "source": [
    "# Since df_text_array is too huge for further processing, I will select usueful columns based on RandomForest"
   ]
  },
  {
   "cell_type": "code",
   "execution_count": 172,
   "metadata": {},
   "outputs": [
    {
     "name": "stderr",
     "output_type": "stream",
     "text": [
      "/Users/takuyasakaguchi/anaconda/lib/python3.5/site-packages/sklearn/cross_validation.py:44: DeprecationWarning: This module was deprecated in version 0.18 in favor of the model_selection module into which all the refactored classes and functions are moved. Also note that the interface of the new CV iterators are different from that of this module. This module will be removed in 0.20.\n",
      "  \"This module will be removed in 0.20.\", DeprecationWarning)\n"
     ]
    }
   ],
   "source": [
    "from sklearn.cross_validation import train_test_split\n",
    "from sklearn import metrics"
   ]
  },
  {
   "cell_type": "code",
   "execution_count": 173,
   "metadata": {
    "collapsed": true
   },
   "outputs": [],
   "source": [
    "df = df.reset_index(drop=True)"
   ]
  },
  {
   "cell_type": "code",
   "execution_count": 174,
   "metadata": {
    "collapsed": true
   },
   "outputs": [],
   "source": [
    "df_rf = df_text_array[df.Class>0]"
   ]
  },
  {
   "cell_type": "code",
   "execution_count": 175,
   "metadata": {},
   "outputs": [
    {
     "data": {
      "text/html": [
       "<div>\n",
       "<table border=\"1\" class=\"dataframe\">\n",
       "  <thead>\n",
       "    <tr style=\"text-align: right;\">\n",
       "      <th></th>\n",
       "      <th>vec0</th>\n",
       "      <th>vec1</th>\n",
       "      <th>vec2</th>\n",
       "      <th>vec3</th>\n",
       "      <th>vec4</th>\n",
       "      <th>vec5</th>\n",
       "      <th>vec6</th>\n",
       "      <th>vec7</th>\n",
       "      <th>vec8</th>\n",
       "      <th>vec9</th>\n",
       "      <th>...</th>\n",
       "      <th>vec169415</th>\n",
       "      <th>vec169416</th>\n",
       "      <th>vec169417</th>\n",
       "      <th>vec169418</th>\n",
       "      <th>vec169419</th>\n",
       "      <th>vec169420</th>\n",
       "      <th>vec169421</th>\n",
       "      <th>vec169422</th>\n",
       "      <th>vec169423</th>\n",
       "      <th>vec169424</th>\n",
       "    </tr>\n",
       "  </thead>\n",
       "  <tbody>\n",
       "    <tr>\n",
       "      <th>3316</th>\n",
       "      <td>0</td>\n",
       "      <td>0</td>\n",
       "      <td>0</td>\n",
       "      <td>0</td>\n",
       "      <td>0</td>\n",
       "      <td>0</td>\n",
       "      <td>0</td>\n",
       "      <td>0</td>\n",
       "      <td>0</td>\n",
       "      <td>0</td>\n",
       "      <td>...</td>\n",
       "      <td>0</td>\n",
       "      <td>0</td>\n",
       "      <td>0</td>\n",
       "      <td>0</td>\n",
       "      <td>0</td>\n",
       "      <td>0</td>\n",
       "      <td>0</td>\n",
       "      <td>0</td>\n",
       "      <td>0</td>\n",
       "      <td>0</td>\n",
       "    </tr>\n",
       "    <tr>\n",
       "      <th>3317</th>\n",
       "      <td>0</td>\n",
       "      <td>0</td>\n",
       "      <td>0</td>\n",
       "      <td>0</td>\n",
       "      <td>0</td>\n",
       "      <td>0</td>\n",
       "      <td>0</td>\n",
       "      <td>0</td>\n",
       "      <td>0</td>\n",
       "      <td>0</td>\n",
       "      <td>...</td>\n",
       "      <td>0</td>\n",
       "      <td>0</td>\n",
       "      <td>0</td>\n",
       "      <td>0</td>\n",
       "      <td>0</td>\n",
       "      <td>0</td>\n",
       "      <td>0</td>\n",
       "      <td>0</td>\n",
       "      <td>0</td>\n",
       "      <td>0</td>\n",
       "    </tr>\n",
       "    <tr>\n",
       "      <th>3318</th>\n",
       "      <td>0</td>\n",
       "      <td>0</td>\n",
       "      <td>0</td>\n",
       "      <td>0</td>\n",
       "      <td>0</td>\n",
       "      <td>0</td>\n",
       "      <td>0</td>\n",
       "      <td>0</td>\n",
       "      <td>0</td>\n",
       "      <td>0</td>\n",
       "      <td>...</td>\n",
       "      <td>0</td>\n",
       "      <td>0</td>\n",
       "      <td>0</td>\n",
       "      <td>0</td>\n",
       "      <td>0</td>\n",
       "      <td>0</td>\n",
       "      <td>0</td>\n",
       "      <td>0</td>\n",
       "      <td>0</td>\n",
       "      <td>0</td>\n",
       "    </tr>\n",
       "    <tr>\n",
       "      <th>3319</th>\n",
       "      <td>0</td>\n",
       "      <td>1</td>\n",
       "      <td>0</td>\n",
       "      <td>0</td>\n",
       "      <td>0</td>\n",
       "      <td>0</td>\n",
       "      <td>0</td>\n",
       "      <td>0</td>\n",
       "      <td>0</td>\n",
       "      <td>0</td>\n",
       "      <td>...</td>\n",
       "      <td>0</td>\n",
       "      <td>0</td>\n",
       "      <td>0</td>\n",
       "      <td>0</td>\n",
       "      <td>0</td>\n",
       "      <td>0</td>\n",
       "      <td>0</td>\n",
       "      <td>0</td>\n",
       "      <td>0</td>\n",
       "      <td>0</td>\n",
       "    </tr>\n",
       "    <tr>\n",
       "      <th>3320</th>\n",
       "      <td>0</td>\n",
       "      <td>1</td>\n",
       "      <td>0</td>\n",
       "      <td>0</td>\n",
       "      <td>0</td>\n",
       "      <td>0</td>\n",
       "      <td>0</td>\n",
       "      <td>0</td>\n",
       "      <td>0</td>\n",
       "      <td>0</td>\n",
       "      <td>...</td>\n",
       "      <td>0</td>\n",
       "      <td>0</td>\n",
       "      <td>0</td>\n",
       "      <td>0</td>\n",
       "      <td>0</td>\n",
       "      <td>0</td>\n",
       "      <td>0</td>\n",
       "      <td>0</td>\n",
       "      <td>0</td>\n",
       "      <td>0</td>\n",
       "    </tr>\n",
       "  </tbody>\n",
       "</table>\n",
       "<p>5 rows × 169425 columns</p>\n",
       "</div>"
      ],
      "text/plain": [
       "      vec0  vec1  vec2  vec3  vec4  vec5  vec6  vec7  vec8  vec9    ...      \\\n",
       "3316     0     0     0     0     0     0     0     0     0     0    ...       \n",
       "3317     0     0     0     0     0     0     0     0     0     0    ...       \n",
       "3318     0     0     0     0     0     0     0     0     0     0    ...       \n",
       "3319     0     1     0     0     0     0     0     0     0     0    ...       \n",
       "3320     0     1     0     0     0     0     0     0     0     0    ...       \n",
       "\n",
       "      vec169415  vec169416  vec169417  vec169418  vec169419  vec169420  \\\n",
       "3316          0          0          0          0          0          0   \n",
       "3317          0          0          0          0          0          0   \n",
       "3318          0          0          0          0          0          0   \n",
       "3319          0          0          0          0          0          0   \n",
       "3320          0          0          0          0          0          0   \n",
       "\n",
       "      vec169421  vec169422  vec169423  vec169424  \n",
       "3316          0          0          0          0  \n",
       "3317          0          0          0          0  \n",
       "3318          0          0          0          0  \n",
       "3319          0          0          0          0  \n",
       "3320          0          0          0          0  \n",
       "\n",
       "[5 rows x 169425 columns]"
      ]
     },
     "execution_count": 175,
     "metadata": {},
     "output_type": "execute_result"
    }
   ],
   "source": [
    "df_rf.tail()"
   ]
  },
  {
   "cell_type": "code",
   "execution_count": 176,
   "metadata": {
    "collapsed": true
   },
   "outputs": [],
   "source": [
    "rf_y = df[df.Class>0].Class"
   ]
  },
  {
   "cell_type": "code",
   "execution_count": 177,
   "metadata": {
    "collapsed": true
   },
   "outputs": [],
   "source": [
    "Xtrain, Xtest, ytrain, ytest = train_test_split(df_rf, rf_y, random_state=0)"
   ]
  },
  {
   "cell_type": "code",
   "execution_count": 178,
   "metadata": {
    "collapsed": true
   },
   "outputs": [],
   "source": [
    "del(df_rf)"
   ]
  },
  {
   "cell_type": "code",
   "execution_count": 179,
   "metadata": {
    "collapsed": true
   },
   "outputs": [],
   "source": [
    "del(rf_y)"
   ]
  },
  {
   "cell_type": "code",
   "execution_count": 180,
   "metadata": {},
   "outputs": [
    {
     "data": {
      "text/plain": [
       "0.6257521058965102"
      ]
     },
     "execution_count": 180,
     "metadata": {},
     "output_type": "execute_result"
    }
   ],
   "source": [
    "from sklearn.ensemble import RandomForestClassifier\n",
    "\n",
    "clf = RandomForestClassifier(n_estimators=100, random_state=0)\n",
    "clf.fit(Xtrain, ytrain)\n",
    "ypred = clf.predict(Xtest)\n",
    "metrics.accuracy_score(ypred, ytest)"
   ]
  },
  {
   "cell_type": "code",
   "execution_count": 181,
   "metadata": {
    "collapsed": true
   },
   "outputs": [],
   "source": [
    "x = clf.feature_importances_"
   ]
  },
  {
   "cell_type": "code",
   "execution_count": 182,
   "metadata": {
    "collapsed": true
   },
   "outputs": [],
   "source": [
    "df_feature = pd.DataFrame(x)"
   ]
  },
  {
   "cell_type": "code",
   "execution_count": 183,
   "metadata": {},
   "outputs": [
    {
     "data": {
      "text/html": [
       "<div>\n",
       "<table border=\"1\" class=\"dataframe\">\n",
       "  <thead>\n",
       "    <tr style=\"text-align: right;\">\n",
       "      <th></th>\n",
       "      <th>0</th>\n",
       "    </tr>\n",
       "  </thead>\n",
       "  <tbody>\n",
       "    <tr>\n",
       "      <th>0</th>\n",
       "      <td>0.000055</td>\n",
       "    </tr>\n",
       "    <tr>\n",
       "      <th>1</th>\n",
       "      <td>0.000283</td>\n",
       "    </tr>\n",
       "    <tr>\n",
       "      <th>2</th>\n",
       "      <td>0.000000</td>\n",
       "    </tr>\n",
       "    <tr>\n",
       "      <th>3</th>\n",
       "      <td>0.000000</td>\n",
       "    </tr>\n",
       "    <tr>\n",
       "      <th>4</th>\n",
       "      <td>0.000000</td>\n",
       "    </tr>\n",
       "  </tbody>\n",
       "</table>\n",
       "</div>"
      ],
      "text/plain": [
       "          0\n",
       "0  0.000055\n",
       "1  0.000283\n",
       "2  0.000000\n",
       "3  0.000000\n",
       "4  0.000000"
      ]
     },
     "execution_count": 183,
     "metadata": {},
     "output_type": "execute_result"
    }
   ],
   "source": [
    "df_feature.head()"
   ]
  },
  {
   "cell_type": "code",
   "execution_count": 184,
   "metadata": {},
   "outputs": [
    {
     "data": {
      "text/plain": [
       "169425"
      ]
     },
     "execution_count": 184,
     "metadata": {},
     "output_type": "execute_result"
    }
   ],
   "source": [
    "len(df_text_array.columns.values)"
   ]
  },
  {
   "cell_type": "code",
   "execution_count": 185,
   "metadata": {},
   "outputs": [
    {
     "data": {
      "text/plain": [
       "169425"
      ]
     },
     "execution_count": 185,
     "metadata": {},
     "output_type": "execute_result"
    }
   ],
   "source": [
    "len(df_feature)"
   ]
  },
  {
   "cell_type": "code",
   "execution_count": 186,
   "metadata": {},
   "outputs": [
    {
     "data": {
      "text/plain": [
       "169425"
      ]
     },
     "execution_count": 186,
     "metadata": {},
     "output_type": "execute_result"
    }
   ],
   "source": [
    "len(Xtrain.columns.values)"
   ]
  },
  {
   "cell_type": "code",
   "execution_count": 187,
   "metadata": {
    "collapsed": true
   },
   "outputs": [],
   "source": [
    "df_feature['column_name']= Xtrain.columns.values"
   ]
  },
  {
   "cell_type": "code",
   "execution_count": 188,
   "metadata": {},
   "outputs": [
    {
     "data": {
      "text/html": [
       "<div>\n",
       "<table border=\"1\" class=\"dataframe\">\n",
       "  <thead>\n",
       "    <tr style=\"text-align: right;\">\n",
       "      <th></th>\n",
       "      <th>0</th>\n",
       "      <th>column_name</th>\n",
       "    </tr>\n",
       "  </thead>\n",
       "  <tbody>\n",
       "    <tr>\n",
       "      <th>0</th>\n",
       "      <td>0.000055</td>\n",
       "      <td>vec0</td>\n",
       "    </tr>\n",
       "    <tr>\n",
       "      <th>1</th>\n",
       "      <td>0.000283</td>\n",
       "      <td>vec1</td>\n",
       "    </tr>\n",
       "    <tr>\n",
       "      <th>2</th>\n",
       "      <td>0.000000</td>\n",
       "      <td>vec2</td>\n",
       "    </tr>\n",
       "    <tr>\n",
       "      <th>3</th>\n",
       "      <td>0.000000</td>\n",
       "      <td>vec3</td>\n",
       "    </tr>\n",
       "    <tr>\n",
       "      <th>4</th>\n",
       "      <td>0.000000</td>\n",
       "      <td>vec4</td>\n",
       "    </tr>\n",
       "  </tbody>\n",
       "</table>\n",
       "</div>"
      ],
      "text/plain": [
       "          0 column_name\n",
       "0  0.000055        vec0\n",
       "1  0.000283        vec1\n",
       "2  0.000000        vec2\n",
       "3  0.000000        vec3\n",
       "4  0.000000        vec4"
      ]
     },
     "execution_count": 188,
     "metadata": {},
     "output_type": "execute_result"
    }
   ],
   "source": [
    "df_feature.head()"
   ]
  },
  {
   "cell_type": "code",
   "execution_count": 189,
   "metadata": {},
   "outputs": [
    {
     "data": {
      "text/html": [
       "<div>\n",
       "<table border=\"1\" class=\"dataframe\">\n",
       "  <thead>\n",
       "    <tr style=\"text-align: right;\">\n",
       "      <th></th>\n",
       "      <th>0</th>\n",
       "      <th>column_name</th>\n",
       "    </tr>\n",
       "  </thead>\n",
       "  <tbody>\n",
       "    <tr>\n",
       "      <th>0</th>\n",
       "      <td>0.000055</td>\n",
       "      <td>vec0</td>\n",
       "    </tr>\n",
       "    <tr>\n",
       "      <th>1</th>\n",
       "      <td>0.000283</td>\n",
       "      <td>vec1</td>\n",
       "    </tr>\n",
       "    <tr>\n",
       "      <th>2</th>\n",
       "      <td>0.000000</td>\n",
       "      <td>vec2</td>\n",
       "    </tr>\n",
       "    <tr>\n",
       "      <th>3</th>\n",
       "      <td>0.000000</td>\n",
       "      <td>vec3</td>\n",
       "    </tr>\n",
       "    <tr>\n",
       "      <th>4</th>\n",
       "      <td>0.000000</td>\n",
       "      <td>vec4</td>\n",
       "    </tr>\n",
       "  </tbody>\n",
       "</table>\n",
       "</div>"
      ],
      "text/plain": [
       "          0 column_name\n",
       "0  0.000055        vec0\n",
       "1  0.000283        vec1\n",
       "2  0.000000        vec2\n",
       "3  0.000000        vec3\n",
       "4  0.000000        vec4"
      ]
     },
     "execution_count": 189,
     "metadata": {},
     "output_type": "execute_result"
    }
   ],
   "source": [
    "df_feature.head()"
   ]
  },
  {
   "cell_type": "code",
   "execution_count": 190,
   "metadata": {},
   "outputs": [
    {
     "data": {
      "text/html": [
       "<div>\n",
       "<table border=\"1\" class=\"dataframe\">\n",
       "  <thead>\n",
       "    <tr style=\"text-align: right;\">\n",
       "      <th></th>\n",
       "      <th>0</th>\n",
       "      <th>column_name</th>\n",
       "    </tr>\n",
       "  </thead>\n",
       "  <tbody>\n",
       "    <tr>\n",
       "      <th>0</th>\n",
       "      <td>0.000055</td>\n",
       "      <td>vec0</td>\n",
       "    </tr>\n",
       "    <tr>\n",
       "      <th>1</th>\n",
       "      <td>0.000283</td>\n",
       "      <td>vec1</td>\n",
       "    </tr>\n",
       "    <tr>\n",
       "      <th>2</th>\n",
       "      <td>0.000000</td>\n",
       "      <td>vec2</td>\n",
       "    </tr>\n",
       "    <tr>\n",
       "      <th>3</th>\n",
       "      <td>0.000000</td>\n",
       "      <td>vec3</td>\n",
       "    </tr>\n",
       "    <tr>\n",
       "      <th>4</th>\n",
       "      <td>0.000000</td>\n",
       "      <td>vec4</td>\n",
       "    </tr>\n",
       "  </tbody>\n",
       "</table>\n",
       "</div>"
      ],
      "text/plain": [
       "          0 column_name\n",
       "0  0.000055        vec0\n",
       "1  0.000283        vec1\n",
       "2  0.000000        vec2\n",
       "3  0.000000        vec3\n",
       "4  0.000000        vec4"
      ]
     },
     "execution_count": 190,
     "metadata": {},
     "output_type": "execute_result"
    }
   ],
   "source": [
    "df_feature.head()"
   ]
  },
  {
   "cell_type": "code",
   "execution_count": 191,
   "metadata": {
    "collapsed": true
   },
   "outputs": [],
   "source": [
    "df_feature = df_feature.sort_values(0, ascending = False)"
   ]
  },
  {
   "cell_type": "code",
   "execution_count": 192,
   "metadata": {
    "collapsed": true
   },
   "outputs": [],
   "source": [
    "important_columns1000 = df_feature.head(1000).column_name.values"
   ]
  },
  {
   "cell_type": "code",
   "execution_count": 193,
   "metadata": {
    "collapsed": true
   },
   "outputs": [],
   "source": [
    "important_columns2000 = df_feature.head(2000).column_name.values"
   ]
  },
  {
   "cell_type": "code",
   "execution_count": 194,
   "metadata": {
    "collapsed": true
   },
   "outputs": [],
   "source": [
    "important_columns10000 = df_feature.head(10000).column_name.values"
   ]
  },
  {
   "cell_type": "code",
   "execution_count": 195,
   "metadata": {},
   "outputs": [],
   "source": [
    "df_selected = df_text_array[important_columns1000]"
   ]
  },
  {
   "cell_type": "code",
   "execution_count": 196,
   "metadata": {},
   "outputs": [
    {
     "data": {
      "text/html": [
       "<div>\n",
       "<table border=\"1\" class=\"dataframe\">\n",
       "  <thead>\n",
       "    <tr style=\"text-align: right;\">\n",
       "      <th></th>\n",
       "      <th>vec23674</th>\n",
       "      <th>vec158919</th>\n",
       "      <th>vec23682</th>\n",
       "      <th>vec104161</th>\n",
       "      <th>vec91616</th>\n",
       "      <th>vec23657</th>\n",
       "      <th>vec86309</th>\n",
       "      <th>vec148582</th>\n",
       "      <th>vec121770</th>\n",
       "      <th>vec68314</th>\n",
       "      <th>...</th>\n",
       "      <th>vec2642</th>\n",
       "      <th>vec135246</th>\n",
       "      <th>vec1810</th>\n",
       "      <th>vec44973</th>\n",
       "      <th>vec23395</th>\n",
       "      <th>vec125253</th>\n",
       "      <th>vec55836</th>\n",
       "      <th>vec92152</th>\n",
       "      <th>vec40372</th>\n",
       "      <th>vec29385</th>\n",
       "    </tr>\n",
       "  </thead>\n",
       "  <tbody>\n",
       "    <tr>\n",
       "      <th>0</th>\n",
       "      <td>2</td>\n",
       "      <td>0</td>\n",
       "      <td>1</td>\n",
       "      <td>1</td>\n",
       "      <td>20</td>\n",
       "      <td>1</td>\n",
       "      <td>7</td>\n",
       "      <td>1</td>\n",
       "      <td>15</td>\n",
       "      <td>2</td>\n",
       "      <td>...</td>\n",
       "      <td>0</td>\n",
       "      <td>1</td>\n",
       "      <td>0</td>\n",
       "      <td>0</td>\n",
       "      <td>1</td>\n",
       "      <td>0</td>\n",
       "      <td>0</td>\n",
       "      <td>1</td>\n",
       "      <td>1</td>\n",
       "      <td>0</td>\n",
       "    </tr>\n",
       "    <tr>\n",
       "      <th>1</th>\n",
       "      <td>2</td>\n",
       "      <td>7</td>\n",
       "      <td>3</td>\n",
       "      <td>2</td>\n",
       "      <td>7</td>\n",
       "      <td>1</td>\n",
       "      <td>0</td>\n",
       "      <td>2</td>\n",
       "      <td>0</td>\n",
       "      <td>5</td>\n",
       "      <td>...</td>\n",
       "      <td>0</td>\n",
       "      <td>0</td>\n",
       "      <td>0</td>\n",
       "      <td>1</td>\n",
       "      <td>0</td>\n",
       "      <td>1</td>\n",
       "      <td>0</td>\n",
       "      <td>0</td>\n",
       "      <td>0</td>\n",
       "      <td>2</td>\n",
       "    </tr>\n",
       "    <tr>\n",
       "      <th>2</th>\n",
       "      <td>2</td>\n",
       "      <td>7</td>\n",
       "      <td>3</td>\n",
       "      <td>2</td>\n",
       "      <td>7</td>\n",
       "      <td>1</td>\n",
       "      <td>0</td>\n",
       "      <td>2</td>\n",
       "      <td>0</td>\n",
       "      <td>5</td>\n",
       "      <td>...</td>\n",
       "      <td>0</td>\n",
       "      <td>0</td>\n",
       "      <td>0</td>\n",
       "      <td>1</td>\n",
       "      <td>0</td>\n",
       "      <td>1</td>\n",
       "      <td>0</td>\n",
       "      <td>0</td>\n",
       "      <td>0</td>\n",
       "      <td>2</td>\n",
       "    </tr>\n",
       "    <tr>\n",
       "      <th>3</th>\n",
       "      <td>3</td>\n",
       "      <td>22</td>\n",
       "      <td>2</td>\n",
       "      <td>9</td>\n",
       "      <td>14</td>\n",
       "      <td>2</td>\n",
       "      <td>0</td>\n",
       "      <td>0</td>\n",
       "      <td>1</td>\n",
       "      <td>0</td>\n",
       "      <td>...</td>\n",
       "      <td>0</td>\n",
       "      <td>1</td>\n",
       "      <td>0</td>\n",
       "      <td>1</td>\n",
       "      <td>0</td>\n",
       "      <td>5</td>\n",
       "      <td>1</td>\n",
       "      <td>0</td>\n",
       "      <td>0</td>\n",
       "      <td>0</td>\n",
       "    </tr>\n",
       "    <tr>\n",
       "      <th>4</th>\n",
       "      <td>0</td>\n",
       "      <td>6</td>\n",
       "      <td>16</td>\n",
       "      <td>8</td>\n",
       "      <td>3</td>\n",
       "      <td>4</td>\n",
       "      <td>0</td>\n",
       "      <td>1</td>\n",
       "      <td>4</td>\n",
       "      <td>9</td>\n",
       "      <td>...</td>\n",
       "      <td>0</td>\n",
       "      <td>1</td>\n",
       "      <td>0</td>\n",
       "      <td>0</td>\n",
       "      <td>0</td>\n",
       "      <td>1</td>\n",
       "      <td>0</td>\n",
       "      <td>0</td>\n",
       "      <td>0</td>\n",
       "      <td>2</td>\n",
       "    </tr>\n",
       "  </tbody>\n",
       "</table>\n",
       "<p>5 rows × 1000 columns</p>\n",
       "</div>"
      ],
      "text/plain": [
       "   vec23674  vec158919  vec23682  vec104161  vec91616  vec23657  vec86309  \\\n",
       "0         2          0         1          1        20         1         7   \n",
       "1         2          7         3          2         7         1         0   \n",
       "2         2          7         3          2         7         1         0   \n",
       "3         3         22         2          9        14         2         0   \n",
       "4         0          6        16          8         3         4         0   \n",
       "\n",
       "   vec148582  vec121770  vec68314    ...     vec2642  vec135246  vec1810  \\\n",
       "0          1         15         2    ...           0          1        0   \n",
       "1          2          0         5    ...           0          0        0   \n",
       "2          2          0         5    ...           0          0        0   \n",
       "3          0          1         0    ...           0          1        0   \n",
       "4          1          4         9    ...           0          1        0   \n",
       "\n",
       "   vec44973  vec23395  vec125253  vec55836  vec92152  vec40372  vec29385  \n",
       "0         0         1          0         0         1         1         0  \n",
       "1         1         0          1         0         0         0         2  \n",
       "2         1         0          1         0         0         0         2  \n",
       "3         1         0          5         1         0         0         0  \n",
       "4         0         0          1         0         0         0         2  \n",
       "\n",
       "[5 rows x 1000 columns]"
      ]
     },
     "execution_count": 196,
     "metadata": {},
     "output_type": "execute_result"
    }
   ],
   "source": [
    "df_selected.head()"
   ]
  },
  {
   "cell_type": "code",
   "execution_count": null,
   "metadata": {
    "collapsed": true
   },
   "outputs": [],
   "source": []
  },
  {
   "cell_type": "markdown",
   "metadata": {},
   "source": [
    "#  merge five dataframes into one"
   ]
  },
  {
   "cell_type": "code",
   "execution_count": 197,
   "metadata": {
    "collapsed": true
   },
   "outputs": [],
   "source": [
    "df = df.reset_index(drop=True)"
   ]
  },
  {
   "cell_type": "code",
   "execution_count": 198,
   "metadata": {},
   "outputs": [
    {
     "data": {
      "text/html": [
       "<div>\n",
       "<table border=\"1\" class=\"dataframe\">\n",
       "  <thead>\n",
       "    <tr style=\"text-align: right;\">\n",
       "      <th></th>\n",
       "      <th>Gene</th>\n",
       "      <th>Variation</th>\n",
       "      <th>Class</th>\n",
       "      <th>text_char_len</th>\n",
       "      <th>text_words</th>\n",
       "      <th>Gene_Share</th>\n",
       "      <th>Variation_Share</th>\n",
       "    </tr>\n",
       "  </thead>\n",
       "  <tbody>\n",
       "    <tr>\n",
       "      <th>8984</th>\n",
       "      <td>1262</td>\n",
       "      <td>5379</td>\n",
       "      <td>-1</td>\n",
       "      <td>76385</td>\n",
       "      <td>11114</td>\n",
       "      <td>0</td>\n",
       "      <td>1</td>\n",
       "    </tr>\n",
       "    <tr>\n",
       "      <th>8985</th>\n",
       "      <td>486</td>\n",
       "      <td>3684</td>\n",
       "      <td>-1</td>\n",
       "      <td>27014</td>\n",
       "      <td>4134</td>\n",
       "      <td>0</td>\n",
       "      <td>1</td>\n",
       "    </tr>\n",
       "    <tr>\n",
       "      <th>8986</th>\n",
       "      <td>576</td>\n",
       "      <td>5892</td>\n",
       "      <td>-1</td>\n",
       "      <td>23101</td>\n",
       "      <td>3427</td>\n",
       "      <td>0</td>\n",
       "      <td>1</td>\n",
       "    </tr>\n",
       "    <tr>\n",
       "      <th>8987</th>\n",
       "      <td>314</td>\n",
       "      <td>2785</td>\n",
       "      <td>-1</td>\n",
       "      <td>67269</td>\n",
       "      <td>10635</td>\n",
       "      <td>0</td>\n",
       "      <td>1</td>\n",
       "    </tr>\n",
       "    <tr>\n",
       "      <th>8988</th>\n",
       "      <td>344</td>\n",
       "      <td>7542</td>\n",
       "      <td>-1</td>\n",
       "      <td>27021</td>\n",
       "      <td>4079</td>\n",
       "      <td>0</td>\n",
       "      <td>1</td>\n",
       "    </tr>\n",
       "  </tbody>\n",
       "</table>\n",
       "</div>"
      ],
      "text/plain": [
       "      Gene  Variation  Class  text_char_len  text_words  Gene_Share  \\\n",
       "8984  1262       5379     -1          76385       11114           0   \n",
       "8985   486       3684     -1          27014        4134           0   \n",
       "8986   576       5892     -1          23101        3427           0   \n",
       "8987   314       2785     -1          67269       10635           0   \n",
       "8988   344       7542     -1          27021        4079           0   \n",
       "\n",
       "      Variation_Share  \n",
       "8984                1  \n",
       "8985                1  \n",
       "8986                1  \n",
       "8987                1  \n",
       "8988                1  "
      ]
     },
     "execution_count": 198,
     "metadata": {},
     "output_type": "execute_result"
    }
   ],
   "source": [
    "df.tail()"
   ]
  },
  {
   "cell_type": "code",
   "execution_count": 199,
   "metadata": {
    "collapsed": true
   },
   "outputs": [],
   "source": [
    "df_merge = pd.concat([df, df_selected,df_pca, df_tfid, df_keytext_array], axis=1)"
   ]
  },
  {
   "cell_type": "code",
   "execution_count": 200,
   "metadata": {},
   "outputs": [
    {
     "data": {
      "text/html": [
       "<div>\n",
       "<table border=\"1\" class=\"dataframe\">\n",
       "  <thead>\n",
       "    <tr style=\"text-align: right;\">\n",
       "      <th></th>\n",
       "      <th>Gene</th>\n",
       "      <th>Variation</th>\n",
       "      <th>Class</th>\n",
       "      <th>text_char_len</th>\n",
       "      <th>text_words</th>\n",
       "      <th>Gene_Share</th>\n",
       "      <th>Variation_Share</th>\n",
       "      <th>vec23674</th>\n",
       "      <th>vec158919</th>\n",
       "      <th>vec23682</th>\n",
       "      <th>...</th>\n",
       "      <th>keyvec113403</th>\n",
       "      <th>keyvec113404</th>\n",
       "      <th>keyvec113405</th>\n",
       "      <th>keyvec113406</th>\n",
       "      <th>keyvec113407</th>\n",
       "      <th>keyvec113408</th>\n",
       "      <th>keyvec113409</th>\n",
       "      <th>keyvec113410</th>\n",
       "      <th>keyvec113411</th>\n",
       "      <th>keyvec113412</th>\n",
       "    </tr>\n",
       "  </thead>\n",
       "  <tbody>\n",
       "    <tr>\n",
       "      <th>0</th>\n",
       "      <td>447</td>\n",
       "      <td>7654</td>\n",
       "      <td>1</td>\n",
       "      <td>39672</td>\n",
       "      <td>6105</td>\n",
       "      <td>1</td>\n",
       "      <td>1</td>\n",
       "      <td>2</td>\n",
       "      <td>0</td>\n",
       "      <td>1</td>\n",
       "      <td>...</td>\n",
       "      <td>0</td>\n",
       "      <td>0</td>\n",
       "      <td>0</td>\n",
       "      <td>0</td>\n",
       "      <td>0</td>\n",
       "      <td>0</td>\n",
       "      <td>0</td>\n",
       "      <td>0</td>\n",
       "      <td>0</td>\n",
       "      <td>0</td>\n",
       "    </tr>\n",
       "    <tr>\n",
       "      <th>1</th>\n",
       "      <td>216</td>\n",
       "      <td>8255</td>\n",
       "      <td>2</td>\n",
       "      <td>36691</td>\n",
       "      <td>5783</td>\n",
       "      <td>1</td>\n",
       "      <td>1</td>\n",
       "      <td>2</td>\n",
       "      <td>7</td>\n",
       "      <td>3</td>\n",
       "      <td>...</td>\n",
       "      <td>0</td>\n",
       "      <td>0</td>\n",
       "      <td>0</td>\n",
       "      <td>0</td>\n",
       "      <td>0</td>\n",
       "      <td>0</td>\n",
       "      <td>0</td>\n",
       "      <td>0</td>\n",
       "      <td>0</td>\n",
       "      <td>0</td>\n",
       "    </tr>\n",
       "    <tr>\n",
       "      <th>2</th>\n",
       "      <td>216</td>\n",
       "      <td>5191</td>\n",
       "      <td>2</td>\n",
       "      <td>36691</td>\n",
       "      <td>5783</td>\n",
       "      <td>1</td>\n",
       "      <td>1</td>\n",
       "      <td>2</td>\n",
       "      <td>7</td>\n",
       "      <td>3</td>\n",
       "      <td>...</td>\n",
       "      <td>0</td>\n",
       "      <td>0</td>\n",
       "      <td>0</td>\n",
       "      <td>0</td>\n",
       "      <td>0</td>\n",
       "      <td>0</td>\n",
       "      <td>0</td>\n",
       "      <td>0</td>\n",
       "      <td>0</td>\n",
       "      <td>0</td>\n",
       "    </tr>\n",
       "    <tr>\n",
       "      <th>3</th>\n",
       "      <td>216</td>\n",
       "      <td>4572</td>\n",
       "      <td>3</td>\n",
       "      <td>36238</td>\n",
       "      <td>5625</td>\n",
       "      <td>1</td>\n",
       "      <td>1</td>\n",
       "      <td>3</td>\n",
       "      <td>22</td>\n",
       "      <td>2</td>\n",
       "      <td>...</td>\n",
       "      <td>0</td>\n",
       "      <td>0</td>\n",
       "      <td>0</td>\n",
       "      <td>0</td>\n",
       "      <td>0</td>\n",
       "      <td>0</td>\n",
       "      <td>0</td>\n",
       "      <td>0</td>\n",
       "      <td>0</td>\n",
       "      <td>0</td>\n",
       "    </tr>\n",
       "    <tr>\n",
       "      <th>4</th>\n",
       "      <td>216</td>\n",
       "      <td>3958</td>\n",
       "      <td>4</td>\n",
       "      <td>41308</td>\n",
       "      <td>6248</td>\n",
       "      <td>1</td>\n",
       "      <td>1</td>\n",
       "      <td>0</td>\n",
       "      <td>6</td>\n",
       "      <td>16</td>\n",
       "      <td>...</td>\n",
       "      <td>0</td>\n",
       "      <td>0</td>\n",
       "      <td>0</td>\n",
       "      <td>0</td>\n",
       "      <td>0</td>\n",
       "      <td>0</td>\n",
       "      <td>0</td>\n",
       "      <td>0</td>\n",
       "      <td>0</td>\n",
       "      <td>0</td>\n",
       "    </tr>\n",
       "  </tbody>\n",
       "</table>\n",
       "<p>5 rows × 114530 columns</p>\n",
       "</div>"
      ],
      "text/plain": [
       "   Gene  Variation  Class  text_char_len  text_words  Gene_Share  \\\n",
       "0   447       7654      1          39672        6105           1   \n",
       "1   216       8255      2          36691        5783           1   \n",
       "2   216       5191      2          36691        5783           1   \n",
       "3   216       4572      3          36238        5625           1   \n",
       "4   216       3958      4          41308        6248           1   \n",
       "\n",
       "   Variation_Share  vec23674  vec158919  vec23682      ...       keyvec113403  \\\n",
       "0                1         2          0         1      ...                  0   \n",
       "1                1         2          7         3      ...                  0   \n",
       "2                1         2          7         3      ...                  0   \n",
       "3                1         3         22         2      ...                  0   \n",
       "4                1         0          6        16      ...                  0   \n",
       "\n",
       "   keyvec113404  keyvec113405  keyvec113406  keyvec113407  keyvec113408  \\\n",
       "0             0             0             0             0             0   \n",
       "1             0             0             0             0             0   \n",
       "2             0             0             0             0             0   \n",
       "3             0             0             0             0             0   \n",
       "4             0             0             0             0             0   \n",
       "\n",
       "   keyvec113409  keyvec113410  keyvec113411  keyvec113412  \n",
       "0             0             0             0             0  \n",
       "1             0             0             0             0  \n",
       "2             0             0             0             0  \n",
       "3             0             0             0             0  \n",
       "4             0             0             0             0  \n",
       "\n",
       "[5 rows x 114530 columns]"
      ]
     },
     "execution_count": 200,
     "metadata": {},
     "output_type": "execute_result"
    }
   ],
   "source": [
    "df_merge.head()"
   ]
  },
  {
   "cell_type": "code",
   "execution_count": 201,
   "metadata": {
    "collapsed": true
   },
   "outputs": [],
   "source": [
    "del(df_keytext_array)"
   ]
  },
  {
   "cell_type": "code",
   "execution_count": 202,
   "metadata": {
    "collapsed": true
   },
   "outputs": [],
   "source": [
    "del(df_pca)"
   ]
  },
  {
   "cell_type": "code",
   "execution_count": 203,
   "metadata": {
    "collapsed": true
   },
   "outputs": [],
   "source": [
    "del(df)"
   ]
  },
  {
   "cell_type": "code",
   "execution_count": 204,
   "metadata": {
    "collapsed": true
   },
   "outputs": [],
   "source": [
    "del(df_text_array)"
   ]
  },
  {
   "cell_type": "code",
   "execution_count": 205,
   "metadata": {
    "collapsed": true
   },
   "outputs": [],
   "source": [
    "del(df_tfid)"
   ]
  },
  {
   "cell_type": "markdown",
   "metadata": {},
   "source": [
    "# split train and test again"
   ]
  },
  {
   "cell_type": "code",
   "execution_count": 206,
   "metadata": {
    "collapsed": true
   },
   "outputs": [],
   "source": [
    "train = df_merge[df_merge.Class >0]"
   ]
  },
  {
   "cell_type": "code",
   "execution_count": 207,
   "metadata": {
    "collapsed": true
   },
   "outputs": [],
   "source": [
    "test = df_merge[df_merge.Class == -1]"
   ]
  },
  {
   "cell_type": "code",
   "execution_count": 208,
   "metadata": {},
   "outputs": [
    {
     "data": {
      "text/html": [
       "<div>\n",
       "<table border=\"1\" class=\"dataframe\">\n",
       "  <thead>\n",
       "    <tr style=\"text-align: right;\">\n",
       "      <th></th>\n",
       "      <th>Gene</th>\n",
       "      <th>Variation</th>\n",
       "      <th>Class</th>\n",
       "      <th>text_char_len</th>\n",
       "      <th>text_words</th>\n",
       "      <th>Gene_Share</th>\n",
       "      <th>Variation_Share</th>\n",
       "      <th>vec23674</th>\n",
       "      <th>vec158919</th>\n",
       "      <th>vec23682</th>\n",
       "      <th>...</th>\n",
       "      <th>keyvec113403</th>\n",
       "      <th>keyvec113404</th>\n",
       "      <th>keyvec113405</th>\n",
       "      <th>keyvec113406</th>\n",
       "      <th>keyvec113407</th>\n",
       "      <th>keyvec113408</th>\n",
       "      <th>keyvec113409</th>\n",
       "      <th>keyvec113410</th>\n",
       "      <th>keyvec113411</th>\n",
       "      <th>keyvec113412</th>\n",
       "    </tr>\n",
       "  </thead>\n",
       "  <tbody>\n",
       "    <tr>\n",
       "      <th>0</th>\n",
       "      <td>447</td>\n",
       "      <td>7654</td>\n",
       "      <td>1</td>\n",
       "      <td>39672</td>\n",
       "      <td>6105</td>\n",
       "      <td>1</td>\n",
       "      <td>1</td>\n",
       "      <td>2</td>\n",
       "      <td>0</td>\n",
       "      <td>1</td>\n",
       "      <td>...</td>\n",
       "      <td>0</td>\n",
       "      <td>0</td>\n",
       "      <td>0</td>\n",
       "      <td>0</td>\n",
       "      <td>0</td>\n",
       "      <td>0</td>\n",
       "      <td>0</td>\n",
       "      <td>0</td>\n",
       "      <td>0</td>\n",
       "      <td>0</td>\n",
       "    </tr>\n",
       "    <tr>\n",
       "      <th>1</th>\n",
       "      <td>216</td>\n",
       "      <td>8255</td>\n",
       "      <td>2</td>\n",
       "      <td>36691</td>\n",
       "      <td>5783</td>\n",
       "      <td>1</td>\n",
       "      <td>1</td>\n",
       "      <td>2</td>\n",
       "      <td>7</td>\n",
       "      <td>3</td>\n",
       "      <td>...</td>\n",
       "      <td>0</td>\n",
       "      <td>0</td>\n",
       "      <td>0</td>\n",
       "      <td>0</td>\n",
       "      <td>0</td>\n",
       "      <td>0</td>\n",
       "      <td>0</td>\n",
       "      <td>0</td>\n",
       "      <td>0</td>\n",
       "      <td>0</td>\n",
       "    </tr>\n",
       "    <tr>\n",
       "      <th>2</th>\n",
       "      <td>216</td>\n",
       "      <td>5191</td>\n",
       "      <td>2</td>\n",
       "      <td>36691</td>\n",
       "      <td>5783</td>\n",
       "      <td>1</td>\n",
       "      <td>1</td>\n",
       "      <td>2</td>\n",
       "      <td>7</td>\n",
       "      <td>3</td>\n",
       "      <td>...</td>\n",
       "      <td>0</td>\n",
       "      <td>0</td>\n",
       "      <td>0</td>\n",
       "      <td>0</td>\n",
       "      <td>0</td>\n",
       "      <td>0</td>\n",
       "      <td>0</td>\n",
       "      <td>0</td>\n",
       "      <td>0</td>\n",
       "      <td>0</td>\n",
       "    </tr>\n",
       "    <tr>\n",
       "      <th>3</th>\n",
       "      <td>216</td>\n",
       "      <td>4572</td>\n",
       "      <td>3</td>\n",
       "      <td>36238</td>\n",
       "      <td>5625</td>\n",
       "      <td>1</td>\n",
       "      <td>1</td>\n",
       "      <td>3</td>\n",
       "      <td>22</td>\n",
       "      <td>2</td>\n",
       "      <td>...</td>\n",
       "      <td>0</td>\n",
       "      <td>0</td>\n",
       "      <td>0</td>\n",
       "      <td>0</td>\n",
       "      <td>0</td>\n",
       "      <td>0</td>\n",
       "      <td>0</td>\n",
       "      <td>0</td>\n",
       "      <td>0</td>\n",
       "      <td>0</td>\n",
       "    </tr>\n",
       "    <tr>\n",
       "      <th>4</th>\n",
       "      <td>216</td>\n",
       "      <td>3958</td>\n",
       "      <td>4</td>\n",
       "      <td>41308</td>\n",
       "      <td>6248</td>\n",
       "      <td>1</td>\n",
       "      <td>1</td>\n",
       "      <td>0</td>\n",
       "      <td>6</td>\n",
       "      <td>16</td>\n",
       "      <td>...</td>\n",
       "      <td>0</td>\n",
       "      <td>0</td>\n",
       "      <td>0</td>\n",
       "      <td>0</td>\n",
       "      <td>0</td>\n",
       "      <td>0</td>\n",
       "      <td>0</td>\n",
       "      <td>0</td>\n",
       "      <td>0</td>\n",
       "      <td>0</td>\n",
       "    </tr>\n",
       "  </tbody>\n",
       "</table>\n",
       "<p>5 rows × 114530 columns</p>\n",
       "</div>"
      ],
      "text/plain": [
       "   Gene  Variation  Class  text_char_len  text_words  Gene_Share  \\\n",
       "0   447       7654      1          39672        6105           1   \n",
       "1   216       8255      2          36691        5783           1   \n",
       "2   216       5191      2          36691        5783           1   \n",
       "3   216       4572      3          36238        5625           1   \n",
       "4   216       3958      4          41308        6248           1   \n",
       "\n",
       "   Variation_Share  vec23674  vec158919  vec23682      ...       keyvec113403  \\\n",
       "0                1         2          0         1      ...                  0   \n",
       "1                1         2          7         3      ...                  0   \n",
       "2                1         2          7         3      ...                  0   \n",
       "3                1         3         22         2      ...                  0   \n",
       "4                1         0          6        16      ...                  0   \n",
       "\n",
       "   keyvec113404  keyvec113405  keyvec113406  keyvec113407  keyvec113408  \\\n",
       "0             0             0             0             0             0   \n",
       "1             0             0             0             0             0   \n",
       "2             0             0             0             0             0   \n",
       "3             0             0             0             0             0   \n",
       "4             0             0             0             0             0   \n",
       "\n",
       "   keyvec113409  keyvec113410  keyvec113411  keyvec113412  \n",
       "0             0             0             0             0  \n",
       "1             0             0             0             0  \n",
       "2             0             0             0             0  \n",
       "3             0             0             0             0  \n",
       "4             0             0             0             0  \n",
       "\n",
       "[5 rows x 114530 columns]"
      ]
     },
     "execution_count": 208,
     "metadata": {},
     "output_type": "execute_result"
    }
   ],
   "source": [
    "train.head()"
   ]
  },
  {
   "cell_type": "code",
   "execution_count": 209,
   "metadata": {},
   "outputs": [
    {
     "data": {
      "text/html": [
       "<div>\n",
       "<table border=\"1\" class=\"dataframe\">\n",
       "  <thead>\n",
       "    <tr style=\"text-align: right;\">\n",
       "      <th></th>\n",
       "      <th>Gene</th>\n",
       "      <th>Variation</th>\n",
       "      <th>Class</th>\n",
       "      <th>text_char_len</th>\n",
       "      <th>text_words</th>\n",
       "      <th>Gene_Share</th>\n",
       "      <th>Variation_Share</th>\n",
       "      <th>vec23674</th>\n",
       "      <th>vec158919</th>\n",
       "      <th>vec23682</th>\n",
       "      <th>...</th>\n",
       "      <th>keyvec113403</th>\n",
       "      <th>keyvec113404</th>\n",
       "      <th>keyvec113405</th>\n",
       "      <th>keyvec113406</th>\n",
       "      <th>keyvec113407</th>\n",
       "      <th>keyvec113408</th>\n",
       "      <th>keyvec113409</th>\n",
       "      <th>keyvec113410</th>\n",
       "      <th>keyvec113411</th>\n",
       "      <th>keyvec113412</th>\n",
       "    </tr>\n",
       "  </thead>\n",
       "  <tbody>\n",
       "    <tr>\n",
       "      <th>3316</th>\n",
       "      <td>1155</td>\n",
       "      <td>960</td>\n",
       "      <td>4</td>\n",
       "      <td>73895</td>\n",
       "      <td>11112</td>\n",
       "      <td>0</td>\n",
       "      <td>1</td>\n",
       "      <td>1</td>\n",
       "      <td>0</td>\n",
       "      <td>11</td>\n",
       "      <td>...</td>\n",
       "      <td>0</td>\n",
       "      <td>0</td>\n",
       "      <td>0</td>\n",
       "      <td>0</td>\n",
       "      <td>0</td>\n",
       "      <td>0</td>\n",
       "      <td>0</td>\n",
       "      <td>0</td>\n",
       "      <td>0</td>\n",
       "      <td>0</td>\n",
       "    </tr>\n",
       "    <tr>\n",
       "      <th>3317</th>\n",
       "      <td>1155</td>\n",
       "      <td>56</td>\n",
       "      <td>1</td>\n",
       "      <td>40127</td>\n",
       "      <td>6118</td>\n",
       "      <td>0</td>\n",
       "      <td>0</td>\n",
       "      <td>0</td>\n",
       "      <td>0</td>\n",
       "      <td>0</td>\n",
       "      <td>...</td>\n",
       "      <td>0</td>\n",
       "      <td>0</td>\n",
       "      <td>0</td>\n",
       "      <td>0</td>\n",
       "      <td>0</td>\n",
       "      <td>0</td>\n",
       "      <td>0</td>\n",
       "      <td>0</td>\n",
       "      <td>0</td>\n",
       "      <td>0</td>\n",
       "    </tr>\n",
       "    <tr>\n",
       "      <th>3318</th>\n",
       "      <td>1155</td>\n",
       "      <td>2076</td>\n",
       "      <td>1</td>\n",
       "      <td>36200</td>\n",
       "      <td>5119</td>\n",
       "      <td>1</td>\n",
       "      <td>0</td>\n",
       "      <td>0</td>\n",
       "      <td>0</td>\n",
       "      <td>12</td>\n",
       "      <td>...</td>\n",
       "      <td>0</td>\n",
       "      <td>0</td>\n",
       "      <td>0</td>\n",
       "      <td>0</td>\n",
       "      <td>0</td>\n",
       "      <td>0</td>\n",
       "      <td>0</td>\n",
       "      <td>0</td>\n",
       "      <td>0</td>\n",
       "      <td>0</td>\n",
       "    </tr>\n",
       "    <tr>\n",
       "      <th>3319</th>\n",
       "      <td>1155</td>\n",
       "      <td>6606</td>\n",
       "      <td>4</td>\n",
       "      <td>32520</td>\n",
       "      <td>4913</td>\n",
       "      <td>1</td>\n",
       "      <td>0</td>\n",
       "      <td>0</td>\n",
       "      <td>0</td>\n",
       "      <td>0</td>\n",
       "      <td>...</td>\n",
       "      <td>0</td>\n",
       "      <td>0</td>\n",
       "      <td>0</td>\n",
       "      <td>0</td>\n",
       "      <td>0</td>\n",
       "      <td>0</td>\n",
       "      <td>0</td>\n",
       "      <td>0</td>\n",
       "      <td>0</td>\n",
       "      <td>0</td>\n",
       "    </tr>\n",
       "    <tr>\n",
       "      <th>3320</th>\n",
       "      <td>1155</td>\n",
       "      <td>3608</td>\n",
       "      <td>4</td>\n",
       "      <td>67136</td>\n",
       "      <td>9846</td>\n",
       "      <td>1</td>\n",
       "      <td>1</td>\n",
       "      <td>0</td>\n",
       "      <td>1</td>\n",
       "      <td>2</td>\n",
       "      <td>...</td>\n",
       "      <td>0</td>\n",
       "      <td>0</td>\n",
       "      <td>0</td>\n",
       "      <td>0</td>\n",
       "      <td>0</td>\n",
       "      <td>0</td>\n",
       "      <td>0</td>\n",
       "      <td>0</td>\n",
       "      <td>0</td>\n",
       "      <td>0</td>\n",
       "    </tr>\n",
       "  </tbody>\n",
       "</table>\n",
       "<p>5 rows × 114530 columns</p>\n",
       "</div>"
      ],
      "text/plain": [
       "      Gene  Variation  Class  text_char_len  text_words  Gene_Share  \\\n",
       "3316  1155        960      4          73895       11112           0   \n",
       "3317  1155         56      1          40127        6118           0   \n",
       "3318  1155       2076      1          36200        5119           1   \n",
       "3319  1155       6606      4          32520        4913           1   \n",
       "3320  1155       3608      4          67136        9846           1   \n",
       "\n",
       "      Variation_Share  vec23674  vec158919  vec23682      ...       \\\n",
       "3316                1         1          0        11      ...        \n",
       "3317                0         0          0         0      ...        \n",
       "3318                0         0          0        12      ...        \n",
       "3319                0         0          0         0      ...        \n",
       "3320                1         0          1         2      ...        \n",
       "\n",
       "      keyvec113403  keyvec113404  keyvec113405  keyvec113406  keyvec113407  \\\n",
       "3316             0             0             0             0             0   \n",
       "3317             0             0             0             0             0   \n",
       "3318             0             0             0             0             0   \n",
       "3319             0             0             0             0             0   \n",
       "3320             0             0             0             0             0   \n",
       "\n",
       "      keyvec113408  keyvec113409  keyvec113410  keyvec113411  keyvec113412  \n",
       "3316             0             0             0             0             0  \n",
       "3317             0             0             0             0             0  \n",
       "3318             0             0             0             0             0  \n",
       "3319             0             0             0             0             0  \n",
       "3320             0             0             0             0             0  \n",
       "\n",
       "[5 rows x 114530 columns]"
      ]
     },
     "execution_count": 209,
     "metadata": {},
     "output_type": "execute_result"
    }
   ],
   "source": [
    "train.tail()"
   ]
  },
  {
   "cell_type": "code",
   "execution_count": 210,
   "metadata": {},
   "outputs": [
    {
     "data": {
      "text/html": [
       "<div>\n",
       "<table border=\"1\" class=\"dataframe\">\n",
       "  <thead>\n",
       "    <tr style=\"text-align: right;\">\n",
       "      <th></th>\n",
       "      <th>Gene</th>\n",
       "      <th>Variation</th>\n",
       "      <th>Class</th>\n",
       "      <th>text_char_len</th>\n",
       "      <th>text_words</th>\n",
       "      <th>Gene_Share</th>\n",
       "      <th>Variation_Share</th>\n",
       "      <th>vec23674</th>\n",
       "      <th>vec158919</th>\n",
       "      <th>vec23682</th>\n",
       "      <th>...</th>\n",
       "      <th>keyvec113403</th>\n",
       "      <th>keyvec113404</th>\n",
       "      <th>keyvec113405</th>\n",
       "      <th>keyvec113406</th>\n",
       "      <th>keyvec113407</th>\n",
       "      <th>keyvec113408</th>\n",
       "      <th>keyvec113409</th>\n",
       "      <th>keyvec113410</th>\n",
       "      <th>keyvec113411</th>\n",
       "      <th>keyvec113412</th>\n",
       "    </tr>\n",
       "  </thead>\n",
       "  <tbody>\n",
       "    <tr>\n",
       "      <th>3321</th>\n",
       "      <td>28</td>\n",
       "      <td>6404</td>\n",
       "      <td>-1</td>\n",
       "      <td>49829</td>\n",
       "      <td>7495</td>\n",
       "      <td>0</td>\n",
       "      <td>1</td>\n",
       "      <td>1</td>\n",
       "      <td>11</td>\n",
       "      <td>1</td>\n",
       "      <td>...</td>\n",
       "      <td>0</td>\n",
       "      <td>0</td>\n",
       "      <td>0</td>\n",
       "      <td>0</td>\n",
       "      <td>0</td>\n",
       "      <td>0</td>\n",
       "      <td>0</td>\n",
       "      <td>0</td>\n",
       "      <td>0</td>\n",
       "      <td>0</td>\n",
       "    </tr>\n",
       "    <tr>\n",
       "      <th>3322</th>\n",
       "      <td>852</td>\n",
       "      <td>5005</td>\n",
       "      <td>-1</td>\n",
       "      <td>31326</td>\n",
       "      <td>4762</td>\n",
       "      <td>0</td>\n",
       "      <td>1</td>\n",
       "      <td>1</td>\n",
       "      <td>2</td>\n",
       "      <td>3</td>\n",
       "      <td>...</td>\n",
       "      <td>0</td>\n",
       "      <td>0</td>\n",
       "      <td>0</td>\n",
       "      <td>0</td>\n",
       "      <td>0</td>\n",
       "      <td>0</td>\n",
       "      <td>0</td>\n",
       "      <td>0</td>\n",
       "      <td>0</td>\n",
       "      <td>0</td>\n",
       "    </tr>\n",
       "    <tr>\n",
       "      <th>3323</th>\n",
       "      <td>950</td>\n",
       "      <td>3915</td>\n",
       "      <td>-1</td>\n",
       "      <td>75282</td>\n",
       "      <td>11191</td>\n",
       "      <td>0</td>\n",
       "      <td>1</td>\n",
       "      <td>5</td>\n",
       "      <td>5</td>\n",
       "      <td>28</td>\n",
       "      <td>...</td>\n",
       "      <td>0</td>\n",
       "      <td>0</td>\n",
       "      <td>0</td>\n",
       "      <td>0</td>\n",
       "      <td>0</td>\n",
       "      <td>0</td>\n",
       "      <td>0</td>\n",
       "      <td>0</td>\n",
       "      <td>0</td>\n",
       "      <td>0</td>\n",
       "    </tr>\n",
       "    <tr>\n",
       "      <th>3324</th>\n",
       "      <td>657</td>\n",
       "      <td>85</td>\n",
       "      <td>-1</td>\n",
       "      <td>53996</td>\n",
       "      <td>8439</td>\n",
       "      <td>0</td>\n",
       "      <td>1</td>\n",
       "      <td>1</td>\n",
       "      <td>18</td>\n",
       "      <td>18</td>\n",
       "      <td>...</td>\n",
       "      <td>0</td>\n",
       "      <td>0</td>\n",
       "      <td>0</td>\n",
       "      <td>0</td>\n",
       "      <td>0</td>\n",
       "      <td>0</td>\n",
       "      <td>0</td>\n",
       "      <td>0</td>\n",
       "      <td>0</td>\n",
       "      <td>0</td>\n",
       "    </tr>\n",
       "    <tr>\n",
       "      <th>3325</th>\n",
       "      <td>1376</td>\n",
       "      <td>2780</td>\n",
       "      <td>-1</td>\n",
       "      <td>76967</td>\n",
       "      <td>11226</td>\n",
       "      <td>0</td>\n",
       "      <td>1</td>\n",
       "      <td>3</td>\n",
       "      <td>3</td>\n",
       "      <td>5</td>\n",
       "      <td>...</td>\n",
       "      <td>0</td>\n",
       "      <td>0</td>\n",
       "      <td>0</td>\n",
       "      <td>0</td>\n",
       "      <td>0</td>\n",
       "      <td>0</td>\n",
       "      <td>0</td>\n",
       "      <td>0</td>\n",
       "      <td>0</td>\n",
       "      <td>0</td>\n",
       "    </tr>\n",
       "  </tbody>\n",
       "</table>\n",
       "<p>5 rows × 114530 columns</p>\n",
       "</div>"
      ],
      "text/plain": [
       "      Gene  Variation  Class  text_char_len  text_words  Gene_Share  \\\n",
       "3321    28       6404     -1          49829        7495           0   \n",
       "3322   852       5005     -1          31326        4762           0   \n",
       "3323   950       3915     -1          75282       11191           0   \n",
       "3324   657         85     -1          53996        8439           0   \n",
       "3325  1376       2780     -1          76967       11226           0   \n",
       "\n",
       "      Variation_Share  vec23674  vec158919  vec23682      ...       \\\n",
       "3321                1         1         11         1      ...        \n",
       "3322                1         1          2         3      ...        \n",
       "3323                1         5          5        28      ...        \n",
       "3324                1         1         18        18      ...        \n",
       "3325                1         3          3         5      ...        \n",
       "\n",
       "      keyvec113403  keyvec113404  keyvec113405  keyvec113406  keyvec113407  \\\n",
       "3321             0             0             0             0             0   \n",
       "3322             0             0             0             0             0   \n",
       "3323             0             0             0             0             0   \n",
       "3324             0             0             0             0             0   \n",
       "3325             0             0             0             0             0   \n",
       "\n",
       "      keyvec113408  keyvec113409  keyvec113410  keyvec113411  keyvec113412  \n",
       "3321             0             0             0             0             0  \n",
       "3322             0             0             0             0             0  \n",
       "3323             0             0             0             0             0  \n",
       "3324             0             0             0             0             0  \n",
       "3325             0             0             0             0             0  \n",
       "\n",
       "[5 rows x 114530 columns]"
      ]
     },
     "execution_count": 210,
     "metadata": {},
     "output_type": "execute_result"
    }
   ],
   "source": [
    "test.head()"
   ]
  },
  {
   "cell_type": "code",
   "execution_count": 211,
   "metadata": {},
   "outputs": [
    {
     "data": {
      "text/html": [
       "<div>\n",
       "<table border=\"1\" class=\"dataframe\">\n",
       "  <thead>\n",
       "    <tr style=\"text-align: right;\">\n",
       "      <th></th>\n",
       "      <th>Gene</th>\n",
       "      <th>Variation</th>\n",
       "      <th>Class</th>\n",
       "      <th>text_char_len</th>\n",
       "      <th>text_words</th>\n",
       "      <th>Gene_Share</th>\n",
       "      <th>Variation_Share</th>\n",
       "      <th>vec23674</th>\n",
       "      <th>vec158919</th>\n",
       "      <th>vec23682</th>\n",
       "      <th>...</th>\n",
       "      <th>keyvec113403</th>\n",
       "      <th>keyvec113404</th>\n",
       "      <th>keyvec113405</th>\n",
       "      <th>keyvec113406</th>\n",
       "      <th>keyvec113407</th>\n",
       "      <th>keyvec113408</th>\n",
       "      <th>keyvec113409</th>\n",
       "      <th>keyvec113410</th>\n",
       "      <th>keyvec113411</th>\n",
       "      <th>keyvec113412</th>\n",
       "    </tr>\n",
       "  </thead>\n",
       "  <tbody>\n",
       "    <tr>\n",
       "      <th>8984</th>\n",
       "      <td>1262</td>\n",
       "      <td>5379</td>\n",
       "      <td>-1</td>\n",
       "      <td>76385</td>\n",
       "      <td>11114</td>\n",
       "      <td>0</td>\n",
       "      <td>1</td>\n",
       "      <td>3</td>\n",
       "      <td>1</td>\n",
       "      <td>35</td>\n",
       "      <td>...</td>\n",
       "      <td>0</td>\n",
       "      <td>0</td>\n",
       "      <td>0</td>\n",
       "      <td>0</td>\n",
       "      <td>0</td>\n",
       "      <td>0</td>\n",
       "      <td>0</td>\n",
       "      <td>0</td>\n",
       "      <td>0</td>\n",
       "      <td>0</td>\n",
       "    </tr>\n",
       "    <tr>\n",
       "      <th>8985</th>\n",
       "      <td>486</td>\n",
       "      <td>3684</td>\n",
       "      <td>-1</td>\n",
       "      <td>27014</td>\n",
       "      <td>4134</td>\n",
       "      <td>0</td>\n",
       "      <td>1</td>\n",
       "      <td>1</td>\n",
       "      <td>1</td>\n",
       "      <td>2</td>\n",
       "      <td>...</td>\n",
       "      <td>0</td>\n",
       "      <td>0</td>\n",
       "      <td>0</td>\n",
       "      <td>0</td>\n",
       "      <td>0</td>\n",
       "      <td>0</td>\n",
       "      <td>0</td>\n",
       "      <td>0</td>\n",
       "      <td>0</td>\n",
       "      <td>0</td>\n",
       "    </tr>\n",
       "    <tr>\n",
       "      <th>8986</th>\n",
       "      <td>576</td>\n",
       "      <td>5892</td>\n",
       "      <td>-1</td>\n",
       "      <td>23101</td>\n",
       "      <td>3427</td>\n",
       "      <td>0</td>\n",
       "      <td>1</td>\n",
       "      <td>0</td>\n",
       "      <td>6</td>\n",
       "      <td>3</td>\n",
       "      <td>...</td>\n",
       "      <td>0</td>\n",
       "      <td>0</td>\n",
       "      <td>0</td>\n",
       "      <td>0</td>\n",
       "      <td>0</td>\n",
       "      <td>0</td>\n",
       "      <td>0</td>\n",
       "      <td>0</td>\n",
       "      <td>0</td>\n",
       "      <td>0</td>\n",
       "    </tr>\n",
       "    <tr>\n",
       "      <th>8987</th>\n",
       "      <td>314</td>\n",
       "      <td>2785</td>\n",
       "      <td>-1</td>\n",
       "      <td>67269</td>\n",
       "      <td>10635</td>\n",
       "      <td>0</td>\n",
       "      <td>1</td>\n",
       "      <td>0</td>\n",
       "      <td>0</td>\n",
       "      <td>13</td>\n",
       "      <td>...</td>\n",
       "      <td>0</td>\n",
       "      <td>0</td>\n",
       "      <td>0</td>\n",
       "      <td>0</td>\n",
       "      <td>0</td>\n",
       "      <td>0</td>\n",
       "      <td>0</td>\n",
       "      <td>0</td>\n",
       "      <td>0</td>\n",
       "      <td>0</td>\n",
       "    </tr>\n",
       "    <tr>\n",
       "      <th>8988</th>\n",
       "      <td>344</td>\n",
       "      <td>7542</td>\n",
       "      <td>-1</td>\n",
       "      <td>27021</td>\n",
       "      <td>4079</td>\n",
       "      <td>0</td>\n",
       "      <td>1</td>\n",
       "      <td>0</td>\n",
       "      <td>0</td>\n",
       "      <td>0</td>\n",
       "      <td>...</td>\n",
       "      <td>0</td>\n",
       "      <td>0</td>\n",
       "      <td>0</td>\n",
       "      <td>0</td>\n",
       "      <td>0</td>\n",
       "      <td>0</td>\n",
       "      <td>0</td>\n",
       "      <td>0</td>\n",
       "      <td>0</td>\n",
       "      <td>0</td>\n",
       "    </tr>\n",
       "  </tbody>\n",
       "</table>\n",
       "<p>5 rows × 114530 columns</p>\n",
       "</div>"
      ],
      "text/plain": [
       "      Gene  Variation  Class  text_char_len  text_words  Gene_Share  \\\n",
       "8984  1262       5379     -1          76385       11114           0   \n",
       "8985   486       3684     -1          27014        4134           0   \n",
       "8986   576       5892     -1          23101        3427           0   \n",
       "8987   314       2785     -1          67269       10635           0   \n",
       "8988   344       7542     -1          27021        4079           0   \n",
       "\n",
       "      Variation_Share  vec23674  vec158919  vec23682      ...       \\\n",
       "8984                1         3          1        35      ...        \n",
       "8985                1         1          1         2      ...        \n",
       "8986                1         0          6         3      ...        \n",
       "8987                1         0          0        13      ...        \n",
       "8988                1         0          0         0      ...        \n",
       "\n",
       "      keyvec113403  keyvec113404  keyvec113405  keyvec113406  keyvec113407  \\\n",
       "8984             0             0             0             0             0   \n",
       "8985             0             0             0             0             0   \n",
       "8986             0             0             0             0             0   \n",
       "8987             0             0             0             0             0   \n",
       "8988             0             0             0             0             0   \n",
       "\n",
       "      keyvec113408  keyvec113409  keyvec113410  keyvec113411  keyvec113412  \n",
       "8984             0             0             0             0             0  \n",
       "8985             0             0             0             0             0  \n",
       "8986             0             0             0             0             0  \n",
       "8987             0             0             0             0             0  \n",
       "8988             0             0             0             0             0  \n",
       "\n",
       "[5 rows x 114530 columns]"
      ]
     },
     "execution_count": 211,
     "metadata": {},
     "output_type": "execute_result"
    }
   ],
   "source": [
    "test.tail()"
   ]
  },
  {
   "cell_type": "code",
   "execution_count": 212,
   "metadata": {
    "collapsed": true
   },
   "outputs": [],
   "source": [
    "del(df_merge)"
   ]
  },
  {
   "cell_type": "markdown",
   "metadata": {},
   "source": [
    "#  split the train dataset for internal evaluation"
   ]
  },
  {
   "cell_type": "code",
   "execution_count": 213,
   "metadata": {
    "collapsed": true
   },
   "outputs": [],
   "source": [
    "from sklearn.cross_validation import train_test_split\n",
    "from sklearn import metrics"
   ]
  },
  {
   "cell_type": "code",
   "execution_count": 214,
   "metadata": {
    "collapsed": true
   },
   "outputs": [],
   "source": [
    "y_train = train.pop('Class')"
   ]
  },
  {
   "cell_type": "code",
   "execution_count": 215,
   "metadata": {
    "collapsed": true
   },
   "outputs": [],
   "source": [
    "x_train = train"
   ]
  },
  {
   "cell_type": "code",
   "execution_count": 216,
   "metadata": {
    "collapsed": true
   },
   "outputs": [],
   "source": [
    "y_test = test.pop('Class')"
   ]
  },
  {
   "cell_type": "code",
   "execution_count": 217,
   "metadata": {
    "collapsed": true
   },
   "outputs": [],
   "source": [
    "x_test = test"
   ]
  },
  {
   "cell_type": "code",
   "execution_count": 218,
   "metadata": {},
   "outputs": [
    {
     "data": {
      "text/html": [
       "<div>\n",
       "<table border=\"1\" class=\"dataframe\">\n",
       "  <thead>\n",
       "    <tr style=\"text-align: right;\">\n",
       "      <th></th>\n",
       "      <th>Gene</th>\n",
       "      <th>Variation</th>\n",
       "      <th>text_char_len</th>\n",
       "      <th>text_words</th>\n",
       "      <th>Gene_Share</th>\n",
       "      <th>Variation_Share</th>\n",
       "      <th>vec23674</th>\n",
       "      <th>vec158919</th>\n",
       "      <th>vec23682</th>\n",
       "      <th>vec104161</th>\n",
       "      <th>...</th>\n",
       "      <th>keyvec113403</th>\n",
       "      <th>keyvec113404</th>\n",
       "      <th>keyvec113405</th>\n",
       "      <th>keyvec113406</th>\n",
       "      <th>keyvec113407</th>\n",
       "      <th>keyvec113408</th>\n",
       "      <th>keyvec113409</th>\n",
       "      <th>keyvec113410</th>\n",
       "      <th>keyvec113411</th>\n",
       "      <th>keyvec113412</th>\n",
       "    </tr>\n",
       "  </thead>\n",
       "  <tbody>\n",
       "    <tr>\n",
       "      <th>0</th>\n",
       "      <td>447</td>\n",
       "      <td>7654</td>\n",
       "      <td>39672</td>\n",
       "      <td>6105</td>\n",
       "      <td>1</td>\n",
       "      <td>1</td>\n",
       "      <td>2</td>\n",
       "      <td>0</td>\n",
       "      <td>1</td>\n",
       "      <td>1</td>\n",
       "      <td>...</td>\n",
       "      <td>0</td>\n",
       "      <td>0</td>\n",
       "      <td>0</td>\n",
       "      <td>0</td>\n",
       "      <td>0</td>\n",
       "      <td>0</td>\n",
       "      <td>0</td>\n",
       "      <td>0</td>\n",
       "      <td>0</td>\n",
       "      <td>0</td>\n",
       "    </tr>\n",
       "    <tr>\n",
       "      <th>1</th>\n",
       "      <td>216</td>\n",
       "      <td>8255</td>\n",
       "      <td>36691</td>\n",
       "      <td>5783</td>\n",
       "      <td>1</td>\n",
       "      <td>1</td>\n",
       "      <td>2</td>\n",
       "      <td>7</td>\n",
       "      <td>3</td>\n",
       "      <td>2</td>\n",
       "      <td>...</td>\n",
       "      <td>0</td>\n",
       "      <td>0</td>\n",
       "      <td>0</td>\n",
       "      <td>0</td>\n",
       "      <td>0</td>\n",
       "      <td>0</td>\n",
       "      <td>0</td>\n",
       "      <td>0</td>\n",
       "      <td>0</td>\n",
       "      <td>0</td>\n",
       "    </tr>\n",
       "    <tr>\n",
       "      <th>2</th>\n",
       "      <td>216</td>\n",
       "      <td>5191</td>\n",
       "      <td>36691</td>\n",
       "      <td>5783</td>\n",
       "      <td>1</td>\n",
       "      <td>1</td>\n",
       "      <td>2</td>\n",
       "      <td>7</td>\n",
       "      <td>3</td>\n",
       "      <td>2</td>\n",
       "      <td>...</td>\n",
       "      <td>0</td>\n",
       "      <td>0</td>\n",
       "      <td>0</td>\n",
       "      <td>0</td>\n",
       "      <td>0</td>\n",
       "      <td>0</td>\n",
       "      <td>0</td>\n",
       "      <td>0</td>\n",
       "      <td>0</td>\n",
       "      <td>0</td>\n",
       "    </tr>\n",
       "    <tr>\n",
       "      <th>3</th>\n",
       "      <td>216</td>\n",
       "      <td>4572</td>\n",
       "      <td>36238</td>\n",
       "      <td>5625</td>\n",
       "      <td>1</td>\n",
       "      <td>1</td>\n",
       "      <td>3</td>\n",
       "      <td>22</td>\n",
       "      <td>2</td>\n",
       "      <td>9</td>\n",
       "      <td>...</td>\n",
       "      <td>0</td>\n",
       "      <td>0</td>\n",
       "      <td>0</td>\n",
       "      <td>0</td>\n",
       "      <td>0</td>\n",
       "      <td>0</td>\n",
       "      <td>0</td>\n",
       "      <td>0</td>\n",
       "      <td>0</td>\n",
       "      <td>0</td>\n",
       "    </tr>\n",
       "    <tr>\n",
       "      <th>4</th>\n",
       "      <td>216</td>\n",
       "      <td>3958</td>\n",
       "      <td>41308</td>\n",
       "      <td>6248</td>\n",
       "      <td>1</td>\n",
       "      <td>1</td>\n",
       "      <td>0</td>\n",
       "      <td>6</td>\n",
       "      <td>16</td>\n",
       "      <td>8</td>\n",
       "      <td>...</td>\n",
       "      <td>0</td>\n",
       "      <td>0</td>\n",
       "      <td>0</td>\n",
       "      <td>0</td>\n",
       "      <td>0</td>\n",
       "      <td>0</td>\n",
       "      <td>0</td>\n",
       "      <td>0</td>\n",
       "      <td>0</td>\n",
       "      <td>0</td>\n",
       "    </tr>\n",
       "  </tbody>\n",
       "</table>\n",
       "<p>5 rows × 114529 columns</p>\n",
       "</div>"
      ],
      "text/plain": [
       "   Gene  Variation  text_char_len  text_words  Gene_Share  Variation_Share  \\\n",
       "0   447       7654          39672        6105           1                1   \n",
       "1   216       8255          36691        5783           1                1   \n",
       "2   216       5191          36691        5783           1                1   \n",
       "3   216       4572          36238        5625           1                1   \n",
       "4   216       3958          41308        6248           1                1   \n",
       "\n",
       "   vec23674  vec158919  vec23682  vec104161      ...       keyvec113403  \\\n",
       "0         2          0         1          1      ...                  0   \n",
       "1         2          7         3          2      ...                  0   \n",
       "2         2          7         3          2      ...                  0   \n",
       "3         3         22         2          9      ...                  0   \n",
       "4         0          6        16          8      ...                  0   \n",
       "\n",
       "   keyvec113404  keyvec113405  keyvec113406  keyvec113407  keyvec113408  \\\n",
       "0             0             0             0             0             0   \n",
       "1             0             0             0             0             0   \n",
       "2             0             0             0             0             0   \n",
       "3             0             0             0             0             0   \n",
       "4             0             0             0             0             0   \n",
       "\n",
       "   keyvec113409  keyvec113410  keyvec113411  keyvec113412  \n",
       "0             0             0             0             0  \n",
       "1             0             0             0             0  \n",
       "2             0             0             0             0  \n",
       "3             0             0             0             0  \n",
       "4             0             0             0             0  \n",
       "\n",
       "[5 rows x 114529 columns]"
      ]
     },
     "execution_count": 218,
     "metadata": {},
     "output_type": "execute_result"
    }
   ],
   "source": [
    "x_train.head()"
   ]
  },
  {
   "cell_type": "code",
   "execution_count": 219,
   "metadata": {
    "collapsed": true
   },
   "outputs": [],
   "source": [
    "Xtrain, Xtest, ytrain, ytest = train_test_split(x_train, y_train, random_state=0)"
   ]
  },
  {
   "cell_type": "markdown",
   "metadata": {},
   "source": [
    "#  Use Random Forest for first quick prediction"
   ]
  },
  {
   "cell_type": "code",
   "execution_count": 220,
   "metadata": {},
   "outputs": [
    {
     "data": {
      "text/plain": [
       "0.67749699157641396"
      ]
     },
     "execution_count": 220,
     "metadata": {},
     "output_type": "execute_result"
    }
   ],
   "source": [
    "from sklearn.ensemble import RandomForestClassifier\n",
    "\n",
    "Xtrain, Xtest, ytrain, ytest = train_test_split(x_train,y_train,random_state=0)\n",
    "clf = RandomForestClassifier(n_estimators=100, random_state=0)\n",
    "clf.fit(Xtrain, ytrain)\n",
    "ypred = clf.predict(Xtest)\n",
    "metrics.accuracy_score(ypred, ytest)"
   ]
  },
  {
   "cell_type": "markdown",
   "metadata": {},
   "source": [
    "# 0.67749699157641396 with the key_text"
   ]
  },
  {
   "cell_type": "markdown",
   "metadata": {},
   "source": [
    "# 0.63658243080625754  with gene share and variation share"
   ]
  },
  {
   "cell_type": "markdown",
   "metadata": {},
   "source": [
    "#  0.64861612515042122  with word count"
   ]
  },
  {
   "cell_type": "markdown",
   "metadata": {},
   "source": [
    "0.63658243080625754 without ID"
   ]
  },
  {
   "cell_type": "markdown",
   "metadata": {},
   "source": [
    "# score was 0.64981949458483756"
   ]
  },
  {
   "cell_type": "markdown",
   "metadata": {},
   "source": [
    "##  the score was 0.6534296028880866"
   ]
  },
  {
   "cell_type": "markdown",
   "metadata": {},
   "source": [
    "## 0.638 was the internal evaluatin score without tdif."
   ]
  },
  {
   "cell_type": "code",
   "execution_count": 221,
   "metadata": {
    "collapsed": true
   },
   "outputs": [],
   "source": [
    "proba = clf.predict_proba(x_test)"
   ]
  },
  {
   "cell_type": "code",
   "execution_count": 222,
   "metadata": {
    "collapsed": true
   },
   "outputs": [],
   "source": [
    "df = pd.DataFrame(proba)"
   ]
  },
  {
   "cell_type": "code",
   "execution_count": 223,
   "metadata": {},
   "outputs": [
    {
     "data": {
      "text/html": [
       "<div>\n",
       "<table border=\"1\" class=\"dataframe\">\n",
       "  <thead>\n",
       "    <tr style=\"text-align: right;\">\n",
       "      <th></th>\n",
       "      <th>0</th>\n",
       "      <th>1</th>\n",
       "      <th>2</th>\n",
       "      <th>3</th>\n",
       "      <th>4</th>\n",
       "      <th>5</th>\n",
       "      <th>6</th>\n",
       "      <th>7</th>\n",
       "      <th>8</th>\n",
       "    </tr>\n",
       "  </thead>\n",
       "  <tbody>\n",
       "    <tr>\n",
       "      <th>0</th>\n",
       "      <td>0.08</td>\n",
       "      <td>0.18</td>\n",
       "      <td>0.03</td>\n",
       "      <td>0.05</td>\n",
       "      <td>0.02</td>\n",
       "      <td>0.05</td>\n",
       "      <td>0.56</td>\n",
       "      <td>0.01</td>\n",
       "      <td>0.02</td>\n",
       "    </tr>\n",
       "    <tr>\n",
       "      <th>1</th>\n",
       "      <td>0.18</td>\n",
       "      <td>0.08</td>\n",
       "      <td>0.02</td>\n",
       "      <td>0.30</td>\n",
       "      <td>0.02</td>\n",
       "      <td>0.03</td>\n",
       "      <td>0.33</td>\n",
       "      <td>0.01</td>\n",
       "      <td>0.03</td>\n",
       "    </tr>\n",
       "    <tr>\n",
       "      <th>2</th>\n",
       "      <td>0.11</td>\n",
       "      <td>0.12</td>\n",
       "      <td>0.00</td>\n",
       "      <td>0.09</td>\n",
       "      <td>0.03</td>\n",
       "      <td>0.03</td>\n",
       "      <td>0.62</td>\n",
       "      <td>0.00</td>\n",
       "      <td>0.00</td>\n",
       "    </tr>\n",
       "    <tr>\n",
       "      <th>3</th>\n",
       "      <td>0.09</td>\n",
       "      <td>0.13</td>\n",
       "      <td>0.03</td>\n",
       "      <td>0.18</td>\n",
       "      <td>0.03</td>\n",
       "      <td>0.05</td>\n",
       "      <td>0.47</td>\n",
       "      <td>0.00</td>\n",
       "      <td>0.02</td>\n",
       "    </tr>\n",
       "    <tr>\n",
       "      <th>4</th>\n",
       "      <td>0.13</td>\n",
       "      <td>0.11</td>\n",
       "      <td>0.03</td>\n",
       "      <td>0.13</td>\n",
       "      <td>0.01</td>\n",
       "      <td>0.03</td>\n",
       "      <td>0.53</td>\n",
       "      <td>0.02</td>\n",
       "      <td>0.01</td>\n",
       "    </tr>\n",
       "  </tbody>\n",
       "</table>\n",
       "</div>"
      ],
      "text/plain": [
       "      0     1     2     3     4     5     6     7     8\n",
       "0  0.08  0.18  0.03  0.05  0.02  0.05  0.56  0.01  0.02\n",
       "1  0.18  0.08  0.02  0.30  0.02  0.03  0.33  0.01  0.03\n",
       "2  0.11  0.12  0.00  0.09  0.03  0.03  0.62  0.00  0.00\n",
       "3  0.09  0.13  0.03  0.18  0.03  0.05  0.47  0.00  0.02\n",
       "4  0.13  0.11  0.03  0.13  0.01  0.03  0.53  0.02  0.01"
      ]
     },
     "execution_count": 223,
     "metadata": {},
     "output_type": "execute_result"
    }
   ],
   "source": [
    "df.head()"
   ]
  },
  {
   "cell_type": "code",
   "execution_count": 224,
   "metadata": {
    "collapsed": true
   },
   "outputs": [],
   "source": [
    "class_name = ['class1', 'class2', 'class3', 'class4', 'class5', 'class6',\n",
    "       'class7', 'class8', 'class9']"
   ]
  },
  {
   "cell_type": "code",
   "execution_count": 225,
   "metadata": {
    "collapsed": true
   },
   "outputs": [],
   "source": [
    "df.columns = class_name"
   ]
  },
  {
   "cell_type": "code",
   "execution_count": 226,
   "metadata": {},
   "outputs": [
    {
     "data": {
      "text/html": [
       "<div>\n",
       "<table border=\"1\" class=\"dataframe\">\n",
       "  <thead>\n",
       "    <tr style=\"text-align: right;\">\n",
       "      <th></th>\n",
       "      <th>class1</th>\n",
       "      <th>class2</th>\n",
       "      <th>class3</th>\n",
       "      <th>class4</th>\n",
       "      <th>class5</th>\n",
       "      <th>class6</th>\n",
       "      <th>class7</th>\n",
       "      <th>class8</th>\n",
       "      <th>class9</th>\n",
       "    </tr>\n",
       "  </thead>\n",
       "  <tbody>\n",
       "    <tr>\n",
       "      <th>0</th>\n",
       "      <td>0.08</td>\n",
       "      <td>0.18</td>\n",
       "      <td>0.03</td>\n",
       "      <td>0.05</td>\n",
       "      <td>0.02</td>\n",
       "      <td>0.05</td>\n",
       "      <td>0.56</td>\n",
       "      <td>0.01</td>\n",
       "      <td>0.02</td>\n",
       "    </tr>\n",
       "    <tr>\n",
       "      <th>1</th>\n",
       "      <td>0.18</td>\n",
       "      <td>0.08</td>\n",
       "      <td>0.02</td>\n",
       "      <td>0.30</td>\n",
       "      <td>0.02</td>\n",
       "      <td>0.03</td>\n",
       "      <td>0.33</td>\n",
       "      <td>0.01</td>\n",
       "      <td>0.03</td>\n",
       "    </tr>\n",
       "    <tr>\n",
       "      <th>2</th>\n",
       "      <td>0.11</td>\n",
       "      <td>0.12</td>\n",
       "      <td>0.00</td>\n",
       "      <td>0.09</td>\n",
       "      <td>0.03</td>\n",
       "      <td>0.03</td>\n",
       "      <td>0.62</td>\n",
       "      <td>0.00</td>\n",
       "      <td>0.00</td>\n",
       "    </tr>\n",
       "    <tr>\n",
       "      <th>3</th>\n",
       "      <td>0.09</td>\n",
       "      <td>0.13</td>\n",
       "      <td>0.03</td>\n",
       "      <td>0.18</td>\n",
       "      <td>0.03</td>\n",
       "      <td>0.05</td>\n",
       "      <td>0.47</td>\n",
       "      <td>0.00</td>\n",
       "      <td>0.02</td>\n",
       "    </tr>\n",
       "    <tr>\n",
       "      <th>4</th>\n",
       "      <td>0.13</td>\n",
       "      <td>0.11</td>\n",
       "      <td>0.03</td>\n",
       "      <td>0.13</td>\n",
       "      <td>0.01</td>\n",
       "      <td>0.03</td>\n",
       "      <td>0.53</td>\n",
       "      <td>0.02</td>\n",
       "      <td>0.01</td>\n",
       "    </tr>\n",
       "  </tbody>\n",
       "</table>\n",
       "</div>"
      ],
      "text/plain": [
       "   class1  class2  class3  class4  class5  class6  class7  class8  class9\n",
       "0    0.08    0.18    0.03    0.05    0.02    0.05    0.56    0.01    0.02\n",
       "1    0.18    0.08    0.02    0.30    0.02    0.03    0.33    0.01    0.03\n",
       "2    0.11    0.12    0.00    0.09    0.03    0.03    0.62    0.00    0.00\n",
       "3    0.09    0.13    0.03    0.18    0.03    0.05    0.47    0.00    0.02\n",
       "4    0.13    0.11    0.03    0.13    0.01    0.03    0.53    0.02    0.01"
      ]
     },
     "execution_count": 226,
     "metadata": {},
     "output_type": "execute_result"
    }
   ],
   "source": [
    "df.head()"
   ]
  },
  {
   "cell_type": "code",
   "execution_count": 227,
   "metadata": {
    "collapsed": true
   },
   "outputs": [],
   "source": [
    "df.to_csv('test1.csv')"
   ]
  },
  {
   "cell_type": "code",
   "execution_count": 228,
   "metadata": {
    "collapsed": true
   },
   "outputs": [],
   "source": [
    "df = pd.read_csv('test1.csv')"
   ]
  },
  {
   "cell_type": "code",
   "execution_count": 229,
   "metadata": {},
   "outputs": [
    {
     "data": {
      "text/html": [
       "<div>\n",
       "<table border=\"1\" class=\"dataframe\">\n",
       "  <thead>\n",
       "    <tr style=\"text-align: right;\">\n",
       "      <th></th>\n",
       "      <th>Unnamed: 0</th>\n",
       "      <th>class1</th>\n",
       "      <th>class2</th>\n",
       "      <th>class3</th>\n",
       "      <th>class4</th>\n",
       "      <th>class5</th>\n",
       "      <th>class6</th>\n",
       "      <th>class7</th>\n",
       "      <th>class8</th>\n",
       "      <th>class9</th>\n",
       "    </tr>\n",
       "  </thead>\n",
       "  <tbody>\n",
       "    <tr>\n",
       "      <th>0</th>\n",
       "      <td>0</td>\n",
       "      <td>0.08</td>\n",
       "      <td>0.18</td>\n",
       "      <td>0.03</td>\n",
       "      <td>0.05</td>\n",
       "      <td>0.02</td>\n",
       "      <td>0.05</td>\n",
       "      <td>0.56</td>\n",
       "      <td>0.01</td>\n",
       "      <td>0.02</td>\n",
       "    </tr>\n",
       "    <tr>\n",
       "      <th>1</th>\n",
       "      <td>1</td>\n",
       "      <td>0.18</td>\n",
       "      <td>0.08</td>\n",
       "      <td>0.02</td>\n",
       "      <td>0.30</td>\n",
       "      <td>0.02</td>\n",
       "      <td>0.03</td>\n",
       "      <td>0.33</td>\n",
       "      <td>0.01</td>\n",
       "      <td>0.03</td>\n",
       "    </tr>\n",
       "    <tr>\n",
       "      <th>2</th>\n",
       "      <td>2</td>\n",
       "      <td>0.11</td>\n",
       "      <td>0.12</td>\n",
       "      <td>0.00</td>\n",
       "      <td>0.09</td>\n",
       "      <td>0.03</td>\n",
       "      <td>0.03</td>\n",
       "      <td>0.62</td>\n",
       "      <td>0.00</td>\n",
       "      <td>0.00</td>\n",
       "    </tr>\n",
       "    <tr>\n",
       "      <th>3</th>\n",
       "      <td>3</td>\n",
       "      <td>0.09</td>\n",
       "      <td>0.13</td>\n",
       "      <td>0.03</td>\n",
       "      <td>0.18</td>\n",
       "      <td>0.03</td>\n",
       "      <td>0.05</td>\n",
       "      <td>0.47</td>\n",
       "      <td>0.00</td>\n",
       "      <td>0.02</td>\n",
       "    </tr>\n",
       "    <tr>\n",
       "      <th>4</th>\n",
       "      <td>4</td>\n",
       "      <td>0.13</td>\n",
       "      <td>0.11</td>\n",
       "      <td>0.03</td>\n",
       "      <td>0.13</td>\n",
       "      <td>0.01</td>\n",
       "      <td>0.03</td>\n",
       "      <td>0.53</td>\n",
       "      <td>0.02</td>\n",
       "      <td>0.01</td>\n",
       "    </tr>\n",
       "  </tbody>\n",
       "</table>\n",
       "</div>"
      ],
      "text/plain": [
       "   Unnamed: 0  class1  class2  class3  class4  class5  class6  class7  class8  \\\n",
       "0           0    0.08    0.18    0.03    0.05    0.02    0.05    0.56    0.01   \n",
       "1           1    0.18    0.08    0.02    0.30    0.02    0.03    0.33    0.01   \n",
       "2           2    0.11    0.12    0.00    0.09    0.03    0.03    0.62    0.00   \n",
       "3           3    0.09    0.13    0.03    0.18    0.03    0.05    0.47    0.00   \n",
       "4           4    0.13    0.11    0.03    0.13    0.01    0.03    0.53    0.02   \n",
       "\n",
       "   class9  \n",
       "0    0.02  \n",
       "1    0.03  \n",
       "2    0.00  \n",
       "3    0.02  \n",
       "4    0.01  "
      ]
     },
     "execution_count": 229,
     "metadata": {},
     "output_type": "execute_result"
    }
   ],
   "source": [
    "df.head()"
   ]
  },
  {
   "cell_type": "code",
   "execution_count": 230,
   "metadata": {
    "collapsed": true
   },
   "outputs": [],
   "source": [
    "submission_columns = ['ID', 'class1', 'class2', 'class3', 'class4', 'class5', 'class6',\n",
    "       'class7', 'class8', 'class9']"
   ]
  },
  {
   "cell_type": "code",
   "execution_count": 231,
   "metadata": {
    "collapsed": true
   },
   "outputs": [],
   "source": [
    "df.columns = submission_columns"
   ]
  },
  {
   "cell_type": "code",
   "execution_count": 232,
   "metadata": {},
   "outputs": [
    {
     "data": {
      "text/html": [
       "<div>\n",
       "<table border=\"1\" class=\"dataframe\">\n",
       "  <thead>\n",
       "    <tr style=\"text-align: right;\">\n",
       "      <th></th>\n",
       "      <th>ID</th>\n",
       "      <th>class1</th>\n",
       "      <th>class2</th>\n",
       "      <th>class3</th>\n",
       "      <th>class4</th>\n",
       "      <th>class5</th>\n",
       "      <th>class6</th>\n",
       "      <th>class7</th>\n",
       "      <th>class8</th>\n",
       "      <th>class9</th>\n",
       "    </tr>\n",
       "  </thead>\n",
       "  <tbody>\n",
       "    <tr>\n",
       "      <th>0</th>\n",
       "      <td>0</td>\n",
       "      <td>0.08</td>\n",
       "      <td>0.18</td>\n",
       "      <td>0.03</td>\n",
       "      <td>0.05</td>\n",
       "      <td>0.02</td>\n",
       "      <td>0.05</td>\n",
       "      <td>0.56</td>\n",
       "      <td>0.01</td>\n",
       "      <td>0.02</td>\n",
       "    </tr>\n",
       "    <tr>\n",
       "      <th>1</th>\n",
       "      <td>1</td>\n",
       "      <td>0.18</td>\n",
       "      <td>0.08</td>\n",
       "      <td>0.02</td>\n",
       "      <td>0.30</td>\n",
       "      <td>0.02</td>\n",
       "      <td>0.03</td>\n",
       "      <td>0.33</td>\n",
       "      <td>0.01</td>\n",
       "      <td>0.03</td>\n",
       "    </tr>\n",
       "    <tr>\n",
       "      <th>2</th>\n",
       "      <td>2</td>\n",
       "      <td>0.11</td>\n",
       "      <td>0.12</td>\n",
       "      <td>0.00</td>\n",
       "      <td>0.09</td>\n",
       "      <td>0.03</td>\n",
       "      <td>0.03</td>\n",
       "      <td>0.62</td>\n",
       "      <td>0.00</td>\n",
       "      <td>0.00</td>\n",
       "    </tr>\n",
       "    <tr>\n",
       "      <th>3</th>\n",
       "      <td>3</td>\n",
       "      <td>0.09</td>\n",
       "      <td>0.13</td>\n",
       "      <td>0.03</td>\n",
       "      <td>0.18</td>\n",
       "      <td>0.03</td>\n",
       "      <td>0.05</td>\n",
       "      <td>0.47</td>\n",
       "      <td>0.00</td>\n",
       "      <td>0.02</td>\n",
       "    </tr>\n",
       "    <tr>\n",
       "      <th>4</th>\n",
       "      <td>4</td>\n",
       "      <td>0.13</td>\n",
       "      <td>0.11</td>\n",
       "      <td>0.03</td>\n",
       "      <td>0.13</td>\n",
       "      <td>0.01</td>\n",
       "      <td>0.03</td>\n",
       "      <td>0.53</td>\n",
       "      <td>0.02</td>\n",
       "      <td>0.01</td>\n",
       "    </tr>\n",
       "  </tbody>\n",
       "</table>\n",
       "</div>"
      ],
      "text/plain": [
       "   ID  class1  class2  class3  class4  class5  class6  class7  class8  class9\n",
       "0   0    0.08    0.18    0.03    0.05    0.02    0.05    0.56    0.01    0.02\n",
       "1   1    0.18    0.08    0.02    0.30    0.02    0.03    0.33    0.01    0.03\n",
       "2   2    0.11    0.12    0.00    0.09    0.03    0.03    0.62    0.00    0.00\n",
       "3   3    0.09    0.13    0.03    0.18    0.03    0.05    0.47    0.00    0.02\n",
       "4   4    0.13    0.11    0.03    0.13    0.01    0.03    0.53    0.02    0.01"
      ]
     },
     "execution_count": 232,
     "metadata": {},
     "output_type": "execute_result"
    }
   ],
   "source": [
    "df.head()"
   ]
  },
  {
   "cell_type": "code",
   "execution_count": 233,
   "metadata": {
    "collapsed": true
   },
   "outputs": [],
   "source": [
    "df.to_csv('with_key_RF_ver5.csv', index = False)"
   ]
  },
  {
   "cell_type": "markdown",
   "metadata": {},
   "source": [
    "# 0.66194 at Kaggle"
   ]
  },
  {
   "cell_type": "code",
   "execution_count": null,
   "metadata": {
    "collapsed": true
   },
   "outputs": [],
   "source": []
  }
 ],
 "metadata": {
  "kernelspec": {
   "display_name": "Python [default]",
   "language": "python",
   "name": "python3"
  },
  "language_info": {
   "codemirror_mode": {
    "name": "ipython",
    "version": 3
   },
   "file_extension": ".py",
   "mimetype": "text/x-python",
   "name": "python",
   "nbconvert_exporter": "python",
   "pygments_lexer": "ipython3",
   "version": "3.5.3"
  }
 },
 "nbformat": 4,
 "nbformat_minor": 2
}
